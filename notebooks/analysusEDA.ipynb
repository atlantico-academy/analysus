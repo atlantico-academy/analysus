{
  "nbformat": 4,
  "nbformat_minor": 0,
  "metadata": {
    "colab": {
      "name": "analysusEDA final 001.ipynb",
      "provenance": [],
      "collapsed_sections": [
        "bu-untiaXxYO",
        "eiMlvfhTamXs",
        "FGPmVRi6uhgd"
      ]
    },
    "kernelspec": {
      "name": "python3",
      "display_name": "Python 3"
    },
    "language_info": {
      "name": "python"
    },
    "widgets": {
      "application/vnd.jupyter.widget-state+json": {
        "aa8dea03c7064615b305712686ac75a7": {
          "model_module": "@jupyter-widgets/controls",
          "model_name": "HBoxModel",
          "model_module_version": "1.5.0",
          "state": {
            "_dom_classes": [],
            "_model_module": "@jupyter-widgets/controls",
            "_model_module_version": "1.5.0",
            "_model_name": "HBoxModel",
            "_view_count": null,
            "_view_module": "@jupyter-widgets/controls",
            "_view_module_version": "1.5.0",
            "_view_name": "HBoxView",
            "box_style": "",
            "children": [
              "IPY_MODEL_4253da3c59a545daa5359c4f979e61a4",
              "IPY_MODEL_b73de640b47d4958b3bbda29588426a3",
              "IPY_MODEL_333ff80a05ff49e493a427e6a2f5ee4d"
            ],
            "layout": "IPY_MODEL_b3af59eda6e44d98a74f56458e777d4f"
          }
        },
        "4253da3c59a545daa5359c4f979e61a4": {
          "model_module": "@jupyter-widgets/controls",
          "model_name": "HTMLModel",
          "model_module_version": "1.5.0",
          "state": {
            "_dom_classes": [],
            "_model_module": "@jupyter-widgets/controls",
            "_model_module_version": "1.5.0",
            "_model_name": "HTMLModel",
            "_view_count": null,
            "_view_module": "@jupyter-widgets/controls",
            "_view_module_version": "1.5.0",
            "_view_name": "HTMLView",
            "description": "",
            "description_tooltip": null,
            "layout": "IPY_MODEL_46c421abaf1443d19dc9e208dee310c3",
            "placeholder": "​",
            "style": "IPY_MODEL_7d7fdaa65ffa444c9995ea160c9cf37e",
            "value": "Done! Use &#x27;show&#x27; commands to display/save.   "
          }
        },
        "b73de640b47d4958b3bbda29588426a3": {
          "model_module": "@jupyter-widgets/controls",
          "model_name": "FloatProgressModel",
          "model_module_version": "1.5.0",
          "state": {
            "_dom_classes": [],
            "_model_module": "@jupyter-widgets/controls",
            "_model_module_version": "1.5.0",
            "_model_name": "FloatProgressModel",
            "_view_count": null,
            "_view_module": "@jupyter-widgets/controls",
            "_view_module_version": "1.5.0",
            "_view_name": "ProgressView",
            "bar_style": "success",
            "description": "",
            "description_tooltip": null,
            "layout": "IPY_MODEL_effb018d4a2a460aaac56f384f47e926",
            "max": 1,
            "min": 0,
            "orientation": "horizontal",
            "style": "IPY_MODEL_c79f67cdf67a41c690849f0956cc4599",
            "value": 1
          }
        },
        "333ff80a05ff49e493a427e6a2f5ee4d": {
          "model_module": "@jupyter-widgets/controls",
          "model_name": "HTMLModel",
          "model_module_version": "1.5.0",
          "state": {
            "_dom_classes": [],
            "_model_module": "@jupyter-widgets/controls",
            "_model_module_version": "1.5.0",
            "_model_name": "HTMLModel",
            "_view_count": null,
            "_view_module": "@jupyter-widgets/controls",
            "_view_module_version": "1.5.0",
            "_view_name": "HTMLView",
            "description": "",
            "description_tooltip": null,
            "layout": "IPY_MODEL_586841882d6e485bb3bf1ea54287ecc9",
            "placeholder": "​",
            "style": "IPY_MODEL_9ad0e5ccce7048118ac401197b8694db",
            "value": " [100%]   00:01 -&gt; (00:00 left)"
          }
        },
        "b3af59eda6e44d98a74f56458e777d4f": {
          "model_module": "@jupyter-widgets/base",
          "model_name": "LayoutModel",
          "model_module_version": "1.2.0",
          "state": {
            "_model_module": "@jupyter-widgets/base",
            "_model_module_version": "1.2.0",
            "_model_name": "LayoutModel",
            "_view_count": null,
            "_view_module": "@jupyter-widgets/base",
            "_view_module_version": "1.2.0",
            "_view_name": "LayoutView",
            "align_content": null,
            "align_items": null,
            "align_self": null,
            "border": null,
            "bottom": null,
            "display": "inline-flex",
            "flex": null,
            "flex_flow": "row wrap",
            "grid_area": null,
            "grid_auto_columns": null,
            "grid_auto_flow": null,
            "grid_auto_rows": null,
            "grid_column": null,
            "grid_gap": null,
            "grid_row": null,
            "grid_template_areas": null,
            "grid_template_columns": null,
            "grid_template_rows": null,
            "height": null,
            "justify_content": null,
            "justify_items": null,
            "left": null,
            "margin": null,
            "max_height": null,
            "max_width": null,
            "min_height": null,
            "min_width": null,
            "object_fit": null,
            "object_position": null,
            "order": null,
            "overflow": null,
            "overflow_x": null,
            "overflow_y": null,
            "padding": null,
            "right": null,
            "top": null,
            "visibility": null,
            "width": "100%"
          }
        },
        "46c421abaf1443d19dc9e208dee310c3": {
          "model_module": "@jupyter-widgets/base",
          "model_name": "LayoutModel",
          "model_module_version": "1.2.0",
          "state": {
            "_model_module": "@jupyter-widgets/base",
            "_model_module_version": "1.2.0",
            "_model_name": "LayoutModel",
            "_view_count": null,
            "_view_module": "@jupyter-widgets/base",
            "_view_module_version": "1.2.0",
            "_view_name": "LayoutView",
            "align_content": null,
            "align_items": null,
            "align_self": null,
            "border": null,
            "bottom": null,
            "display": null,
            "flex": null,
            "flex_flow": null,
            "grid_area": null,
            "grid_auto_columns": null,
            "grid_auto_flow": null,
            "grid_auto_rows": null,
            "grid_column": null,
            "grid_gap": null,
            "grid_row": null,
            "grid_template_areas": null,
            "grid_template_columns": null,
            "grid_template_rows": null,
            "height": null,
            "justify_content": null,
            "justify_items": null,
            "left": null,
            "margin": null,
            "max_height": null,
            "max_width": null,
            "min_height": null,
            "min_width": null,
            "object_fit": null,
            "object_position": null,
            "order": null,
            "overflow": null,
            "overflow_x": null,
            "overflow_y": null,
            "padding": null,
            "right": null,
            "top": null,
            "visibility": null,
            "width": null
          }
        },
        "7d7fdaa65ffa444c9995ea160c9cf37e": {
          "model_module": "@jupyter-widgets/controls",
          "model_name": "DescriptionStyleModel",
          "model_module_version": "1.5.0",
          "state": {
            "_model_module": "@jupyter-widgets/controls",
            "_model_module_version": "1.5.0",
            "_model_name": "DescriptionStyleModel",
            "_view_count": null,
            "_view_module": "@jupyter-widgets/base",
            "_view_module_version": "1.2.0",
            "_view_name": "StyleView",
            "description_width": ""
          }
        },
        "effb018d4a2a460aaac56f384f47e926": {
          "model_module": "@jupyter-widgets/base",
          "model_name": "LayoutModel",
          "model_module_version": "1.2.0",
          "state": {
            "_model_module": "@jupyter-widgets/base",
            "_model_module_version": "1.2.0",
            "_model_name": "LayoutModel",
            "_view_count": null,
            "_view_module": "@jupyter-widgets/base",
            "_view_module_version": "1.2.0",
            "_view_name": "LayoutView",
            "align_content": null,
            "align_items": null,
            "align_self": null,
            "border": null,
            "bottom": null,
            "display": null,
            "flex": "2",
            "flex_flow": null,
            "grid_area": null,
            "grid_auto_columns": null,
            "grid_auto_flow": null,
            "grid_auto_rows": null,
            "grid_column": null,
            "grid_gap": null,
            "grid_row": null,
            "grid_template_areas": null,
            "grid_template_columns": null,
            "grid_template_rows": null,
            "height": null,
            "justify_content": null,
            "justify_items": null,
            "left": null,
            "margin": null,
            "max_height": null,
            "max_width": null,
            "min_height": null,
            "min_width": null,
            "object_fit": null,
            "object_position": null,
            "order": null,
            "overflow": null,
            "overflow_x": null,
            "overflow_y": null,
            "padding": null,
            "right": null,
            "top": null,
            "visibility": null,
            "width": null
          }
        },
        "c79f67cdf67a41c690849f0956cc4599": {
          "model_module": "@jupyter-widgets/controls",
          "model_name": "ProgressStyleModel",
          "model_module_version": "1.5.0",
          "state": {
            "_model_module": "@jupyter-widgets/controls",
            "_model_module_version": "1.5.0",
            "_model_name": "ProgressStyleModel",
            "_view_count": null,
            "_view_module": "@jupyter-widgets/base",
            "_view_module_version": "1.2.0",
            "_view_name": "StyleView",
            "bar_color": null,
            "description_width": ""
          }
        },
        "586841882d6e485bb3bf1ea54287ecc9": {
          "model_module": "@jupyter-widgets/base",
          "model_name": "LayoutModel",
          "model_module_version": "1.2.0",
          "state": {
            "_model_module": "@jupyter-widgets/base",
            "_model_module_version": "1.2.0",
            "_model_name": "LayoutModel",
            "_view_count": null,
            "_view_module": "@jupyter-widgets/base",
            "_view_module_version": "1.2.0",
            "_view_name": "LayoutView",
            "align_content": null,
            "align_items": null,
            "align_self": null,
            "border": null,
            "bottom": null,
            "display": null,
            "flex": null,
            "flex_flow": null,
            "grid_area": null,
            "grid_auto_columns": null,
            "grid_auto_flow": null,
            "grid_auto_rows": null,
            "grid_column": null,
            "grid_gap": null,
            "grid_row": null,
            "grid_template_areas": null,
            "grid_template_columns": null,
            "grid_template_rows": null,
            "height": null,
            "justify_content": null,
            "justify_items": null,
            "left": null,
            "margin": null,
            "max_height": null,
            "max_width": null,
            "min_height": null,
            "min_width": null,
            "object_fit": null,
            "object_position": null,
            "order": null,
            "overflow": null,
            "overflow_x": null,
            "overflow_y": null,
            "padding": null,
            "right": null,
            "top": null,
            "visibility": null,
            "width": null
          }
        },
        "9ad0e5ccce7048118ac401197b8694db": {
          "model_module": "@jupyter-widgets/controls",
          "model_name": "DescriptionStyleModel",
          "model_module_version": "1.5.0",
          "state": {
            "_model_module": "@jupyter-widgets/controls",
            "_model_module_version": "1.5.0",
            "_model_name": "DescriptionStyleModel",
            "_view_count": null,
            "_view_module": "@jupyter-widgets/base",
            "_view_module_version": "1.2.0",
            "_view_name": "StyleView",
            "description_width": ""
          }
        }
      }
    }
  },
  "cells": [
    {
      "cell_type": "markdown",
      "source": [
        "#Descrição dos dados - Base de Dados Completos"
      ],
      "metadata": {
        "id": "bu-untiaXxYO"
      }
    },
    {
      "cell_type": "code",
      "source": [
        "# coding: utf-8\n",
        "\"\"\"\n",
        "Mapeamento de Arquivos\n",
        "\"\"\"\n",
        "INTERNACOES = '../data/raw/internacoes.csv'"
      ],
      "metadata": {
        "id": "Py9NqZ3VX5ZH"
      },
      "execution_count": null,
      "outputs": []
    },
    {
      "cell_type": "markdown",
      "source": [
        " | NOME DO CAMPO | Descrição | Observações |\n",
        " | --- | --- | --- |\n",
        " | UF_ZI | Município Gestor. | 168 valores distintos\n",
        " | ANO_CMPT | Ano de processamento da AIH, no formato aaaa. | [2014 - 2019]\n",
        " | MES_CMPT | Mês de processamento da AIH, no formato mm. | [1 - 12]\n",
        " | ESPEC | Especialidade do Leito | 13 valores distintos\n",
        " | CGC_HOSP | CNPJ do Estabelecimento. | 720.735 valores NaN e 124 valores distintos\n",
        " | N_AIH | Número da AIH. | \n",
        " | IDENT | Identificação do tipo da AIH. | 2 valores distintos [1, 5]\n",
        " | CEP | CEP do paciente. | \n",
        " | MUNIC_RES | Município de Residência do Paciente | 1.633 valores distintos\n",
        " | NASC | Data de nascimento do paciente (aaaammdd). | \n",
        " | SEXO | Sexo do paciente. | 2 valores distintos [1, 3]\n",
        " | UTI_MES_TO | Quantidade de dias de UTI no mês. | 142 valores distintos e 2.824.357 valores zerados\n",
        " | MARCA_UTI | Indica qual o tipo de UTI utilizada pelo paciente. | 10 valores distintos\n",
        " | UTI_INT_TO | Quantidade de diárias em unidade intermediaria. | 2.912.201 valores zerados e 101 valores distintos\n",
        " | DIAR_ACOM | Quantidade de diárias de acompanhante. | 141 valores distintos\n",
        " | QT_DIARIAS | Quantidade de diárias. | \n",
        " | PROC_SOLIC | Procedimento solicitado. | 1.624 valores distintos\n",
        " | PROC_REA | Procedimento realizado. | 1.597 valores distintos\n",
        " | VAL_SH |  Valor de serviços hospitalares. | \n",
        " | VAL_SP |  Valor de serviços profissionais. | \n",
        " | VAL_TOT |  Valor total da AIH. | \n",
        " | VAL_UTI |  Valor de UTI. | \n",
        " | DT_INTER | Data de internação no formato aaammdd. | \n",
        " | DT_SAIDA | Data de saída, no formato aaaammdd. | \n",
        " | DIAG_PRINC | Código do diagnóstico principal (CID10). | Diversos valores distintos\n",
        " | COBRANCA | Motivo de Saída/Permanência | Diversos valores distintos\n",
        " | NATUREZA | Natureza jurídica do hospital (com conteúdo até maio/12). Era utilizada a classificação de Regime e Natureza. | 7 valores distintos\n",
        " | NAT_JUR | Natureza jurídica do Estabelecimento, conforme a Comissão Nacional de Classificação - CONCLA | 14 valores distintos\n",
        " | GESTAO | Indica o tipo de gestão do hospital. | 2 valores distintos [1, 2]\n",
        " | IND_VDRL | Indica exame VDRL. | 2 valores distintos [0, 1]\n",
        " | MUNIC_MOV | Município do Estabelecimento. | 167 valores distintos\n",
        " | COD_IDADE | Unidade de medida da idade. | 4 valores distintos [2, 3, 4, 5]\n",
        " | IDADE | Idade. | 100 valores distintos\n",
        " | DIAS_PERM | Dias de Permanência. | 223 valores distintos\n",
        " | MORTE | Indica Óbito | 2 valores distintos [0, 1]\n",
        " | NACIONAL | Código da nacionalidade do paciente. | 106 valores distintos com um em destaque\n",
        " | CAR_INT | Caráter da internação. | 4 valores distintos [1, 2, 5, 6]\n",
        " | HOMONIMO | Indicador se o paciente da AIH é homônimo do paciente de outra AIH. | 2 valores distintos [0, 2]\n",
        " | INSTRU | Grau de instrução do paciente. | 5 valores distintos [0 - 4]\n",
        " | GESTRISCO | Indicador se é gestante de risco. | 2 valores distintos [0, 1]\n",
        " | CNES | Código CNES do hospital. | 253 valores distintos\n",
        " | CNPJ_MANT | CNPJ da mantenedora. | 160 valores distintos e 984.932 valores NaN\n",
        " | CID_ASSO | CID causa. | 219 valores distintos e 483.917 valores NaN\n",
        " | CID_MORTE | CID da morte. | 1.035 valores distintos\n",
        " | COMPLEX | Complexidade. | 2 valores distintos [2, 3]\n",
        " | FINANC | Tipo de financiamento. | 2 valores distintos [4, 6]\n",
        " | REGCT | Regra contratual. | 5 valores distintos\n",
        " | RACA_COR | Raça/Cor do paciente. | 6 valores distintos [1, 2, 3, 4, 5, 99]\n",
        " | SEQUENCIA | Sequencial da AIH na remessa. | 25.119 valores distintos\n",
        " | REMESSA | Número da remessa. | 11.308 valores distintos\n",
        " | IDADE_REAL | Idade em Anos dos pacientes\n",
        "\n",
        " - A base possui 2.956.343 registros\n",
        " - 51 Colunas"
      ],
      "metadata": {
        "id": "ME_IDKO_asLm"
      }
    },
    {
      "cell_type": "code",
      "source": [
        "import pandas as pd\n",
        "\n",
        "df = pd.read_csv(INTERNACOES)\n",
        "df.head()"
      ],
      "metadata": {
        "id": "JN_h0nL8av-E"
      },
      "execution_count": null,
      "outputs": []
    },
    {
      "cell_type": "code",
      "source": [
        "import numpy as np\n",
        "from matplotlib import pyplot as plt\n",
        "\n",
        "a = df[(df.SEXO == ' Masculino')].IDADE_REAL\n",
        "b = df[(df.SEXO == ' Feminino')].IDADE_REAL\n",
        "\n",
        "plt.hist(a, alpha=0.5, label='Masculino', bins=100)\n",
        "plt.hist(b, alpha=0.5, label='Feminino', bins=100)\n",
        "plt.legend(loc='upper left')\n",
        "plt.show()"
      ],
      "metadata": {
        "id": "ndtl0cA8a6sK"
      },
      "execution_count": null,
      "outputs": []
    },
    {
      "cell_type": "markdown",
      "source": [
        "##Limpeza de Dados"
      ],
      "metadata": {
        "id": "s8xMdxZM93Rv"
      }
    },
    {
      "cell_type": "markdown",
      "source": [
        "\n",
        "| Arquivo | Tamanho Original | Linhas | Colunas | Tamanho Final | Colunas Relevantes | Arquivo Limpo |\n",
        "| --- | --- | --- | --- | --- | --- | --- |\n",
        "| df_internacoes.csv | 1,59 GB | 2.956.343 | 113 | 1,41 GB | 53 | internacoes.csv |\n",
        "| internacoes.csv | 1,41 GB | 2.956.343 | 53 |\n",
        "| internacoes_fortaleza.csv | 446 MB | 867.020 | 53 |\n",
        "\n",
        "- Internacoes.csv [ https://drive.google.com/file/d/1-5EJi6zieQY9RSMpzBUj_pYjAH0C0xJW/view?usp=sharing ]\n",
        "- Internacoes_Fortaleza.csv [ https://drive.google.com/file/d/1-COBYNnFldb7NkW2SiHbJV51VWTUHB4G/view?usp=sharing ] \n",
        "\n",
        "- Bases Mescladas\n",
        "    - mu_ibge - Municipios IBGE\n",
        "    - cid_10 - Descrições CID_10\n",
        "    - cep - CEP registrados na base dos Correios\n",
        "    - car_int - Caráter da internação\n",
        "    - cobranca - Motivo de saída/permanência\n",
        "    - cod_idade - Unidade de medida da idade\n",
        "    - complex - Complexidade\n",
        "    - espec - Especialidade do leito\n",
        "    - financ - Tipo de financiamento\n",
        "    - gestao - Indica o tipo de gestão do hospital\n",
        "    - ident - Identificação do tipo da AIH\n",
        "    - instru - Grau de instrução do paciente\n",
        "    - marca_uti - Indica qual o tipo de UTI utilizada pelo paciente\n",
        "    - nacional - Nacionalidade do paciente\n",
        "    - nat_jur - Natureza jurídica do estabelecimento, conforme a Comissão Nacional de Classificação - CONCLA\n",
        "    - raca_cor - Raça/cor do paciente\n",
        "    - regct - Regra contratual\n",
        "    - Sexo do paciente"
      ],
      "metadata": {
        "id": "qG8REkTjJ_Vs"
      }
    },
    {
      "cell_type": "code",
      "source": [
        "from google.colab import drive\n",
        "drive.mount('/content/drive')"
      ],
      "metadata": {
        "id": "HKz73Tp7_Nf8"
      },
      "execution_count": null,
      "outputs": []
    },
    {
      "cell_type": "code",
      "source": [
        "# coding: utf-8\n",
        "\n",
        "import pandas as pd\n",
        "\n",
        "DF_INTERNACOES = \"/content/drive/MyDrive/Colab Notebooks/df_internacoes.csv\"\n",
        "\n",
        "INTERNACOES = \"/content/drive/MyDrive/Colab Notebooks/internacoes.csv\"\n",
        "INTERNACOES_FOR = \"/content/drive/MyDrive/Colab Notebooks/internacoes_fortaleza.csv\"\n",
        "\n",
        "MU_IBGE = \"/content/drive/MyDrive/Colab Notebooks/mun_ibge.csv\"\n",
        "CID_10 = \"/content/drive/MyDrive/Colab Notebooks/CID-10-SUBCATEGORIAS.CSV\"\n",
        "CEP = \"/content/drive/MyDrive/Colab Notebooks/cep.csv\"\n",
        "\n",
        "## https://github.com/rfsaldanha/microdatasus/wiki/Conven%C3%A7%C3%B5es-SIH-RD\n",
        "CAR_INT = \"/content/drive/MyDrive/Colab Notebooks/car_int.csv\"\n",
        "COBRANCA = \"/content/drive/MyDrive/Colab Notebooks/cobranca.csv\"\n",
        "COD_IDADE = \"/content/drive/MyDrive/Colab Notebooks/cod_idade.csv\"\n",
        "COMPLEX = \"/content/drive/MyDrive/Colab Notebooks/complex.csv\"\n",
        "ESPEC = \"/content/drive/MyDrive/Colab Notebooks/espec.csv\"\n",
        "FINANC = \"/content/drive/MyDrive/Colab Notebooks/financ.csv\"\n",
        "GESTAO = \"/content/drive/MyDrive/Colab Notebooks/gestao.csv\"\n",
        "IDENT = \"/content/drive/MyDrive/Colab Notebooks/ident.csv\"\n",
        "INSTRU = \"/content/drive/MyDrive/Colab Notebooks/instru.csv\"\n",
        "MARCA_UTI = \"/content/drive/MyDrive/Colab Notebooks/marca_uti.csv\"\n",
        "NACIONAL = \"/content/drive/MyDrive/Colab Notebooks/nacional.csv\"\n",
        "NAT_JUR = \"/content/drive/MyDrive/Colab Notebooks/nat_jur.csv\"\n",
        "RACA_COR = \"/content/drive/MyDrive/Colab Notebooks/raca_cor.csv\"\n",
        "REGCT = \"/content/drive/MyDrive/Colab Notebooks/regct.csv\"\n",
        "SEXO = \"/content/drive/MyDrive/Colab Notebooks/sexo.csv\""
      ],
      "metadata": {
        "id": "EwC_RDe1_REF"
      },
      "execution_count": null,
      "outputs": []
    },
    {
      "cell_type": "code",
      "source": [
        "# Colunas relativamente significantes da DF_INTERNACOES\n",
        "column = [\n",
        "    'UF_ZI',\n",
        "    'ANO_CMPT', \n",
        "    'MES_CMPT', \n",
        "    'ESPEC', \n",
        "    'CGC_HOSP', \n",
        "    'N_AIH',\n",
        "    'IDENT', \n",
        "    'CEP', \n",
        "    'MUNIC_RES', \n",
        "    'NASC', \n",
        "    'SEXO',\n",
        "    'UTI_MES_TO', \n",
        "    'MARCA_UTI', \n",
        "    'UTI_INT_TO', \n",
        "    'DIAR_ACOM', \n",
        "    'QT_DIARIAS', \n",
        "    'PROC_SOLIC', \n",
        "    'PROC_REA',\n",
        "    'VAL_SH', \n",
        "    'VAL_SP', \n",
        "    'VAL_TOT', \n",
        "    'VAL_UTI', \n",
        "    'DT_INTER', \n",
        "    'DT_SAIDA', \n",
        "    'DIAG_PRINC', \n",
        "    'COBRANCA', \n",
        "    'NATUREZA', \n",
        "    'NAT_JUR',\n",
        "    'GESTAO', \n",
        "    'IND_VDRL', \n",
        "    'MUNIC_MOV',\n",
        "    'COD_IDADE', \n",
        "    'IDADE', \n",
        "    'DIAS_PERM', \n",
        "    'MORTE', \n",
        "    'NACIONAL',\n",
        "    'CAR_INT', \n",
        "    'HOMONIMO', \n",
        "    'INSTRU', \n",
        "    'GESTRISCO', \n",
        "    'CNES', \n",
        "    'CNPJ_MANT', \n",
        "    'CID_ASSO', \n",
        "    'CID_MORTE', \n",
        "    'COMPLEX', \n",
        "    'FINANC',\n",
        "    'REGCT', \n",
        "    'RACA_COR'\n",
        "]"
      ],
      "metadata": {
        "id": "yUUEsJBi_Vg9"
      },
      "execution_count": null,
      "outputs": []
    },
    {
      "cell_type": "code",
      "source": [
        "df = pd.read_csv(DF_INTERNACOES, usecols=column, encoding= 'unicode_escape')\n",
        "df.head(2)"
      ],
      "metadata": {
        "id": "lTj35V8T_Ykr"
      },
      "execution_count": null,
      "outputs": []
    },
    {
      "cell_type": "code",
      "source": [
        "df['NASC'] = pd.to_datetime(df['NASC'].astype(str))\n",
        "df['DT_INTER'] = pd.to_datetime(df['DT_INTER'].astype(str))\n",
        "df['DT_SAIDA'] = pd.to_datetime(df['DT_INTER'].astype(str))"
      ],
      "metadata": {
        "id": "SX3M_DmW_pnU"
      },
      "execution_count": null,
      "outputs": []
    },
    {
      "cell_type": "code",
      "source": [
        "cep = pd.read_csv(CEP, sep=';')\n",
        "\n",
        "df = pd.merge(df, cep, left_on='CEP', right_on='CEP', how='left')\n",
        "df.BAIRRO.value_counts().head(5)"
      ],
      "metadata": {
        "id": "UUeFI_-A_seM"
      },
      "execution_count": null,
      "outputs": []
    },
    {
      "cell_type": "code",
      "source": [
        "cid_10 = pd.read_csv(CID_10, sep=';', usecols=['SUBCAT', 'DESCRABREV'], encoding= 'unicode_escape')A"
      ],
      "metadata": {
        "id": "zsLhVhpz_yRz"
      },
      "execution_count": null,
      "outputs": []
    },
    {
      "cell_type": "code",
      "source": [
        "df = pd.merge(df, cid_10, left_on='DIAG_PRINC', right_on='SUBCAT', how='left')\n",
        "del df['DIAG_PRINC']\n",
        "del df['SUBCAT']\n",
        "df.rename(columns={'DESCRABREV':'DIAG_PRINC'}, inplace=True)\n",
        "\n",
        "df.DIAG_PRINC.value_counts().head(5)"
      ],
      "metadata": {
        "id": "544-tS6U_0jh"
      },
      "execution_count": null,
      "outputs": []
    },
    {
      "cell_type": "code",
      "source": [
        "df = pd.merge(df, cid_10, left_on='CID_ASSO', right_on='SUBCAT', how='left')\n",
        "del df['CID_ASSO']\n",
        "del df['SUBCAT']\n",
        "df.rename(columns={'DESCRABREV':'CID_ASSO'}, inplace=True)\n",
        "\n",
        "df.CID_ASSO.value_counts().head(5)"
      ],
      "metadata": {
        "id": "bT6NLP9H_3Hx"
      },
      "execution_count": null,
      "outputs": []
    },
    {
      "cell_type": "code",
      "source": [
        "df = pd.merge(df, cid_10, left_on='CID_MORTE', right_on='SUBCAT', how='left')\n",
        "del df['CID_MORTE']\n",
        "del df['SUBCAT']\n",
        "df.rename(columns={'DESCRABREV':'CID_MORTE'}, inplace=True)\n",
        "\n",
        "df.CID_MORTE.value_counts().head(5)"
      ],
      "metadata": {
        "id": "as16qskA_6FX"
      },
      "execution_count": null,
      "outputs": []
    },
    {
      "cell_type": "code",
      "source": [
        "ibge = pd.read_csv(MU_IBGE, sep=';', usecols=['codmu', 'nomemu'], encoding= 'unicode_escape')"
      ],
      "metadata": {
        "id": "SKHDK4my_9Yg"
      },
      "execution_count": null,
      "outputs": []
    },
    {
      "cell_type": "code",
      "source": [
        "df = pd.merge(df, ibge, left_on='MUNIC_RES', right_on='codmu', how='left')\n",
        "del df['MUNIC_RES']\n",
        "del df['codmu']\n",
        "df.rename(columns={'nomemu':'MUNIC_RES'}, inplace=True)\n",
        "\n",
        "df.MUNIC_RES.value_counts().head(5)"
      ],
      "metadata": {
        "id": "rWAe9EHO__6X"
      },
      "execution_count": null,
      "outputs": []
    },
    {
      "cell_type": "code",
      "source": [
        "df = pd.merge(df, ibge, left_on='MUNIC_MOV', right_on='codmu', how='left')\n",
        "del df['MUNIC_MOV']\n",
        "del df['codmu']\n",
        "df.rename(columns={'nomemu':'MUNIC_MOV'}, inplace=True)\n",
        "\n",
        "df.MUNIC_MOV.value_counts().head(5)"
      ],
      "metadata": {
        "id": "iEYc407xAC5K"
      },
      "execution_count": null,
      "outputs": []
    },
    {
      "cell_type": "code",
      "source": [
        "df = pd.merge(df, ibge, left_on='UF_ZI', right_on='codmu', how='left')\n",
        "del df['UF_ZI']\n",
        "del df['codmu']\n",
        "df.rename(columns={'nomemu':'UF_ZI'}, inplace=True)\n",
        "\n",
        "df.UF_ZI.value_counts().head(5)"
      ],
      "metadata": {
        "id": "-yCUxDkEAFvb"
      },
      "execution_count": null,
      "outputs": []
    },
    {
      "cell_type": "code",
      "source": [
        "car_int = pd.read_csv(CAR_INT, sep=';', encoding= 'unicode_escape', header=None)\n",
        "\n",
        "df = pd.merge(df, car_int, left_on='CAR_INT', right_on=0, how='left')\n",
        "del df['CAR_INT']\n",
        "del df[0]\n",
        "df.rename(columns={1:'CAR_INT'}, inplace=True)\n",
        "\n",
        "df['CAR_INT'].value_counts()"
      ],
      "metadata": {
        "id": "39y8lb6CAIYv"
      },
      "execution_count": null,
      "outputs": []
    },
    {
      "cell_type": "code",
      "source": [
        "cobranca = pd.read_csv(COBRANCA, sep=';', encoding= 'unicode_escape', header=None)\n",
        "\n",
        "df = pd.merge(df, cobranca, left_on='COBRANCA', right_on=0, how='left')\n",
        "del df['COBRANCA']\n",
        "del df[0]\n",
        "df.rename(columns={1:'COBRANCA'}, inplace=True)\n",
        "\n",
        "df['COBRANCA'].value_counts()"
      ],
      "metadata": {
        "id": "BJH72lH5ALVw"
      },
      "execution_count": null,
      "outputs": []
    },
    {
      "cell_type": "code",
      "source": [
        "cod_idade = pd.read_csv(COD_IDADE, sep=';', encoding= 'unicode_escape', header=None)\n",
        "\n",
        "df = pd.merge(df, cod_idade, left_on='COD_IDADE', right_on=0, how='left')\n",
        "del df['COD_IDADE']\n",
        "del df[0]\n",
        "df.rename(columns={1:'COD_IDADE'}, inplace=True)\n",
        "\n",
        "df['COD_IDADE'].value_counts()"
      ],
      "metadata": {
        "id": "0ZAzInrWAP0N"
      },
      "execution_count": null,
      "outputs": []
    },
    {
      "cell_type": "code",
      "source": [
        "complex_ = pd.read_csv(COMPLEX, sep=';', encoding= 'unicode_escape', header=None)\n",
        "\n",
        "df = pd.merge(df, complex_, left_on='COMPLEX', right_on=0, how='left')\n",
        "del df['COMPLEX']\n",
        "del df[0]\n",
        "df.rename(columns={1:'COMPLEX'}, inplace=True)\n",
        "\n",
        "df['COMPLEX'].value_counts()"
      ],
      "metadata": {
        "id": "lx3Pg1GIAUAp"
      },
      "execution_count": null,
      "outputs": []
    },
    {
      "cell_type": "code",
      "source": [
        "espec = pd.read_csv(ESPEC, sep=';', encoding= 'unicode_escape', header=None)\n",
        "\n",
        "df = pd.merge(df, espec, left_on='ESPEC', right_on=0, how='left')\n",
        "del df['ESPEC']\n",
        "del df[0]\n",
        "df.rename(columns={1:'ESPEC'}, inplace=True)\n",
        "\n",
        "df['ESPEC'].value_counts()"
      ],
      "metadata": {
        "id": "v85sy09jAWwD"
      },
      "execution_count": null,
      "outputs": []
    },
    {
      "cell_type": "code",
      "source": [
        "gestao = pd.read_csv(GESTAO, sep=';', encoding= 'unicode_escape', header=None)\n",
        "\n",
        "df = pd.merge(df, gestao, left_on='GESTAO', right_on=0, how='left')\n",
        "del df['GESTAO']\n",
        "del df[0]\n",
        "df.rename(columns={1:'GESTAO'}, inplace=True)\n",
        "\n",
        "df['GESTAO'].value_counts()"
      ],
      "metadata": {
        "id": "l-0YxP7VAbWw"
      },
      "execution_count": null,
      "outputs": []
    },
    {
      "cell_type": "code",
      "source": [
        "ident = pd.read_csv(IDENT, sep=';', encoding= 'unicode_escape', header=None)\n",
        "\n",
        "df = pd.merge(df, ident, left_on='IDENT', right_on=0, how='left')\n",
        "del df['IDENT']\n",
        "del df[0]\n",
        "df.rename(columns={1:'IDENT'}, inplace=True)\n",
        "\n",
        "df['IDENT'].value_counts()"
      ],
      "metadata": {
        "id": "qB_7GUEwAeTS"
      },
      "execution_count": null,
      "outputs": []
    },
    {
      "cell_type": "code",
      "source": [
        "instru = pd.read_csv(INSTRU, sep=';', encoding= 'unicode_escape', header=None)\n",
        "\n",
        "df = pd.merge(df, instru, left_on='INSTRU', right_on=0, how='left')\n",
        "del df['INSTRU']\n",
        "del df[0]\n",
        "df.rename(columns={1:'INSTRU'}, inplace=True)\n",
        "\n",
        "df['INSTRU'].value_counts()"
      ],
      "metadata": {
        "id": "u0bzi09eAhxT"
      },
      "execution_count": null,
      "outputs": []
    },
    {
      "cell_type": "code",
      "source": [
        "marca_uti = pd.read_csv(MARCA_UTI, sep=';', encoding= 'unicode_escape', header=None)\n",
        "\n",
        "df = pd.merge(df, marca_uti, left_on='MARCA_UTI', right_on=0, how='left')\n",
        "del df['MARCA_UTI']\n",
        "del df[0]\n",
        "df.rename(columns={1:'MARCA_UTI'}, inplace=True)\n",
        "\n",
        "df['MARCA_UTI'].value_counts()"
      ],
      "metadata": {
        "id": "VMIGav9YAlKK"
      },
      "execution_count": null,
      "outputs": []
    },
    {
      "cell_type": "code",
      "source": [
        "nacional = pd.read_csv(NACIONAL, sep=';', encoding= 'unicode_escape', header=None)\n",
        "\n",
        "df = pd.merge(df, nacional, left_on='NACIONAL', right_on=0, how='left')\n",
        "del df['NACIONAL']\n",
        "del df[0]\n",
        "df.rename(columns={1:'NACIONAL'}, inplace=True)\n",
        "\n",
        "df['NACIONAL'].value_counts().head(5)"
      ],
      "metadata": {
        "id": "6OzWMe4nAn15"
      },
      "execution_count": null,
      "outputs": []
    },
    {
      "cell_type": "code",
      "source": [
        "nat_jur = pd.read_csv(NAT_JUR, sep=';', encoding= 'unicode_escape', header=None)\n",
        "\n",
        "df = pd.merge(df, nat_jur, left_on='NAT_JUR', right_on=0, how='left')\n",
        "del df['NAT_JUR']\n",
        "del df[0]\n",
        "df.rename(columns={1:'NAT_JUR'}, inplace=True)\n",
        "\n",
        "df['NAT_JUR'].value_counts()"
      ],
      "metadata": {
        "id": "gLzLY9PtAq3A"
      },
      "execution_count": null,
      "outputs": []
    },
    {
      "cell_type": "code",
      "source": [
        "raca_cor = pd.read_csv(RACA_COR, sep=';', encoding= 'unicode_escape', header=None)\n",
        "\n",
        "df = pd.merge(df, raca_cor, left_on='RACA_COR', right_on=0, how='left')\n",
        "del df['RACA_COR']\n",
        "del df[0]\n",
        "df.rename(columns={1:'RACA_COR'}, inplace=True)\n",
        "\n",
        "df['RACA_COR'].value_counts()"
      ],
      "metadata": {
        "id": "LXUoqwhaAujd"
      },
      "execution_count": null,
      "outputs": []
    },
    {
      "cell_type": "code",
      "source": [
        "regct = pd.read_csv(REGCT, sep=';', encoding= 'unicode_escape', header=None)\n",
        "\n",
        "df = pd.merge(df, regct, left_on='REGCT', right_on=0, how='left')\n",
        "del df['REGCT']\n",
        "del df[0]\n",
        "df.rename(columns={1:'REGCT'}, inplace=True)\n",
        "\n",
        "df['REGCT'].value_counts()"
      ],
      "metadata": {
        "id": "w1caef1wAyRC"
      },
      "execution_count": null,
      "outputs": []
    },
    {
      "cell_type": "code",
      "source": [
        "sexo = pd.read_csv(SEXO, sep=';', encoding= 'unicode_escape', header=None)\n",
        "\n",
        "df = pd.merge(df, sexo, left_on='SEXO', right_on=0, how='left')\n",
        "del df['SEXO']\n",
        "del df[0]\n",
        "df.rename(columns={1:'SEXO'}, inplace=True)\n",
        "\n",
        "df['SEXO'].value_counts()"
      ],
      "metadata": {
        "id": "OlqmIszlAzcb"
      },
      "execution_count": null,
      "outputs": []
    },
    {
      "cell_type": "code",
      "source": [
        "def realIdade(row):\n",
        "    if (row.COD_IDADE == ' Anos'):\n",
        "        return row.IDADE;\n",
        "    else:\n",
        "        return 0\n",
        "\n",
        "df['IDADE_REAL'] = df.apply(realIdade, axis = 1)\n",
        "df.IDADE_REAL.value_counts().head(5)"
      ],
      "metadata": {
        "id": "QxNYGXUOA64Y"
      },
      "execution_count": null,
      "outputs": []
    },
    {
      "cell_type": "code",
      "source": [
        "df.head(2)"
      ],
      "metadata": {
        "id": "6LtX05vhA9u3"
      },
      "execution_count": null,
      "outputs": []
    },
    {
      "cell_type": "code",
      "source": [
        "df.to_csv(INTERNACOES, index=False)"
      ],
      "metadata": {
        "id": "P_r9incGBBCv"
      },
      "execution_count": null,
      "outputs": []
    },
    {
      "cell_type": "code",
      "source": [
        "df = df[df.MUNIC_RES == 'Fortaleza']\n",
        "df.info()"
      ],
      "metadata": {
        "id": "Mldhf2MfBDuB"
      },
      "execution_count": null,
      "outputs": []
    },
    {
      "cell_type": "code",
      "source": [
        "df.to_csv(INTERNACOES_FOR, index=False)"
      ],
      "metadata": {
        "id": "8O06kJzIBGm8"
      },
      "execution_count": null,
      "outputs": []
    },
    {
      "cell_type": "markdown",
      "source": [
        "#Descrição dos dados  - Atenção Primária"
      ],
      "metadata": {
        "id": "eiMlvfhTamXs"
      }
    },
    {
      "cell_type": "code",
      "source": [
        "! git clone https://github.com/atlantico-academy/analysus.git\n",
        "! pip install sweetviz -q\n",
        "!pip install plotly==4.13.0 -q"
      ],
      "metadata": {
        "id": "cH3ZZMsBpOjH"
      },
      "execution_count": null,
      "outputs": []
    },
    {
      "cell_type": "code",
      "execution_count": null,
      "metadata": {
        "id": "WohY4DFpvXxK"
      },
      "outputs": [],
      "source": [
        "import pandas as pd\n",
        "import seaborn as sns\n",
        "import matplotlib.pyplot as plt\n",
        "import numpy as np\n",
        "from datetime import datetime, timedelta\n",
        "from pathlib import Path\n",
        "import json\n",
        "from matplotlib import patches\n",
        "import plotly as px\n",
        "import sweetviz as sv"
      ]
    },
    {
      "cell_type": "code",
      "source": [
        "from google.colab import drive\n",
        "drive.mount('/content/drive')"
      ],
      "metadata": {
        "id": "yDGSa92enk8l",
        "colab": {
          "base_uri": "https://localhost:8080/"
        },
        "outputId": "861f1296-b106-477e-bf90-96cc9a0d3e8a"
      },
      "execution_count": null,
      "outputs": [
        {
          "output_type": "stream",
          "name": "stdout",
          "text": [
            "Drive already mounted at /content/drive; to attempt to forcibly remount, call drive.mount(\"/content/drive\", force_remount=True).\n"
          ]
        }
      ]
    },
    {
      "cell_type": "markdown",
      "source": [
        "##Perguntas iniciais\n",
        "\n",
        "1.   Qual é o número de registros da base de dados selecionada?\n",
        "2.   Quais as idades dos pacientes de maneira geral?\n",
        "3.   Quantos dias em média um paciente passou internado de acordo com o grupo de causas?\n",
        "4.   Quem tem mais registros de internações? Homens ou mulheres?\n",
        "5.   Qual o ranking de atendimentos de acordo com o hospital executante?\n",
        "6.   Qual causa foi mais recorrente durante o período analisado?\n",
        "7.   Qual dia da semana tem o maior fluxo médio de pacientes?\n",
        "8.   Qual o tempo médio de permanência por hospital?\n",
        "9.   Quais bairros tiveram mais registros de internações?\n",
        "10.  Número de internações de acordo com a faixa etária dos pacientes\n",
        "11.  Valores das AIHs de internações\n",
        "\n"
      ],
      "metadata": {
        "id": "sR2g3Sgn0Ul0"
      }
    },
    {
      "cell_type": "code",
      "source": [
        "#Importando os datasets com pandas\n",
        "internacoes_fort = pd.read_csv(\"/content/drive/MyDrive/atlantico_bootcamp/datasets/internacoes_fortaleza.csv\")\n",
        "df_icsap = pd.read_csv(\"/content/drive/MyDrive/atlantico_bootcamp/datasets/df_icsap.csv\")"
      ],
      "metadata": {
        "id": "wRgmpqVfvxrd",
        "colab": {
          "base_uri": "https://localhost:8080/"
        },
        "outputId": "02e12ad0-6612-4bce-8366-0060105f7e1a"
      },
      "execution_count": null,
      "outputs": [
        {
          "output_type": "stream",
          "name": "stderr",
          "text": [
            "/usr/local/lib/python3.7/dist-packages/IPython/core/interactiveshell.py:2882: DtypeWarning: Columns (41,77,78,87,88,95,96) have mixed types.Specify dtype option on import or set low_memory=False.\n",
            "  exec(code_obj, self.user_global_ns, self.user_ns)\n"
          ]
        }
      ]
    },
    {
      "cell_type": "markdown",
      "source": [
        "Para a análise foi utilizado dois datasets. O primeiro (***internacoes_fort***) possui todos os registros de internações de pessoas que residem/residiram em Fortaleza entre os anos de 2014 a 2019 de acordo com o Sistema de Informações Hospitalares do SUS do Departamento de Informática do SUS (SIH-SUS/DATASUS). \n",
        "Para a criação do segundo Dataset (***df_icsap***) foi utilizado um pacote em linguagem R que automatiza a classificação e descrição das Condições Sensíveis à Atenção Primária (CSAP) segundo a Lista Brasileira de CSAP que foi definida em 2008 através de portaria ministerial (Nº 221, DE 17 DE ABRIL DE 2008)."
      ],
      "metadata": {
        "id": "rWEgaIuv06TA"
      }
    },
    {
      "cell_type": "markdown",
      "source": [
        ""
      ],
      "metadata": {
        "id": "Xc3V5IOKXurT"
      }
    },
    {
      "cell_type": "markdown",
      "source": [
        "## Análise do dataset Internacoes_fort"
      ],
      "metadata": {
        "id": "srtQV4V0obh4"
      }
    },
    {
      "cell_type": "code",
      "source": [
        "#Verificando a quantidade de linhas e colunas do dataframe internacoes_fort\n",
        "internacoes_fort.shape\n",
        "pd.DataFrame(internacoes_fort[\"COD_IDADE\"].value_counts())"
      ],
      "metadata": {
        "colab": {
          "base_uri": "https://localhost:8080/",
          "height": 175
        },
        "id": "pulOpmlzv2xE",
        "outputId": "04fd30e6-af2c-4885-dab3-8a2ef7290d78"
      },
      "execution_count": null,
      "outputs": [
        {
          "output_type": "execute_result",
          "data": {
            "text/plain": [
              "   COD_IDADE\n",
              "4     794578\n",
              "2      46972\n",
              "3      25127\n",
              "5        341"
            ],
            "text/html": [
              "\n",
              "  <div id=\"df-a28861e5-2df6-42ad-b058-e7705b32cc9c\">\n",
              "    <div class=\"colab-df-container\">\n",
              "      <div>\n",
              "<style scoped>\n",
              "    .dataframe tbody tr th:only-of-type {\n",
              "        vertical-align: middle;\n",
              "    }\n",
              "\n",
              "    .dataframe tbody tr th {\n",
              "        vertical-align: top;\n",
              "    }\n",
              "\n",
              "    .dataframe thead th {\n",
              "        text-align: right;\n",
              "    }\n",
              "</style>\n",
              "<table border=\"1\" class=\"dataframe\">\n",
              "  <thead>\n",
              "    <tr style=\"text-align: right;\">\n",
              "      <th></th>\n",
              "      <th>COD_IDADE</th>\n",
              "    </tr>\n",
              "  </thead>\n",
              "  <tbody>\n",
              "    <tr>\n",
              "      <th>4</th>\n",
              "      <td>794578</td>\n",
              "    </tr>\n",
              "    <tr>\n",
              "      <th>2</th>\n",
              "      <td>46972</td>\n",
              "    </tr>\n",
              "    <tr>\n",
              "      <th>3</th>\n",
              "      <td>25127</td>\n",
              "    </tr>\n",
              "    <tr>\n",
              "      <th>5</th>\n",
              "      <td>341</td>\n",
              "    </tr>\n",
              "  </tbody>\n",
              "</table>\n",
              "</div>\n",
              "      <button class=\"colab-df-convert\" onclick=\"convertToInteractive('df-a28861e5-2df6-42ad-b058-e7705b32cc9c')\"\n",
              "              title=\"Convert this dataframe to an interactive table.\"\n",
              "              style=\"display:none;\">\n",
              "        \n",
              "  <svg xmlns=\"http://www.w3.org/2000/svg\" height=\"24px\"viewBox=\"0 0 24 24\"\n",
              "       width=\"24px\">\n",
              "    <path d=\"M0 0h24v24H0V0z\" fill=\"none\"/>\n",
              "    <path d=\"M18.56 5.44l.94 2.06.94-2.06 2.06-.94-2.06-.94-.94-2.06-.94 2.06-2.06.94zm-11 1L8.5 8.5l.94-2.06 2.06-.94-2.06-.94L8.5 2.5l-.94 2.06-2.06.94zm10 10l.94 2.06.94-2.06 2.06-.94-2.06-.94-.94-2.06-.94 2.06-2.06.94z\"/><path d=\"M17.41 7.96l-1.37-1.37c-.4-.4-.92-.59-1.43-.59-.52 0-1.04.2-1.43.59L10.3 9.45l-7.72 7.72c-.78.78-.78 2.05 0 2.83L4 21.41c.39.39.9.59 1.41.59.51 0 1.02-.2 1.41-.59l7.78-7.78 2.81-2.81c.8-.78.8-2.07 0-2.86zM5.41 20L4 18.59l7.72-7.72 1.47 1.35L5.41 20z\"/>\n",
              "  </svg>\n",
              "      </button>\n",
              "      \n",
              "  <style>\n",
              "    .colab-df-container {\n",
              "      display:flex;\n",
              "      flex-wrap:wrap;\n",
              "      gap: 12px;\n",
              "    }\n",
              "\n",
              "    .colab-df-convert {\n",
              "      background-color: #E8F0FE;\n",
              "      border: none;\n",
              "      border-radius: 50%;\n",
              "      cursor: pointer;\n",
              "      display: none;\n",
              "      fill: #1967D2;\n",
              "      height: 32px;\n",
              "      padding: 0 0 0 0;\n",
              "      width: 32px;\n",
              "    }\n",
              "\n",
              "    .colab-df-convert:hover {\n",
              "      background-color: #E2EBFA;\n",
              "      box-shadow: 0px 1px 2px rgba(60, 64, 67, 0.3), 0px 1px 3px 1px rgba(60, 64, 67, 0.15);\n",
              "      fill: #174EA6;\n",
              "    }\n",
              "\n",
              "    [theme=dark] .colab-df-convert {\n",
              "      background-color: #3B4455;\n",
              "      fill: #D2E3FC;\n",
              "    }\n",
              "\n",
              "    [theme=dark] .colab-df-convert:hover {\n",
              "      background-color: #434B5C;\n",
              "      box-shadow: 0px 1px 3px 1px rgba(0, 0, 0, 0.15);\n",
              "      filter: drop-shadow(0px 1px 2px rgba(0, 0, 0, 0.3));\n",
              "      fill: #FFFFFF;\n",
              "    }\n",
              "  </style>\n",
              "\n",
              "      <script>\n",
              "        const buttonEl =\n",
              "          document.querySelector('#df-a28861e5-2df6-42ad-b058-e7705b32cc9c button.colab-df-convert');\n",
              "        buttonEl.style.display =\n",
              "          google.colab.kernel.accessAllowed ? 'block' : 'none';\n",
              "\n",
              "        async function convertToInteractive(key) {\n",
              "          const element = document.querySelector('#df-a28861e5-2df6-42ad-b058-e7705b32cc9c');\n",
              "          const dataTable =\n",
              "            await google.colab.kernel.invokeFunction('convertToInteractive',\n",
              "                                                     [key], {});\n",
              "          if (!dataTable) return;\n",
              "\n",
              "          const docLinkHtml = 'Like what you see? Visit the ' +\n",
              "            '<a target=\"_blank\" href=https://colab.research.google.com/notebooks/data_table.ipynb>data table notebook</a>'\n",
              "            + ' to learn more about interactive tables.';\n",
              "          element.innerHTML = '';\n",
              "          dataTable['output_type'] = 'display_data';\n",
              "          await google.colab.output.renderOutput(dataTable, element);\n",
              "          const docLink = document.createElement('div');\n",
              "          docLink.innerHTML = docLinkHtml;\n",
              "          element.appendChild(docLink);\n",
              "        }\n",
              "      </script>\n",
              "    </div>\n",
              "  </div>\n",
              "  "
            ]
          },
          "metadata": {},
          "execution_count": 6
        }
      ]
    },
    {
      "cell_type": "markdown",
      "source": [
        "A coluna *COD_IDADE* diz respeito ao tipo de idade do paciente (em anos, dias ou meses)."
      ],
      "metadata": {
        "id": "U7Pm77ytpoPR"
      }
    },
    {
      "cell_type": "markdown",
      "source": [
        "O dataset **\"Internacoes_fort\"** possui 867.018 registros/linhas e 113 variáveis/colunas"
      ],
      "metadata": {
        "id": "lzUiMZWp3IfL"
      }
    },
    {
      "cell_type": "code",
      "source": [
        "#Verificando o nome das colunas do dataframe\n",
        "print(list(internacoes_fort.columns.values.tolist()))"
      ],
      "metadata": {
        "colab": {
          "base_uri": "https://localhost:8080/"
        },
        "id": "pofvIhMpyc4l",
        "outputId": "ffeb6a3e-eb9d-4741-a087-4984d4cda7a1"
      },
      "execution_count": null,
      "outputs": [
        {
          "output_type": "stream",
          "name": "stdout",
          "text": [
            "['UF_ZI', 'ANO_CMPT', 'MES_CMPT', 'ESPEC', 'CGC_HOSP', 'N_AIH', 'IDENT', 'CEP', 'MUNIC_RES', 'NASC', 'SEXO', 'UTI_MES_IN', 'UTI_MES_AN', 'UTI_MES_AL', 'UTI_MES_TO', 'MARCA_UTI', 'UTI_INT_IN', 'UTI_INT_AN', 'UTI_INT_AL', 'UTI_INT_TO', 'DIAR_ACOM', 'QT_DIARIAS', 'PROC_SOLIC', 'PROC_REA', 'VAL_SH', 'VAL_SP', 'VAL_SADT', 'VAL_RN', 'VAL_ACOMP', 'VAL_ORTP', 'VAL_SANGUE', 'VAL_SADTSR', 'VAL_TRANSP', 'VAL_OBSANG', 'VAL_PED1AC', 'VAL_TOT', 'VAL_UTI', 'US_TOT', 'DT_INTER', 'DT_SAIDA', 'DIAG_PRINC', 'DIAG_SECUN', 'COBRANCA', 'NATUREZA', 'NAT_JUR', 'GESTAO', 'RUBRICA', 'IND_VDRL', 'MUNIC_MOV', 'COD_IDADE', 'IDADE', 'DIAS_PERM', 'MORTE', 'NACIONAL', 'NUM_PROC', 'CAR_INT', 'TOT_PT_SP', 'CPF_AUT', 'HOMONIMO', 'NUM_FILHOS', 'INSTRU', 'CID_NOTIF', 'CONTRACEP1', 'CONTRACEP2', 'GESTRISCO', 'INSC_PN', 'SEQ_AIH5', 'CBOR', 'CNAER', 'VINCPREV', 'GESTOR_COD', 'GESTOR_TP', 'GESTOR_CPF', 'GESTOR_DT', 'CNES', 'CNPJ_MANT', 'INFEHOSP', 'CID_ASSO', 'CID_MORTE', 'COMPLEX', 'FINANC', 'FAEC_TP', 'REGCT', 'RACA_COR', 'ETNIA', 'SEQUENCIA', 'REMESSA', 'AUD_JUST', 'SIS_JUST', 'VAL_SH_FED', 'VAL_SP_FED', 'VAL_SH_GES', 'VAL_SP_GES', 'VAL_UCI', 'MARCA_UCI', 'DIAGSEC1', 'DIAGSEC2', 'DIAGSEC3', 'DIAGSEC4', 'DIAGSEC5', 'DIAGSEC6', 'DIAGSEC7', 'DIAGSEC8', 'DIAGSEC9', 'TPDISEC1', 'TPDISEC2', 'TPDISEC3', 'TPDISEC4', 'TPDISEC5', 'TPDISEC6', 'TPDISEC7', 'TPDISEC8', 'TPDISEC9']\n"
          ]
        }
      ]
    },
    {
      "cell_type": "markdown",
      "source": [
        "###Para responder as perguntas feitas antes da análise, foi selecionado 18 variáveis com o intuito de tornar o Dataframe mais parciominioso. Foram elas:\n",
        "\n",
        "\n",
        "\n",
        "*   ANO_CMPT - O ano de registro da internação;\n",
        "*   MES_CMPT - O mês de registro;\n",
        "*   ESPEC - Tipo do leito de internação;\n",
        "*   N_AIH - Código da autorização de internação hospitalar;\n",
        "*   CEP - Código postal de residência do paciente;\n",
        "*   MUN_RES - Município de residência do paciente;\n",
        "*   SEXO - Sexo do(a) paciente;\n",
        "*   IDADE - Idade do(a) paciente;\n",
        "*   PROC_REA - Procedimento principal que foi realizado durante a internação;\n",
        "*   VAL_TOT - Valor total da internação;\n",
        "*   DT_INTER - Data da internação do(a) paciente;\n",
        "*   DT_SAIDA - Data da alta;\n",
        "*   DIAG_PRINC - Diagnóstico principal (de acordo com a CID-10)\n",
        "*   MORTE - Indica se houve ou não a morte do paciente;\n",
        "*   CNES - Código do estabelecimento que realizou a internação\n",
        "*   DIAS_PERM - Dias de permanência\n",
        "*   MUNIC_MOV - Município onde o paciente foi internado\n",
        "*   ETNIA - Etnia do(a) paciente\n",
        "*   COD_IDADE - Código da idade do paciente (Dias, meses ou anos)\n",
        "\n",
        "\n",
        "\n"
      ],
      "metadata": {
        "id": "5R_-j5zb36DV"
      }
    },
    {
      "cell_type": "code",
      "source": [
        "#Selecionando as colunas de interesse\n",
        "dataset = internacoes_fort[[\"ANO_CMPT\", \"MES_CMPT\", \"ESPEC\", \"N_AIH\", \"CEP\", \"MUNIC_RES\", \"SEXO\", \"IDADE\", \"PROC_REA\",\n",
        "                            \"VAL_TOT\", \"DT_INTER\", \"DT_SAIDA\", \"DIAG_PRINC\", \"MORTE\", \"CNES\", \"DIAS_PERM\", \"MUNIC_MOV\", \"ETNIA\", \"COD_IDADE\"]]"
      ],
      "metadata": {
        "id": "yvmgz72e6XHv"
      },
      "execution_count": null,
      "outputs": []
    },
    {
      "cell_type": "code",
      "source": [
        "#Verificando os cinco primeiros registros\n",
        "dataset[\"COD_IDADE\"].value_counts()"
      ],
      "metadata": {
        "colab": {
          "base_uri": "https://localhost:8080/"
        },
        "id": "GcrFJJ6y9HLM",
        "outputId": "ebade545-c50d-46b4-b6f9-7b67e28a44c5"
      },
      "execution_count": null,
      "outputs": [
        {
          "output_type": "execute_result",
          "data": {
            "text/plain": [
              "4    794578\n",
              "2     46972\n",
              "3     25127\n",
              "5       341\n",
              "Name: COD_IDADE, dtype: int64"
            ]
          },
          "metadata": {},
          "execution_count": 9
        }
      ]
    },
    {
      "cell_type": "code",
      "source": [
        "#Verificando os tipos das colunas do dataset\n",
        "dataset.info()"
      ],
      "metadata": {
        "colab": {
          "base_uri": "https://localhost:8080/"
        },
        "id": "IEjmPy_r9XmI",
        "outputId": "cb6804bb-53df-4f57-e6f3-0c1339349ed9"
      },
      "execution_count": null,
      "outputs": [
        {
          "output_type": "stream",
          "name": "stdout",
          "text": [
            "<class 'pandas.core.frame.DataFrame'>\n",
            "RangeIndex: 867018 entries, 0 to 867017\n",
            "Data columns (total 19 columns):\n",
            " #   Column      Non-Null Count   Dtype  \n",
            "---  ------      --------------   -----  \n",
            " 0   ANO_CMPT    867018 non-null  int64  \n",
            " 1   MES_CMPT    867018 non-null  int64  \n",
            " 2   ESPEC       867018 non-null  int64  \n",
            " 3   N_AIH       867018 non-null  int64  \n",
            " 4   CEP         867018 non-null  int64  \n",
            " 5   MUNIC_RES   867018 non-null  int64  \n",
            " 6   SEXO        867018 non-null  int64  \n",
            " 7   IDADE       867018 non-null  int64  \n",
            " 8   PROC_REA    867018 non-null  int64  \n",
            " 9   VAL_TOT     867018 non-null  float64\n",
            " 10  DT_INTER    867018 non-null  int64  \n",
            " 11  DT_SAIDA    867018 non-null  int64  \n",
            " 12  DIAG_PRINC  867018 non-null  object \n",
            " 13  MORTE       867018 non-null  int64  \n",
            " 14  CNES        867018 non-null  int64  \n",
            " 15  DIAS_PERM   867018 non-null  int64  \n",
            " 16  MUNIC_MOV   867018 non-null  int64  \n",
            " 17  ETNIA       867018 non-null  int64  \n",
            " 18  COD_IDADE   867018 non-null  int64  \n",
            "dtypes: float64(1), int64(17), object(1)\n",
            "memory usage: 125.7+ MB\n"
          ]
        }
      ]
    },
    {
      "cell_type": "markdown",
      "source": [
        ""
      ],
      "metadata": {
        "id": "ncJJUmW9ntPe"
      }
    },
    {
      "cell_type": "code",
      "source": [
        "#pre-processamento destutivo"
      ],
      "metadata": {
        "id": "8X4aZkohnuDf"
      },
      "execution_count": null,
      "outputs": []
    },
    {
      "cell_type": "code",
      "source": [
        "#Verificando a quantidade de variáveis de acordo com seu tipo\n",
        "dataset.dtypes.value_counts()"
      ],
      "metadata": {
        "id": "3SbmFo9h9zqR",
        "colab": {
          "base_uri": "https://localhost:8080/"
        },
        "outputId": "213fddd2-c56d-4815-bd8e-982ec5324d13"
      },
      "execution_count": null,
      "outputs": [
        {
          "output_type": "execute_result",
          "data": {
            "text/plain": [
              "int64      17\n",
              "float64     1\n",
              "object      1\n",
              "dtype: int64"
            ]
          },
          "metadata": {},
          "execution_count": 12
        }
      ]
    },
    {
      "cell_type": "code",
      "source": [
        "dataset['date_int'] = dataset['DT_INTER'].astype(str)"
      ],
      "metadata": {
        "id": "lkYJYDym-Cd0",
        "colab": {
          "base_uri": "https://localhost:8080/"
        },
        "outputId": "3bc8cb46-5800-4d3c-c0f9-9deb4c925c7c"
      },
      "execution_count": null,
      "outputs": [
        {
          "output_type": "stream",
          "name": "stderr",
          "text": [
            "/usr/local/lib/python3.7/dist-packages/ipykernel_launcher.py:1: SettingWithCopyWarning: \n",
            "A value is trying to be set on a copy of a slice from a DataFrame.\n",
            "Try using .loc[row_indexer,col_indexer] = value instead\n",
            "\n",
            "See the caveats in the documentation: https://pandas.pydata.org/pandas-docs/stable/user_guide/indexing.html#returning-a-view-versus-a-copy\n",
            "  \"\"\"Entry point for launching an IPython kernel.\n"
          ]
        }
      ]
    },
    {
      "cell_type": "code",
      "source": [
        "#Primeiro foi criada uma coluna com nome date_text, que converte a cadeia de dados inteiros em uma sequencia de string\n",
        "dataset['date_text'] = dataset['DT_INTER'] = dataset['DT_INTER'].astype(str)\n",
        "#Depois, foi convertido a coluna criada em um valor DateTime\n",
        "dataset['internacao'] = pd.to_datetime(dataset['date_text'])\n",
        "#Em seguida, apaguei a coluna usada de referência para converter em DateTime\n",
        "dataset.drop('date_text', axis=1, inplace=True)"
      ],
      "metadata": {
        "id": "cWNAadqZBzkF",
        "colab": {
          "base_uri": "https://localhost:8080/"
        },
        "outputId": "c40ac137-295f-43db-f835-a74f967b0325"
      },
      "execution_count": null,
      "outputs": [
        {
          "output_type": "stream",
          "name": "stderr",
          "text": [
            "/usr/local/lib/python3.7/dist-packages/ipykernel_launcher.py:2: SettingWithCopyWarning: \n",
            "A value is trying to be set on a copy of a slice from a DataFrame.\n",
            "Try using .loc[row_indexer,col_indexer] = value instead\n",
            "\n",
            "See the caveats in the documentation: https://pandas.pydata.org/pandas-docs/stable/user_guide/indexing.html#returning-a-view-versus-a-copy\n",
            "  \n",
            "/usr/local/lib/python3.7/dist-packages/ipykernel_launcher.py:4: SettingWithCopyWarning: \n",
            "A value is trying to be set on a copy of a slice from a DataFrame.\n",
            "Try using .loc[row_indexer,col_indexer] = value instead\n",
            "\n",
            "See the caveats in the documentation: https://pandas.pydata.org/pandas-docs/stable/user_guide/indexing.html#returning-a-view-versus-a-copy\n",
            "  after removing the cwd from sys.path.\n",
            "/usr/local/lib/python3.7/dist-packages/pandas/core/frame.py:4913: SettingWithCopyWarning: \n",
            "A value is trying to be set on a copy of a slice from a DataFrame\n",
            "\n",
            "See the caveats in the documentation: https://pandas.pydata.org/pandas-docs/stable/user_guide/indexing.html#returning-a-view-versus-a-copy\n",
            "  errors=errors,\n"
          ]
        }
      ]
    },
    {
      "cell_type": "code",
      "source": [
        "#Repetindo o processo para as outras colunas de Data\n",
        "dataset['date_text'] = dataset['DT_SAIDA'] = dataset['DT_SAIDA'].astype(str)\n",
        "#Convertendo em data a nova coluna\n",
        "dataset['saida'] = pd.to_datetime(dataset['date_text'])\n",
        "#Apagando a coluna de referencia\n",
        "dataset.drop('date_text', axis=1, inplace=True)"
      ],
      "metadata": {
        "id": "Nl0qsgWyFDRm",
        "colab": {
          "base_uri": "https://localhost:8080/"
        },
        "outputId": "9f39aa3d-a5d7-435c-a1db-e69989964420"
      },
      "execution_count": null,
      "outputs": [
        {
          "output_type": "stream",
          "name": "stderr",
          "text": [
            "/usr/local/lib/python3.7/dist-packages/ipykernel_launcher.py:2: SettingWithCopyWarning: \n",
            "A value is trying to be set on a copy of a slice from a DataFrame.\n",
            "Try using .loc[row_indexer,col_indexer] = value instead\n",
            "\n",
            "See the caveats in the documentation: https://pandas.pydata.org/pandas-docs/stable/user_guide/indexing.html#returning-a-view-versus-a-copy\n",
            "  \n",
            "/usr/local/lib/python3.7/dist-packages/ipykernel_launcher.py:4: SettingWithCopyWarning: \n",
            "A value is trying to be set on a copy of a slice from a DataFrame.\n",
            "Try using .loc[row_indexer,col_indexer] = value instead\n",
            "\n",
            "See the caveats in the documentation: https://pandas.pydata.org/pandas-docs/stable/user_guide/indexing.html#returning-a-view-versus-a-copy\n",
            "  after removing the cwd from sys.path.\n",
            "/usr/local/lib/python3.7/dist-packages/pandas/core/frame.py:4913: SettingWithCopyWarning: \n",
            "A value is trying to be set on a copy of a slice from a DataFrame\n",
            "\n",
            "See the caveats in the documentation: https://pandas.pydata.org/pandas-docs/stable/user_guide/indexing.html#returning-a-view-versus-a-copy\n",
            "  errors=errors,\n"
          ]
        }
      ]
    },
    {
      "cell_type": "code",
      "source": [
        "dataset.head()"
      ],
      "metadata": {
        "colab": {
          "base_uri": "https://localhost:8080/",
          "height": 386
        },
        "id": "t6c60glQFd0m",
        "outputId": "adfd5e09-894b-43c9-c8bf-0e734d3481cf"
      },
      "execution_count": null,
      "outputs": [
        {
          "output_type": "execute_result",
          "data": {
            "text/plain": [
              "   ANO_CMPT  MES_CMPT  ESPEC          N_AIH       CEP  MUNIC_RES  SEXO  IDADE  \\\n",
              "0      2014         1      7  2314100004865  60870576     230440     3      7   \n",
              "1      2014         1      7  2314100004876  60851290     230440     1      7   \n",
              "2      2014         1      7  2314100004898  60843250     230440     3      1   \n",
              "3      2014         1      7  2314100004580  60870576     230440     1      2   \n",
              "4      2014         1      7  2314100004590  60870576     230440     1      3   \n",
              "\n",
              "    PROC_REA  VAL_TOT  ... DIAG_PRINC MORTE     CNES  DIAS_PERM  MUNIC_MOV  \\\n",
              "0  303010134   174.42  ...       B058     0  2785900         10     230440   \n",
              "1  303140151   582.42  ...       J189     0  2785900          5     230440   \n",
              "2  303140151  2018.58  ...       J189     0  2785900          3     230440   \n",
              "3  303010037   865.91  ...       A379     0  2785900          9     230440   \n",
              "4  303160039  1698.70  ...       P369     0  2785900          4     230440   \n",
              "\n",
              "   ETNIA  COD_IDADE  date_int  internacao      saida  \n",
              "0      0          3  20140114  2014-01-14 2014-01-24  \n",
              "1      0          3  20140119  2014-01-19 2014-01-24  \n",
              "2      0          4  20140104  2014-01-04 2014-01-07  \n",
              "3      0          3  20140116  2014-01-16 2014-01-25  \n",
              "4      0          2  20140121  2014-01-21 2014-01-25  \n",
              "\n",
              "[5 rows x 22 columns]"
            ],
            "text/html": [
              "\n",
              "  <div id=\"df-8520ab9b-06fe-4ddb-90aa-b9dadf05b7a8\">\n",
              "    <div class=\"colab-df-container\">\n",
              "      <div>\n",
              "<style scoped>\n",
              "    .dataframe tbody tr th:only-of-type {\n",
              "        vertical-align: middle;\n",
              "    }\n",
              "\n",
              "    .dataframe tbody tr th {\n",
              "        vertical-align: top;\n",
              "    }\n",
              "\n",
              "    .dataframe thead th {\n",
              "        text-align: right;\n",
              "    }\n",
              "</style>\n",
              "<table border=\"1\" class=\"dataframe\">\n",
              "  <thead>\n",
              "    <tr style=\"text-align: right;\">\n",
              "      <th></th>\n",
              "      <th>ANO_CMPT</th>\n",
              "      <th>MES_CMPT</th>\n",
              "      <th>ESPEC</th>\n",
              "      <th>N_AIH</th>\n",
              "      <th>CEP</th>\n",
              "      <th>MUNIC_RES</th>\n",
              "      <th>SEXO</th>\n",
              "      <th>IDADE</th>\n",
              "      <th>PROC_REA</th>\n",
              "      <th>VAL_TOT</th>\n",
              "      <th>...</th>\n",
              "      <th>DIAG_PRINC</th>\n",
              "      <th>MORTE</th>\n",
              "      <th>CNES</th>\n",
              "      <th>DIAS_PERM</th>\n",
              "      <th>MUNIC_MOV</th>\n",
              "      <th>ETNIA</th>\n",
              "      <th>COD_IDADE</th>\n",
              "      <th>date_int</th>\n",
              "      <th>internacao</th>\n",
              "      <th>saida</th>\n",
              "    </tr>\n",
              "  </thead>\n",
              "  <tbody>\n",
              "    <tr>\n",
              "      <th>0</th>\n",
              "      <td>2014</td>\n",
              "      <td>1</td>\n",
              "      <td>7</td>\n",
              "      <td>2314100004865</td>\n",
              "      <td>60870576</td>\n",
              "      <td>230440</td>\n",
              "      <td>3</td>\n",
              "      <td>7</td>\n",
              "      <td>303010134</td>\n",
              "      <td>174.42</td>\n",
              "      <td>...</td>\n",
              "      <td>B058</td>\n",
              "      <td>0</td>\n",
              "      <td>2785900</td>\n",
              "      <td>10</td>\n",
              "      <td>230440</td>\n",
              "      <td>0</td>\n",
              "      <td>3</td>\n",
              "      <td>20140114</td>\n",
              "      <td>2014-01-14</td>\n",
              "      <td>2014-01-24</td>\n",
              "    </tr>\n",
              "    <tr>\n",
              "      <th>1</th>\n",
              "      <td>2014</td>\n",
              "      <td>1</td>\n",
              "      <td>7</td>\n",
              "      <td>2314100004876</td>\n",
              "      <td>60851290</td>\n",
              "      <td>230440</td>\n",
              "      <td>1</td>\n",
              "      <td>7</td>\n",
              "      <td>303140151</td>\n",
              "      <td>582.42</td>\n",
              "      <td>...</td>\n",
              "      <td>J189</td>\n",
              "      <td>0</td>\n",
              "      <td>2785900</td>\n",
              "      <td>5</td>\n",
              "      <td>230440</td>\n",
              "      <td>0</td>\n",
              "      <td>3</td>\n",
              "      <td>20140119</td>\n",
              "      <td>2014-01-19</td>\n",
              "      <td>2014-01-24</td>\n",
              "    </tr>\n",
              "    <tr>\n",
              "      <th>2</th>\n",
              "      <td>2014</td>\n",
              "      <td>1</td>\n",
              "      <td>7</td>\n",
              "      <td>2314100004898</td>\n",
              "      <td>60843250</td>\n",
              "      <td>230440</td>\n",
              "      <td>3</td>\n",
              "      <td>1</td>\n",
              "      <td>303140151</td>\n",
              "      <td>2018.58</td>\n",
              "      <td>...</td>\n",
              "      <td>J189</td>\n",
              "      <td>0</td>\n",
              "      <td>2785900</td>\n",
              "      <td>3</td>\n",
              "      <td>230440</td>\n",
              "      <td>0</td>\n",
              "      <td>4</td>\n",
              "      <td>20140104</td>\n",
              "      <td>2014-01-04</td>\n",
              "      <td>2014-01-07</td>\n",
              "    </tr>\n",
              "    <tr>\n",
              "      <th>3</th>\n",
              "      <td>2014</td>\n",
              "      <td>1</td>\n",
              "      <td>7</td>\n",
              "      <td>2314100004580</td>\n",
              "      <td>60870576</td>\n",
              "      <td>230440</td>\n",
              "      <td>1</td>\n",
              "      <td>2</td>\n",
              "      <td>303010037</td>\n",
              "      <td>865.91</td>\n",
              "      <td>...</td>\n",
              "      <td>A379</td>\n",
              "      <td>0</td>\n",
              "      <td>2785900</td>\n",
              "      <td>9</td>\n",
              "      <td>230440</td>\n",
              "      <td>0</td>\n",
              "      <td>3</td>\n",
              "      <td>20140116</td>\n",
              "      <td>2014-01-16</td>\n",
              "      <td>2014-01-25</td>\n",
              "    </tr>\n",
              "    <tr>\n",
              "      <th>4</th>\n",
              "      <td>2014</td>\n",
              "      <td>1</td>\n",
              "      <td>7</td>\n",
              "      <td>2314100004590</td>\n",
              "      <td>60870576</td>\n",
              "      <td>230440</td>\n",
              "      <td>1</td>\n",
              "      <td>3</td>\n",
              "      <td>303160039</td>\n",
              "      <td>1698.70</td>\n",
              "      <td>...</td>\n",
              "      <td>P369</td>\n",
              "      <td>0</td>\n",
              "      <td>2785900</td>\n",
              "      <td>4</td>\n",
              "      <td>230440</td>\n",
              "      <td>0</td>\n",
              "      <td>2</td>\n",
              "      <td>20140121</td>\n",
              "      <td>2014-01-21</td>\n",
              "      <td>2014-01-25</td>\n",
              "    </tr>\n",
              "  </tbody>\n",
              "</table>\n",
              "<p>5 rows × 22 columns</p>\n",
              "</div>\n",
              "      <button class=\"colab-df-convert\" onclick=\"convertToInteractive('df-8520ab9b-06fe-4ddb-90aa-b9dadf05b7a8')\"\n",
              "              title=\"Convert this dataframe to an interactive table.\"\n",
              "              style=\"display:none;\">\n",
              "        \n",
              "  <svg xmlns=\"http://www.w3.org/2000/svg\" height=\"24px\"viewBox=\"0 0 24 24\"\n",
              "       width=\"24px\">\n",
              "    <path d=\"M0 0h24v24H0V0z\" fill=\"none\"/>\n",
              "    <path d=\"M18.56 5.44l.94 2.06.94-2.06 2.06-.94-2.06-.94-.94-2.06-.94 2.06-2.06.94zm-11 1L8.5 8.5l.94-2.06 2.06-.94-2.06-.94L8.5 2.5l-.94 2.06-2.06.94zm10 10l.94 2.06.94-2.06 2.06-.94-2.06-.94-.94-2.06-.94 2.06-2.06.94z\"/><path d=\"M17.41 7.96l-1.37-1.37c-.4-.4-.92-.59-1.43-.59-.52 0-1.04.2-1.43.59L10.3 9.45l-7.72 7.72c-.78.78-.78 2.05 0 2.83L4 21.41c.39.39.9.59 1.41.59.51 0 1.02-.2 1.41-.59l7.78-7.78 2.81-2.81c.8-.78.8-2.07 0-2.86zM5.41 20L4 18.59l7.72-7.72 1.47 1.35L5.41 20z\"/>\n",
              "  </svg>\n",
              "      </button>\n",
              "      \n",
              "  <style>\n",
              "    .colab-df-container {\n",
              "      display:flex;\n",
              "      flex-wrap:wrap;\n",
              "      gap: 12px;\n",
              "    }\n",
              "\n",
              "    .colab-df-convert {\n",
              "      background-color: #E8F0FE;\n",
              "      border: none;\n",
              "      border-radius: 50%;\n",
              "      cursor: pointer;\n",
              "      display: none;\n",
              "      fill: #1967D2;\n",
              "      height: 32px;\n",
              "      padding: 0 0 0 0;\n",
              "      width: 32px;\n",
              "    }\n",
              "\n",
              "    .colab-df-convert:hover {\n",
              "      background-color: #E2EBFA;\n",
              "      box-shadow: 0px 1px 2px rgba(60, 64, 67, 0.3), 0px 1px 3px 1px rgba(60, 64, 67, 0.15);\n",
              "      fill: #174EA6;\n",
              "    }\n",
              "\n",
              "    [theme=dark] .colab-df-convert {\n",
              "      background-color: #3B4455;\n",
              "      fill: #D2E3FC;\n",
              "    }\n",
              "\n",
              "    [theme=dark] .colab-df-convert:hover {\n",
              "      background-color: #434B5C;\n",
              "      box-shadow: 0px 1px 3px 1px rgba(0, 0, 0, 0.15);\n",
              "      filter: drop-shadow(0px 1px 2px rgba(0, 0, 0, 0.3));\n",
              "      fill: #FFFFFF;\n",
              "    }\n",
              "  </style>\n",
              "\n",
              "      <script>\n",
              "        const buttonEl =\n",
              "          document.querySelector('#df-8520ab9b-06fe-4ddb-90aa-b9dadf05b7a8 button.colab-df-convert');\n",
              "        buttonEl.style.display =\n",
              "          google.colab.kernel.accessAllowed ? 'block' : 'none';\n",
              "\n",
              "        async function convertToInteractive(key) {\n",
              "          const element = document.querySelector('#df-8520ab9b-06fe-4ddb-90aa-b9dadf05b7a8');\n",
              "          const dataTable =\n",
              "            await google.colab.kernel.invokeFunction('convertToInteractive',\n",
              "                                                     [key], {});\n",
              "          if (!dataTable) return;\n",
              "\n",
              "          const docLinkHtml = 'Like what you see? Visit the ' +\n",
              "            '<a target=\"_blank\" href=https://colab.research.google.com/notebooks/data_table.ipynb>data table notebook</a>'\n",
              "            + ' to learn more about interactive tables.';\n",
              "          element.innerHTML = '';\n",
              "          dataTable['output_type'] = 'display_data';\n",
              "          await google.colab.output.renderOutput(dataTable, element);\n",
              "          const docLink = document.createElement('div');\n",
              "          docLink.innerHTML = docLinkHtml;\n",
              "          element.appendChild(docLink);\n",
              "        }\n",
              "      </script>\n",
              "    </div>\n",
              "  </div>\n",
              "  "
            ]
          },
          "metadata": {},
          "execution_count": 16
        }
      ]
    },
    {
      "cell_type": "code",
      "source": [
        "show_notebook = sv.analyze(df)\n",
        "show_notebook.show_html()"
      ],
      "metadata": {
        "id": "IwUds9cKJXfz",
        "colab": {
          "base_uri": "https://localhost:8080/",
          "height": 86,
          "referenced_widgets": [
            "aa8dea03c7064615b305712686ac75a7",
            "4253da3c59a545daa5359c4f979e61a4",
            "b73de640b47d4958b3bbda29588426a3",
            "333ff80a05ff49e493a427e6a2f5ee4d",
            "b3af59eda6e44d98a74f56458e777d4f",
            "46c421abaf1443d19dc9e208dee310c3",
            "7d7fdaa65ffa444c9995ea160c9cf37e",
            "effb018d4a2a460aaac56f384f47e926",
            "c79f67cdf67a41c690849f0956cc4599",
            "586841882d6e485bb3bf1ea54287ecc9",
            "9ad0e5ccce7048118ac401197b8694db"
          ]
        },
        "outputId": "2ec49283-1a88-4bc6-b804-43496de0c2cf"
      },
      "execution_count": null,
      "outputs": [
        {
          "output_type": "display_data",
          "data": {
            "text/plain": [
              "                                             |          | [  0%]   00:00 -> (? left)"
            ],
            "application/vnd.jupyter.widget-view+json": {
              "version_major": 2,
              "version_minor": 0,
              "model_id": "aa8dea03c7064615b305712686ac75a7"
            }
          },
          "metadata": {}
        },
        {
          "output_type": "stream",
          "name": "stdout",
          "text": [
            "Report SWEETVIZ_REPORT.html was generated! NOTEBOOK/COLAB USERS: the web browser MAY not pop up, regardless, the report IS saved in your notebook/colab files.\n"
          ]
        }
      ]
    },
    {
      "cell_type": "markdown",
      "source": [
        "## Análise do dataset df_ICSAP."
      ],
      "metadata": {
        "id": "ta-EzGMvoUVH"
      }
    },
    {
      "cell_type": "code",
      "source": [
        "#Verificando a quantidade de registros e variáveis do dataset\n",
        "linhas = df_icsap.shape[0] \n",
        "colunas = df_icsap.shape[1] \n",
        "print(\"O DataFrame possui \" + str(linhas) + \" linhas e \"+ str(colunas) + \" colunas\") "
      ],
      "metadata": {
        "colab": {
          "base_uri": "https://localhost:8080/"
        },
        "id": "hjxqPvygoZR6",
        "outputId": "400f06da-5c6f-437f-bb0d-1b6c2115fc63"
      },
      "execution_count": null,
      "outputs": [
        {
          "output_type": "stream",
          "name": "stdout",
          "text": [
            "O DataFrame possui 557908 linhas e 17 colunas\n"
          ]
        }
      ]
    },
    {
      "cell_type": "code",
      "source": [
        "#Verificando os tipos das colunas do dataset\n",
        "df_icsap.info()"
      ],
      "metadata": {
        "colab": {
          "base_uri": "https://localhost:8080/"
        },
        "id": "OOxwj_twp6HX",
        "outputId": "d7951496-b90b-400b-a3c4-7220f7658f9b"
      },
      "execution_count": null,
      "outputs": [
        {
          "output_type": "stream",
          "name": "stdout",
          "text": [
            "<class 'pandas.core.frame.DataFrame'>\n",
            "RangeIndex: 557908 entries, 0 to 557907\n",
            "Data columns (total 17 columns):\n",
            " #   Column      Non-Null Count   Dtype \n",
            "---  ------      --------------   ----- \n",
            " 0   n.aih       557908 non-null  int64 \n",
            " 1   munres      557908 non-null  int64 \n",
            " 2   munint      557908 non-null  int64 \n",
            " 3   sexo        557908 non-null  object\n",
            " 4   nasc        557908 non-null  object\n",
            " 5   idade       557908 non-null  int64 \n",
            " 6   fxetar.det  557908 non-null  object\n",
            " 7   fxetar5     557908 non-null  object\n",
            " 8   csap        557908 non-null  object\n",
            " 9   grupo       557908 non-null  object\n",
            " 10  cid         557908 non-null  object\n",
            " 11  proc.rea    557908 non-null  int64 \n",
            " 12  data.inter  557908 non-null  object\n",
            " 13  data.saida  557908 non-null  object\n",
            " 14  cep         557908 non-null  int64 \n",
            " 15  cnes        557908 non-null  int64 \n",
            " 16  qnt         557908 non-null  int64 \n",
            "dtypes: int64(8), object(9)\n",
            "memory usage: 72.4+ MB\n"
          ]
        }
      ]
    },
    {
      "cell_type": "code",
      "source": [
        "#MERGE - Criando um novo dataframe com a mescla dos valores que coincidem.\n",
        "df = internacoes_fort.merge(df_icsap, left_on='N_AIH', right_on='n.aih')\n",
        "#Vendo os registros\n",
        "df.head()"
      ],
      "metadata": {
        "colab": {
          "base_uri": "https://localhost:8080/",
          "height": 299
        },
        "id": "fyj4d7c3usSr",
        "outputId": "15267da0-193c-408a-aba5-d75f88d8e85b"
      },
      "execution_count": null,
      "outputs": [
        {
          "output_type": "execute_result",
          "data": {
            "text/plain": [
              "    UF_ZI  ANO_CMPT  MES_CMPT  ESPEC      CGC_HOSP          N_AIH  IDENT  \\\n",
              "0  230000      2014         1      7  5.268526e+12  2314100004865      1   \n",
              "1  230000      2014         1      7  5.268526e+12  2314100004580      1   \n",
              "2  230000      2014         1      7  5.268526e+12  2314100006702      1   \n",
              "3  230000      2014         1      7  5.268526e+12  2314100006757      1   \n",
              "4  230000      2014         1      7  5.268526e+12  2314100004909      1   \n",
              "\n",
              "        CEP  MUNIC_RES      NASC  ...  fxetar5  csap  grupo   cid   proc.rea  \\\n",
              "0  60870576     230440  20130519  ...      0-4   sim    g01  B058  303010134   \n",
              "1  60870576     230440  20131026  ...      0-4   sim    g01  A379  303010037   \n",
              "2  60843250     230440  20121009  ...      0-4   sim    g16  L032  303080060   \n",
              "3  60870576     230440  20120709  ...      0-4   sim    g02   A09  303010061   \n",
              "4  60843250     230440  20120825  ...      0-4   sim    g16  L038  303080060   \n",
              "\n",
              "   data.inter  data.saida       cep     cnes  qnt  \n",
              "0  2014-01-14  2014-01-24  60870576  2785900    1  \n",
              "1  2014-01-16  2014-01-25  60870576  2785900    1  \n",
              "2  2014-01-24  2014-01-30  60843250  2785900    1  \n",
              "3  2013-12-26  2014-01-30  60870576  2785900    1  \n",
              "4  2014-01-07  2014-01-24  60843250  2785900    1  \n",
              "\n",
              "[5 rows x 130 columns]"
            ],
            "text/html": [
              "\n",
              "  <div id=\"df-05490e80-61b5-412b-9886-088e4a521aa8\">\n",
              "    <div class=\"colab-df-container\">\n",
              "      <div>\n",
              "<style scoped>\n",
              "    .dataframe tbody tr th:only-of-type {\n",
              "        vertical-align: middle;\n",
              "    }\n",
              "\n",
              "    .dataframe tbody tr th {\n",
              "        vertical-align: top;\n",
              "    }\n",
              "\n",
              "    .dataframe thead th {\n",
              "        text-align: right;\n",
              "    }\n",
              "</style>\n",
              "<table border=\"1\" class=\"dataframe\">\n",
              "  <thead>\n",
              "    <tr style=\"text-align: right;\">\n",
              "      <th></th>\n",
              "      <th>UF_ZI</th>\n",
              "      <th>ANO_CMPT</th>\n",
              "      <th>MES_CMPT</th>\n",
              "      <th>ESPEC</th>\n",
              "      <th>CGC_HOSP</th>\n",
              "      <th>N_AIH</th>\n",
              "      <th>IDENT</th>\n",
              "      <th>CEP</th>\n",
              "      <th>MUNIC_RES</th>\n",
              "      <th>NASC</th>\n",
              "      <th>...</th>\n",
              "      <th>fxetar5</th>\n",
              "      <th>csap</th>\n",
              "      <th>grupo</th>\n",
              "      <th>cid</th>\n",
              "      <th>proc.rea</th>\n",
              "      <th>data.inter</th>\n",
              "      <th>data.saida</th>\n",
              "      <th>cep</th>\n",
              "      <th>cnes</th>\n",
              "      <th>qnt</th>\n",
              "    </tr>\n",
              "  </thead>\n",
              "  <tbody>\n",
              "    <tr>\n",
              "      <th>0</th>\n",
              "      <td>230000</td>\n",
              "      <td>2014</td>\n",
              "      <td>1</td>\n",
              "      <td>7</td>\n",
              "      <td>5.268526e+12</td>\n",
              "      <td>2314100004865</td>\n",
              "      <td>1</td>\n",
              "      <td>60870576</td>\n",
              "      <td>230440</td>\n",
              "      <td>20130519</td>\n",
              "      <td>...</td>\n",
              "      <td>0-4</td>\n",
              "      <td>sim</td>\n",
              "      <td>g01</td>\n",
              "      <td>B058</td>\n",
              "      <td>303010134</td>\n",
              "      <td>2014-01-14</td>\n",
              "      <td>2014-01-24</td>\n",
              "      <td>60870576</td>\n",
              "      <td>2785900</td>\n",
              "      <td>1</td>\n",
              "    </tr>\n",
              "    <tr>\n",
              "      <th>1</th>\n",
              "      <td>230000</td>\n",
              "      <td>2014</td>\n",
              "      <td>1</td>\n",
              "      <td>7</td>\n",
              "      <td>5.268526e+12</td>\n",
              "      <td>2314100004580</td>\n",
              "      <td>1</td>\n",
              "      <td>60870576</td>\n",
              "      <td>230440</td>\n",
              "      <td>20131026</td>\n",
              "      <td>...</td>\n",
              "      <td>0-4</td>\n",
              "      <td>sim</td>\n",
              "      <td>g01</td>\n",
              "      <td>A379</td>\n",
              "      <td>303010037</td>\n",
              "      <td>2014-01-16</td>\n",
              "      <td>2014-01-25</td>\n",
              "      <td>60870576</td>\n",
              "      <td>2785900</td>\n",
              "      <td>1</td>\n",
              "    </tr>\n",
              "    <tr>\n",
              "      <th>2</th>\n",
              "      <td>230000</td>\n",
              "      <td>2014</td>\n",
              "      <td>1</td>\n",
              "      <td>7</td>\n",
              "      <td>5.268526e+12</td>\n",
              "      <td>2314100006702</td>\n",
              "      <td>1</td>\n",
              "      <td>60843250</td>\n",
              "      <td>230440</td>\n",
              "      <td>20121009</td>\n",
              "      <td>...</td>\n",
              "      <td>0-4</td>\n",
              "      <td>sim</td>\n",
              "      <td>g16</td>\n",
              "      <td>L032</td>\n",
              "      <td>303080060</td>\n",
              "      <td>2014-01-24</td>\n",
              "      <td>2014-01-30</td>\n",
              "      <td>60843250</td>\n",
              "      <td>2785900</td>\n",
              "      <td>1</td>\n",
              "    </tr>\n",
              "    <tr>\n",
              "      <th>3</th>\n",
              "      <td>230000</td>\n",
              "      <td>2014</td>\n",
              "      <td>1</td>\n",
              "      <td>7</td>\n",
              "      <td>5.268526e+12</td>\n",
              "      <td>2314100006757</td>\n",
              "      <td>1</td>\n",
              "      <td>60870576</td>\n",
              "      <td>230440</td>\n",
              "      <td>20120709</td>\n",
              "      <td>...</td>\n",
              "      <td>0-4</td>\n",
              "      <td>sim</td>\n",
              "      <td>g02</td>\n",
              "      <td>A09</td>\n",
              "      <td>303010061</td>\n",
              "      <td>2013-12-26</td>\n",
              "      <td>2014-01-30</td>\n",
              "      <td>60870576</td>\n",
              "      <td>2785900</td>\n",
              "      <td>1</td>\n",
              "    </tr>\n",
              "    <tr>\n",
              "      <th>4</th>\n",
              "      <td>230000</td>\n",
              "      <td>2014</td>\n",
              "      <td>1</td>\n",
              "      <td>7</td>\n",
              "      <td>5.268526e+12</td>\n",
              "      <td>2314100004909</td>\n",
              "      <td>1</td>\n",
              "      <td>60843250</td>\n",
              "      <td>230440</td>\n",
              "      <td>20120825</td>\n",
              "      <td>...</td>\n",
              "      <td>0-4</td>\n",
              "      <td>sim</td>\n",
              "      <td>g16</td>\n",
              "      <td>L038</td>\n",
              "      <td>303080060</td>\n",
              "      <td>2014-01-07</td>\n",
              "      <td>2014-01-24</td>\n",
              "      <td>60843250</td>\n",
              "      <td>2785900</td>\n",
              "      <td>1</td>\n",
              "    </tr>\n",
              "  </tbody>\n",
              "</table>\n",
              "<p>5 rows × 130 columns</p>\n",
              "</div>\n",
              "      <button class=\"colab-df-convert\" onclick=\"convertToInteractive('df-05490e80-61b5-412b-9886-088e4a521aa8')\"\n",
              "              title=\"Convert this dataframe to an interactive table.\"\n",
              "              style=\"display:none;\">\n",
              "        \n",
              "  <svg xmlns=\"http://www.w3.org/2000/svg\" height=\"24px\"viewBox=\"0 0 24 24\"\n",
              "       width=\"24px\">\n",
              "    <path d=\"M0 0h24v24H0V0z\" fill=\"none\"/>\n",
              "    <path d=\"M18.56 5.44l.94 2.06.94-2.06 2.06-.94-2.06-.94-.94-2.06-.94 2.06-2.06.94zm-11 1L8.5 8.5l.94-2.06 2.06-.94-2.06-.94L8.5 2.5l-.94 2.06-2.06.94zm10 10l.94 2.06.94-2.06 2.06-.94-2.06-.94-.94-2.06-.94 2.06-2.06.94z\"/><path d=\"M17.41 7.96l-1.37-1.37c-.4-.4-.92-.59-1.43-.59-.52 0-1.04.2-1.43.59L10.3 9.45l-7.72 7.72c-.78.78-.78 2.05 0 2.83L4 21.41c.39.39.9.59 1.41.59.51 0 1.02-.2 1.41-.59l7.78-7.78 2.81-2.81c.8-.78.8-2.07 0-2.86zM5.41 20L4 18.59l7.72-7.72 1.47 1.35L5.41 20z\"/>\n",
              "  </svg>\n",
              "      </button>\n",
              "      \n",
              "  <style>\n",
              "    .colab-df-container {\n",
              "      display:flex;\n",
              "      flex-wrap:wrap;\n",
              "      gap: 12px;\n",
              "    }\n",
              "\n",
              "    .colab-df-convert {\n",
              "      background-color: #E8F0FE;\n",
              "      border: none;\n",
              "      border-radius: 50%;\n",
              "      cursor: pointer;\n",
              "      display: none;\n",
              "      fill: #1967D2;\n",
              "      height: 32px;\n",
              "      padding: 0 0 0 0;\n",
              "      width: 32px;\n",
              "    }\n",
              "\n",
              "    .colab-df-convert:hover {\n",
              "      background-color: #E2EBFA;\n",
              "      box-shadow: 0px 1px 2px rgba(60, 64, 67, 0.3), 0px 1px 3px 1px rgba(60, 64, 67, 0.15);\n",
              "      fill: #174EA6;\n",
              "    }\n",
              "\n",
              "    [theme=dark] .colab-df-convert {\n",
              "      background-color: #3B4455;\n",
              "      fill: #D2E3FC;\n",
              "    }\n",
              "\n",
              "    [theme=dark] .colab-df-convert:hover {\n",
              "      background-color: #434B5C;\n",
              "      box-shadow: 0px 1px 3px 1px rgba(0, 0, 0, 0.15);\n",
              "      filter: drop-shadow(0px 1px 2px rgba(0, 0, 0, 0.3));\n",
              "      fill: #FFFFFF;\n",
              "    }\n",
              "  </style>\n",
              "\n",
              "      <script>\n",
              "        const buttonEl =\n",
              "          document.querySelector('#df-05490e80-61b5-412b-9886-088e4a521aa8 button.colab-df-convert');\n",
              "        buttonEl.style.display =\n",
              "          google.colab.kernel.accessAllowed ? 'block' : 'none';\n",
              "\n",
              "        async function convertToInteractive(key) {\n",
              "          const element = document.querySelector('#df-05490e80-61b5-412b-9886-088e4a521aa8');\n",
              "          const dataTable =\n",
              "            await google.colab.kernel.invokeFunction('convertToInteractive',\n",
              "                                                     [key], {});\n",
              "          if (!dataTable) return;\n",
              "\n",
              "          const docLinkHtml = 'Like what you see? Visit the ' +\n",
              "            '<a target=\"_blank\" href=https://colab.research.google.com/notebooks/data_table.ipynb>data table notebook</a>'\n",
              "            + ' to learn more about interactive tables.';\n",
              "          element.innerHTML = '';\n",
              "          dataTable['output_type'] = 'display_data';\n",
              "          await google.colab.output.renderOutput(dataTable, element);\n",
              "          const docLink = document.createElement('div');\n",
              "          docLink.innerHTML = docLinkHtml;\n",
              "          element.appendChild(docLink);\n",
              "        }\n",
              "      </script>\n",
              "    </div>\n",
              "  </div>\n",
              "  "
            ]
          },
          "metadata": {},
          "execution_count": 21
        }
      ]
    },
    {
      "cell_type": "code",
      "source": [
        "#Filtrando apenas os dados de pacientes que residem e foram internados em fortaleza\n",
        "df_fortaleza = df.query(\"MUNIC_RES==230440\")"
      ],
      "metadata": {
        "id": "_gsGPI73vV4f"
      },
      "execution_count": null,
      "outputs": []
    },
    {
      "cell_type": "code",
      "source": [
        "df_fortaleza.shape"
      ],
      "metadata": {
        "colab": {
          "base_uri": "https://localhost:8080/"
        },
        "id": "xwK2-xupvbUG",
        "outputId": "e8612cba-0a60-4c78-d6ab-83289abccf1d"
      },
      "execution_count": null,
      "outputs": [
        {
          "output_type": "execute_result",
          "data": {
            "text/plain": [
              "(166761, 130)"
            ]
          },
          "metadata": {},
          "execution_count": 23
        }
      ]
    },
    {
      "cell_type": "markdown",
      "source": [
        "A coluna *COD_IDADE* no dataset *internacoes_fort* especifica em qual unidade de medida está a idade do paciente (dias, meses ou anos), desta maneira, é importante manter a atenção para não gerar interpretações errôneas sobre os dados. Vale ressaltar que após o processo de _merge_ dos dois datasets, as colunas de faixa-etária já classificam de maneira correta as idades, convertendo todas em anos. Segue um exemplo abaixo"
      ],
      "metadata": {
        "id": "mfsju2S3rXog"
      }
    },
    {
      "cell_type": "code",
      "source": [
        "df[[\"COD_IDADE\", \"IDADE\", \"fxetar5\"]]"
      ],
      "metadata": {
        "colab": {
          "base_uri": "https://localhost:8080/",
          "height": 424
        },
        "id": "8mwA1h69sXn-",
        "outputId": "3d4db506-de4a-43ec-821f-99bcf09cfb27"
      },
      "execution_count": null,
      "outputs": [
        {
          "output_type": "execute_result",
          "data": {
            "text/plain": [
              "        COD_IDADE  IDADE fxetar5\n",
              "0               3      7     0-4\n",
              "1               3      2     0-4\n",
              "2               4      1     0-4\n",
              "3               4      1     0-4\n",
              "4               4      1     0-4\n",
              "...           ...    ...     ...\n",
              "166756          4     24   20-24\n",
              "166757          4     53   50-54\n",
              "166758          4     83    80 +\n",
              "166759          4     18   15-19\n",
              "166760          4     83    80 +\n",
              "\n",
              "[166761 rows x 3 columns]"
            ],
            "text/html": [
              "\n",
              "  <div id=\"df-8236cc5d-3ff8-424a-9fae-adec663c3439\">\n",
              "    <div class=\"colab-df-container\">\n",
              "      <div>\n",
              "<style scoped>\n",
              "    .dataframe tbody tr th:only-of-type {\n",
              "        vertical-align: middle;\n",
              "    }\n",
              "\n",
              "    .dataframe tbody tr th {\n",
              "        vertical-align: top;\n",
              "    }\n",
              "\n",
              "    .dataframe thead th {\n",
              "        text-align: right;\n",
              "    }\n",
              "</style>\n",
              "<table border=\"1\" class=\"dataframe\">\n",
              "  <thead>\n",
              "    <tr style=\"text-align: right;\">\n",
              "      <th></th>\n",
              "      <th>COD_IDADE</th>\n",
              "      <th>IDADE</th>\n",
              "      <th>fxetar5</th>\n",
              "    </tr>\n",
              "  </thead>\n",
              "  <tbody>\n",
              "    <tr>\n",
              "      <th>0</th>\n",
              "      <td>3</td>\n",
              "      <td>7</td>\n",
              "      <td>0-4</td>\n",
              "    </tr>\n",
              "    <tr>\n",
              "      <th>1</th>\n",
              "      <td>3</td>\n",
              "      <td>2</td>\n",
              "      <td>0-4</td>\n",
              "    </tr>\n",
              "    <tr>\n",
              "      <th>2</th>\n",
              "      <td>4</td>\n",
              "      <td>1</td>\n",
              "      <td>0-4</td>\n",
              "    </tr>\n",
              "    <tr>\n",
              "      <th>3</th>\n",
              "      <td>4</td>\n",
              "      <td>1</td>\n",
              "      <td>0-4</td>\n",
              "    </tr>\n",
              "    <tr>\n",
              "      <th>4</th>\n",
              "      <td>4</td>\n",
              "      <td>1</td>\n",
              "      <td>0-4</td>\n",
              "    </tr>\n",
              "    <tr>\n",
              "      <th>...</th>\n",
              "      <td>...</td>\n",
              "      <td>...</td>\n",
              "      <td>...</td>\n",
              "    </tr>\n",
              "    <tr>\n",
              "      <th>166756</th>\n",
              "      <td>4</td>\n",
              "      <td>24</td>\n",
              "      <td>20-24</td>\n",
              "    </tr>\n",
              "    <tr>\n",
              "      <th>166757</th>\n",
              "      <td>4</td>\n",
              "      <td>53</td>\n",
              "      <td>50-54</td>\n",
              "    </tr>\n",
              "    <tr>\n",
              "      <th>166758</th>\n",
              "      <td>4</td>\n",
              "      <td>83</td>\n",
              "      <td>80 +</td>\n",
              "    </tr>\n",
              "    <tr>\n",
              "      <th>166759</th>\n",
              "      <td>4</td>\n",
              "      <td>18</td>\n",
              "      <td>15-19</td>\n",
              "    </tr>\n",
              "    <tr>\n",
              "      <th>166760</th>\n",
              "      <td>4</td>\n",
              "      <td>83</td>\n",
              "      <td>80 +</td>\n",
              "    </tr>\n",
              "  </tbody>\n",
              "</table>\n",
              "<p>166761 rows × 3 columns</p>\n",
              "</div>\n",
              "      <button class=\"colab-df-convert\" onclick=\"convertToInteractive('df-8236cc5d-3ff8-424a-9fae-adec663c3439')\"\n",
              "              title=\"Convert this dataframe to an interactive table.\"\n",
              "              style=\"display:none;\">\n",
              "        \n",
              "  <svg xmlns=\"http://www.w3.org/2000/svg\" height=\"24px\"viewBox=\"0 0 24 24\"\n",
              "       width=\"24px\">\n",
              "    <path d=\"M0 0h24v24H0V0z\" fill=\"none\"/>\n",
              "    <path d=\"M18.56 5.44l.94 2.06.94-2.06 2.06-.94-2.06-.94-.94-2.06-.94 2.06-2.06.94zm-11 1L8.5 8.5l.94-2.06 2.06-.94-2.06-.94L8.5 2.5l-.94 2.06-2.06.94zm10 10l.94 2.06.94-2.06 2.06-.94-2.06-.94-.94-2.06-.94 2.06-2.06.94z\"/><path d=\"M17.41 7.96l-1.37-1.37c-.4-.4-.92-.59-1.43-.59-.52 0-1.04.2-1.43.59L10.3 9.45l-7.72 7.72c-.78.78-.78 2.05 0 2.83L4 21.41c.39.39.9.59 1.41.59.51 0 1.02-.2 1.41-.59l7.78-7.78 2.81-2.81c.8-.78.8-2.07 0-2.86zM5.41 20L4 18.59l7.72-7.72 1.47 1.35L5.41 20z\"/>\n",
              "  </svg>\n",
              "      </button>\n",
              "      \n",
              "  <style>\n",
              "    .colab-df-container {\n",
              "      display:flex;\n",
              "      flex-wrap:wrap;\n",
              "      gap: 12px;\n",
              "    }\n",
              "\n",
              "    .colab-df-convert {\n",
              "      background-color: #E8F0FE;\n",
              "      border: none;\n",
              "      border-radius: 50%;\n",
              "      cursor: pointer;\n",
              "      display: none;\n",
              "      fill: #1967D2;\n",
              "      height: 32px;\n",
              "      padding: 0 0 0 0;\n",
              "      width: 32px;\n",
              "    }\n",
              "\n",
              "    .colab-df-convert:hover {\n",
              "      background-color: #E2EBFA;\n",
              "      box-shadow: 0px 1px 2px rgba(60, 64, 67, 0.3), 0px 1px 3px 1px rgba(60, 64, 67, 0.15);\n",
              "      fill: #174EA6;\n",
              "    }\n",
              "\n",
              "    [theme=dark] .colab-df-convert {\n",
              "      background-color: #3B4455;\n",
              "      fill: #D2E3FC;\n",
              "    }\n",
              "\n",
              "    [theme=dark] .colab-df-convert:hover {\n",
              "      background-color: #434B5C;\n",
              "      box-shadow: 0px 1px 3px 1px rgba(0, 0, 0, 0.15);\n",
              "      filter: drop-shadow(0px 1px 2px rgba(0, 0, 0, 0.3));\n",
              "      fill: #FFFFFF;\n",
              "    }\n",
              "  </style>\n",
              "\n",
              "      <script>\n",
              "        const buttonEl =\n",
              "          document.querySelector('#df-8236cc5d-3ff8-424a-9fae-adec663c3439 button.colab-df-convert');\n",
              "        buttonEl.style.display =\n",
              "          google.colab.kernel.accessAllowed ? 'block' : 'none';\n",
              "\n",
              "        async function convertToInteractive(key) {\n",
              "          const element = document.querySelector('#df-8236cc5d-3ff8-424a-9fae-adec663c3439');\n",
              "          const dataTable =\n",
              "            await google.colab.kernel.invokeFunction('convertToInteractive',\n",
              "                                                     [key], {});\n",
              "          if (!dataTable) return;\n",
              "\n",
              "          const docLinkHtml = 'Like what you see? Visit the ' +\n",
              "            '<a target=\"_blank\" href=https://colab.research.google.com/notebooks/data_table.ipynb>data table notebook</a>'\n",
              "            + ' to learn more about interactive tables.';\n",
              "          element.innerHTML = '';\n",
              "          dataTable['output_type'] = 'display_data';\n",
              "          await google.colab.output.renderOutput(dataTable, element);\n",
              "          const docLink = document.createElement('div');\n",
              "          docLink.innerHTML = docLinkHtml;\n",
              "          element.appendChild(docLink);\n",
              "        }\n",
              "      </script>\n",
              "    </div>\n",
              "  </div>\n",
              "  "
            ]
          },
          "metadata": {},
          "execution_count": 24
        }
      ]
    },
    {
      "cell_type": "markdown",
      "source": [
        "É possível identificar que no primeiro registro, o paciente tem COD_IDADE = 3 (i.e meses), e a coluna _fxetar5_ já o classifica como sendo de 0-4 anos. "
      ],
      "metadata": {
        "id": "SoTzte2lsiYl"
      }
    },
    {
      "cell_type": "markdown",
      "source": [
        "Dando continuidade ao processo de análise, agora iremos selecionar apenas os pacientes que residem/residiram em Fortaleza e que foram atendidos na capital cearense. Para isso, iremos criar uma query onde os valores da coluna *MUNIC_RES*(Município de residência do paciente) sejam iguais aos valores *MUNIC_MOV*(Município onde foi realizada a internação)."
      ],
      "metadata": {
        "id": "Dh0bJr3RuPc1"
      }
    },
    {
      "cell_type": "code",
      "source": [
        "df_fortaleza = df_fortaleza.query(\"MUNIC_MOV==230440\")"
      ],
      "metadata": {
        "id": "QZGjbNLwy2wQ"
      },
      "execution_count": null,
      "outputs": []
    },
    {
      "cell_type": "code",
      "source": [
        "df_fortaleza[[\"MUNIC_RES\", \"MUNIC_MOV\"]]"
      ],
      "metadata": {
        "colab": {
          "base_uri": "https://localhost:8080/",
          "height": 424
        },
        "id": "3NrzgTNKxFLG",
        "outputId": "176e7c4b-0ddb-4aab-8c39-42eb01a73827"
      },
      "execution_count": null,
      "outputs": [
        {
          "output_type": "execute_result",
          "data": {
            "text/plain": [
              "        MUNIC_RES  MUNIC_MOV\n",
              "0          230440     230440\n",
              "1          230440     230440\n",
              "2          230440     230440\n",
              "3          230440     230440\n",
              "4          230440     230440\n",
              "...           ...        ...\n",
              "166739     230440     230440\n",
              "166740     230440     230440\n",
              "166741     230440     230440\n",
              "166742     230440     230440\n",
              "166743     230440     230440\n",
              "\n",
              "[165105 rows x 2 columns]"
            ],
            "text/html": [
              "\n",
              "  <div id=\"df-8291ef3d-8235-4151-9966-130881cebfda\">\n",
              "    <div class=\"colab-df-container\">\n",
              "      <div>\n",
              "<style scoped>\n",
              "    .dataframe tbody tr th:only-of-type {\n",
              "        vertical-align: middle;\n",
              "    }\n",
              "\n",
              "    .dataframe tbody tr th {\n",
              "        vertical-align: top;\n",
              "    }\n",
              "\n",
              "    .dataframe thead th {\n",
              "        text-align: right;\n",
              "    }\n",
              "</style>\n",
              "<table border=\"1\" class=\"dataframe\">\n",
              "  <thead>\n",
              "    <tr style=\"text-align: right;\">\n",
              "      <th></th>\n",
              "      <th>MUNIC_RES</th>\n",
              "      <th>MUNIC_MOV</th>\n",
              "    </tr>\n",
              "  </thead>\n",
              "  <tbody>\n",
              "    <tr>\n",
              "      <th>0</th>\n",
              "      <td>230440</td>\n",
              "      <td>230440</td>\n",
              "    </tr>\n",
              "    <tr>\n",
              "      <th>1</th>\n",
              "      <td>230440</td>\n",
              "      <td>230440</td>\n",
              "    </tr>\n",
              "    <tr>\n",
              "      <th>2</th>\n",
              "      <td>230440</td>\n",
              "      <td>230440</td>\n",
              "    </tr>\n",
              "    <tr>\n",
              "      <th>3</th>\n",
              "      <td>230440</td>\n",
              "      <td>230440</td>\n",
              "    </tr>\n",
              "    <tr>\n",
              "      <th>4</th>\n",
              "      <td>230440</td>\n",
              "      <td>230440</td>\n",
              "    </tr>\n",
              "    <tr>\n",
              "      <th>...</th>\n",
              "      <td>...</td>\n",
              "      <td>...</td>\n",
              "    </tr>\n",
              "    <tr>\n",
              "      <th>166739</th>\n",
              "      <td>230440</td>\n",
              "      <td>230440</td>\n",
              "    </tr>\n",
              "    <tr>\n",
              "      <th>166740</th>\n",
              "      <td>230440</td>\n",
              "      <td>230440</td>\n",
              "    </tr>\n",
              "    <tr>\n",
              "      <th>166741</th>\n",
              "      <td>230440</td>\n",
              "      <td>230440</td>\n",
              "    </tr>\n",
              "    <tr>\n",
              "      <th>166742</th>\n",
              "      <td>230440</td>\n",
              "      <td>230440</td>\n",
              "    </tr>\n",
              "    <tr>\n",
              "      <th>166743</th>\n",
              "      <td>230440</td>\n",
              "      <td>230440</td>\n",
              "    </tr>\n",
              "  </tbody>\n",
              "</table>\n",
              "<p>165105 rows × 2 columns</p>\n",
              "</div>\n",
              "      <button class=\"colab-df-convert\" onclick=\"convertToInteractive('df-8291ef3d-8235-4151-9966-130881cebfda')\"\n",
              "              title=\"Convert this dataframe to an interactive table.\"\n",
              "              style=\"display:none;\">\n",
              "        \n",
              "  <svg xmlns=\"http://www.w3.org/2000/svg\" height=\"24px\"viewBox=\"0 0 24 24\"\n",
              "       width=\"24px\">\n",
              "    <path d=\"M0 0h24v24H0V0z\" fill=\"none\"/>\n",
              "    <path d=\"M18.56 5.44l.94 2.06.94-2.06 2.06-.94-2.06-.94-.94-2.06-.94 2.06-2.06.94zm-11 1L8.5 8.5l.94-2.06 2.06-.94-2.06-.94L8.5 2.5l-.94 2.06-2.06.94zm10 10l.94 2.06.94-2.06 2.06-.94-2.06-.94-.94-2.06-.94 2.06-2.06.94z\"/><path d=\"M17.41 7.96l-1.37-1.37c-.4-.4-.92-.59-1.43-.59-.52 0-1.04.2-1.43.59L10.3 9.45l-7.72 7.72c-.78.78-.78 2.05 0 2.83L4 21.41c.39.39.9.59 1.41.59.51 0 1.02-.2 1.41-.59l7.78-7.78 2.81-2.81c.8-.78.8-2.07 0-2.86zM5.41 20L4 18.59l7.72-7.72 1.47 1.35L5.41 20z\"/>\n",
              "  </svg>\n",
              "      </button>\n",
              "      \n",
              "  <style>\n",
              "    .colab-df-container {\n",
              "      display:flex;\n",
              "      flex-wrap:wrap;\n",
              "      gap: 12px;\n",
              "    }\n",
              "\n",
              "    .colab-df-convert {\n",
              "      background-color: #E8F0FE;\n",
              "      border: none;\n",
              "      border-radius: 50%;\n",
              "      cursor: pointer;\n",
              "      display: none;\n",
              "      fill: #1967D2;\n",
              "      height: 32px;\n",
              "      padding: 0 0 0 0;\n",
              "      width: 32px;\n",
              "    }\n",
              "\n",
              "    .colab-df-convert:hover {\n",
              "      background-color: #E2EBFA;\n",
              "      box-shadow: 0px 1px 2px rgba(60, 64, 67, 0.3), 0px 1px 3px 1px rgba(60, 64, 67, 0.15);\n",
              "      fill: #174EA6;\n",
              "    }\n",
              "\n",
              "    [theme=dark] .colab-df-convert {\n",
              "      background-color: #3B4455;\n",
              "      fill: #D2E3FC;\n",
              "    }\n",
              "\n",
              "    [theme=dark] .colab-df-convert:hover {\n",
              "      background-color: #434B5C;\n",
              "      box-shadow: 0px 1px 3px 1px rgba(0, 0, 0, 0.15);\n",
              "      filter: drop-shadow(0px 1px 2px rgba(0, 0, 0, 0.3));\n",
              "      fill: #FFFFFF;\n",
              "    }\n",
              "  </style>\n",
              "\n",
              "      <script>\n",
              "        const buttonEl =\n",
              "          document.querySelector('#df-8291ef3d-8235-4151-9966-130881cebfda button.colab-df-convert');\n",
              "        buttonEl.style.display =\n",
              "          google.colab.kernel.accessAllowed ? 'block' : 'none';\n",
              "\n",
              "        async function convertToInteractive(key) {\n",
              "          const element = document.querySelector('#df-8291ef3d-8235-4151-9966-130881cebfda');\n",
              "          const dataTable =\n",
              "            await google.colab.kernel.invokeFunction('convertToInteractive',\n",
              "                                                     [key], {});\n",
              "          if (!dataTable) return;\n",
              "\n",
              "          const docLinkHtml = 'Like what you see? Visit the ' +\n",
              "            '<a target=\"_blank\" href=https://colab.research.google.com/notebooks/data_table.ipynb>data table notebook</a>'\n",
              "            + ' to learn more about interactive tables.';\n",
              "          element.innerHTML = '';\n",
              "          dataTable['output_type'] = 'display_data';\n",
              "          await google.colab.output.renderOutput(dataTable, element);\n",
              "          const docLink = document.createElement('div');\n",
              "          docLink.innerHTML = docLinkHtml;\n",
              "          element.appendChild(docLink);\n",
              "        }\n",
              "      </script>\n",
              "    </div>\n",
              "  </div>\n",
              "  "
            ]
          },
          "metadata": {},
          "execution_count": 26
        }
      ]
    },
    {
      "cell_type": "code",
      "source": [
        "df_fortaleza.shape"
      ],
      "metadata": {
        "colab": {
          "base_uri": "https://localhost:8080/"
        },
        "id": "laNAQmClvV28",
        "outputId": "1516aa37-34c4-489a-ef35-92fa0dbd06e4"
      },
      "execution_count": null,
      "outputs": [
        {
          "output_type": "execute_result",
          "data": {
            "text/plain": [
              "(165105, 130)"
            ]
          },
          "metadata": {},
          "execution_count": 27
        }
      ]
    },
    {
      "cell_type": "markdown",
      "source": [
        "Após o tratamento e seleção das observações e variáveis de interesse, temos um dataset final com 165.105 registros de internações. O próximo passo é selecionar os CEPS unícos dos registros para em seguida criarmos uma coluna com o bairro de residência do paciente."
      ],
      "metadata": {
        "id": "qAeZnWy5vccN"
      }
    },
    {
      "cell_type": "code",
      "source": [
        "ceps = df_fortaleza[\"CEP\"].unique()\n",
        "df_ceps_unicos = pd.DataFrame(ceps)"
      ],
      "metadata": {
        "id": "qjcQR8blyHca"
      },
      "execution_count": null,
      "outputs": []
    },
    {
      "cell_type": "code",
      "source": [
        "#Exportando uma planilha com os valores únicos para utilizarmos uma API para retornar o bairro e endereço do CEP.\n",
        "df_ceps_unicos.to_excel(\"ceps.xlsx\")"
      ],
      "metadata": {
        "id": "vI1G5OOmINfQ"
      },
      "execution_count": null,
      "outputs": []
    },
    {
      "cell_type": "markdown",
      "source": [
        "Utilizamos dados da prefeitura de Fortaleza disponíveis em https://simda.sms.fortaleza.ce.gov.br/simda/populacao/faixa, no site é possível exportar um arquivo com dados relacionados à população de cada bairro por faixa etária. \n",
        "Em seguida, criamos dois datasets *bairros* (Contém todos os ceps extraídos e seus bairros respectivamente e *pop_bairro* contendo toda a população por bairros de acordo com o censo de 2010, para que seja possível calcular a taxa de internações por 100 habitantes."
      ],
      "metadata": {
        "id": "dUb7dAm31Jp8"
      }
    },
    {
      "cell_type": "code",
      "source": [
        "bairros = pd.read_excel('/content/drive/MyDrive/atlantico_bootcamp/datasets/bairros/ceps_fortaleza.xlsx', index_col=0)\n",
        "pop_bairros = pd.read_excel('/content/drive/MyDrive/atlantico_bootcamp/datasets/bairros/pop_idh_bairros.xlsx', index_col=0)"
      ],
      "metadata": {
        "id": "-JxOhPRMc3YP"
      },
      "execution_count": null,
      "outputs": []
    },
    {
      "cell_type": "code",
      "source": [
        "# IDADE E CATEGORIA/GRUPO DE CID-10\n",
        "# https://medium.com/analytics-vidhya/create-geomaps-using-graph-objects-and-geojson-plotly-dcfb4067e3a6\n",
        "#Histograma - quando granularidade for 1. Valor maximo - valor minimo = numero de bins"
      ],
      "metadata": {
        "id": "YG05-cdRzVA2"
      },
      "execution_count": null,
      "outputs": []
    },
    {
      "cell_type": "code",
      "source": [
        "#MERGE - Criando um novo dataframe com a mescla dos valores de CEP que coincidem entre as bases de dados selecionadas\n",
        "dataset_bairros = df_fortaleza.merge(bairros, left_on='CEP', right_on='CEP')\n",
        "#Vendo os registros"
      ],
      "metadata": {
        "id": "-L33FaaEev0V"
      },
      "execution_count": null,
      "outputs": []
    },
    {
      "cell_type": "code",
      "source": [
        "dataset_bairros.shape"
      ],
      "metadata": {
        "id": "NHYGLOOufeph",
        "colab": {
          "base_uri": "https://localhost:8080/"
        },
        "outputId": "9f29c850-2166-4ea0-e742-43bbf2d556d5"
      },
      "execution_count": null,
      "outputs": [
        {
          "output_type": "execute_result",
          "data": {
            "text/plain": [
              "(164467, 134)"
            ]
          },
          "metadata": {},
          "execution_count": 33
        }
      ]
    },
    {
      "cell_type": "code",
      "source": [
        "df_merges = pop_bairros.merge(dataset_bairros, left_on='Bairro _formatado', right_on='Bairro _formatado')"
      ],
      "metadata": {
        "id": "2yE--Dg4kh2e"
      },
      "execution_count": null,
      "outputs": []
    },
    {
      "cell_type": "code",
      "source": [
        "list(df_merges.columns)"
      ],
      "metadata": {
        "id": "QfF204sarp1T"
      },
      "execution_count": null,
      "outputs": []
    },
    {
      "cell_type": "code",
      "source": [
        "df_merges = df_merges[[\"ANO_CMPT\", \"MES_CMPT\", \"ESPEC\", \"N_AIH\", \"CEP\", \"MUNIC_RES\", \"SEXO\", \"IDADE\", \"PROC_REA\",\n",
        "                            \"VAL_TOT\", \"DIAG_PRINC\", \"MORTE\", \"CNES\", \"DIAS_PERM\", \"MUNIC_MOV\", \"ETNIA\",\n",
        "                           \"Bairro _formatado\", \"Bairro\", \"data.inter\",\"data.saida\", \"cnes\", \"qnt\", \"IDH-B\", \"regional\"]]"
      ],
      "metadata": {
        "id": "0k90K9FJf5hw"
      },
      "execution_count": null,
      "outputs": []
    },
    {
      "cell_type": "code",
      "source": [
        "df_final = df_merges"
      ],
      "metadata": {
        "id": "R8e3T6Qrgkji"
      },
      "execution_count": null,
      "outputs": []
    },
    {
      "cell_type": "code",
      "source": [
        "df_final.shape"
      ],
      "metadata": {
        "colab": {
          "base_uri": "https://localhost:8080/"
        },
        "id": "DrZHVWZjgrIS",
        "outputId": "78b2a490-50cc-48fc-858c-6ea4cf14d36b"
      },
      "execution_count": null,
      "outputs": [
        {
          "output_type": "execute_result",
          "data": {
            "text/plain": [
              "(164467, 24)"
            ]
          },
          "metadata": {},
          "execution_count": 38
        }
      ]
    },
    {
      "cell_type": "code",
      "source": [
        "cid = pd.read_csv(\"https://raw.githubusercontent.com/igorduartt/projetos_sesa/main/tabelas_referencia/cid10_completo.csv\", sep = \",\")"
      ],
      "metadata": {
        "id": "BLVyH6N14T7T"
      },
      "execution_count": null,
      "outputs": []
    },
    {
      "cell_type": "code",
      "source": [
        "cid.head()"
      ],
      "metadata": {
        "colab": {
          "base_uri": "https://localhost:8080/",
          "height": 206
        },
        "id": "lt2h_j_btsI9",
        "outputId": "66bc17f4-8078-4451-bd8d-e8b8b397acbd"
      },
      "execution_count": null,
      "outputs": [
        {
          "output_type": "execute_result",
          "data": {
            "text/plain": [
              "  COD_CID                                      DESCRICAO_CID  \\\n",
              "0     A00                                             Cólera   \n",
              "1    A000  Cólera devida a Vibrio Cholerae 01, biótipo Ch...   \n",
              "2    A001  Cólera devida a Vibrio Cholerae 01, biótipo El...   \n",
              "3    A009                            Cólera năo especificada   \n",
              "4     A01                       Febres tifóide e paratifóide   \n",
              "\n",
              "                             GRUPO  \\\n",
              "0  Doenças infecciosas intestinais   \n",
              "1  Doenças infecciosas intestinais   \n",
              "2  Doenças infecciosas intestinais   \n",
              "3  Doenças infecciosas intestinais   \n",
              "4  Doenças infecciosas intestinais   \n",
              "\n",
              "                                            CAPITULO  \n",
              "0  Capítulo I - Algumas doenças infecciosas e par...  \n",
              "1  Capítulo I - Algumas doenças infecciosas e par...  \n",
              "2  Capítulo I - Algumas doenças infecciosas e par...  \n",
              "3  Capítulo I - Algumas doenças infecciosas e par...  \n",
              "4  Capítulo I - Algumas doenças infecciosas e par...  "
            ],
            "text/html": [
              "\n",
              "  <div id=\"df-266c4911-ba82-4f3d-93d5-85b647b367ec\">\n",
              "    <div class=\"colab-df-container\">\n",
              "      <div>\n",
              "<style scoped>\n",
              "    .dataframe tbody tr th:only-of-type {\n",
              "        vertical-align: middle;\n",
              "    }\n",
              "\n",
              "    .dataframe tbody tr th {\n",
              "        vertical-align: top;\n",
              "    }\n",
              "\n",
              "    .dataframe thead th {\n",
              "        text-align: right;\n",
              "    }\n",
              "</style>\n",
              "<table border=\"1\" class=\"dataframe\">\n",
              "  <thead>\n",
              "    <tr style=\"text-align: right;\">\n",
              "      <th></th>\n",
              "      <th>COD_CID</th>\n",
              "      <th>DESCRICAO_CID</th>\n",
              "      <th>GRUPO</th>\n",
              "      <th>CAPITULO</th>\n",
              "    </tr>\n",
              "  </thead>\n",
              "  <tbody>\n",
              "    <tr>\n",
              "      <th>0</th>\n",
              "      <td>A00</td>\n",
              "      <td>Cólera</td>\n",
              "      <td>Doenças infecciosas intestinais</td>\n",
              "      <td>Capítulo I - Algumas doenças infecciosas e par...</td>\n",
              "    </tr>\n",
              "    <tr>\n",
              "      <th>1</th>\n",
              "      <td>A000</td>\n",
              "      <td>Cólera devida a Vibrio Cholerae 01, biótipo Ch...</td>\n",
              "      <td>Doenças infecciosas intestinais</td>\n",
              "      <td>Capítulo I - Algumas doenças infecciosas e par...</td>\n",
              "    </tr>\n",
              "    <tr>\n",
              "      <th>2</th>\n",
              "      <td>A001</td>\n",
              "      <td>Cólera devida a Vibrio Cholerae 01, biótipo El...</td>\n",
              "      <td>Doenças infecciosas intestinais</td>\n",
              "      <td>Capítulo I - Algumas doenças infecciosas e par...</td>\n",
              "    </tr>\n",
              "    <tr>\n",
              "      <th>3</th>\n",
              "      <td>A009</td>\n",
              "      <td>Cólera năo especificada</td>\n",
              "      <td>Doenças infecciosas intestinais</td>\n",
              "      <td>Capítulo I - Algumas doenças infecciosas e par...</td>\n",
              "    </tr>\n",
              "    <tr>\n",
              "      <th>4</th>\n",
              "      <td>A01</td>\n",
              "      <td>Febres tifóide e paratifóide</td>\n",
              "      <td>Doenças infecciosas intestinais</td>\n",
              "      <td>Capítulo I - Algumas doenças infecciosas e par...</td>\n",
              "    </tr>\n",
              "  </tbody>\n",
              "</table>\n",
              "</div>\n",
              "      <button class=\"colab-df-convert\" onclick=\"convertToInteractive('df-266c4911-ba82-4f3d-93d5-85b647b367ec')\"\n",
              "              title=\"Convert this dataframe to an interactive table.\"\n",
              "              style=\"display:none;\">\n",
              "        \n",
              "  <svg xmlns=\"http://www.w3.org/2000/svg\" height=\"24px\"viewBox=\"0 0 24 24\"\n",
              "       width=\"24px\">\n",
              "    <path d=\"M0 0h24v24H0V0z\" fill=\"none\"/>\n",
              "    <path d=\"M18.56 5.44l.94 2.06.94-2.06 2.06-.94-2.06-.94-.94-2.06-.94 2.06-2.06.94zm-11 1L8.5 8.5l.94-2.06 2.06-.94-2.06-.94L8.5 2.5l-.94 2.06-2.06.94zm10 10l.94 2.06.94-2.06 2.06-.94-2.06-.94-.94-2.06-.94 2.06-2.06.94z\"/><path d=\"M17.41 7.96l-1.37-1.37c-.4-.4-.92-.59-1.43-.59-.52 0-1.04.2-1.43.59L10.3 9.45l-7.72 7.72c-.78.78-.78 2.05 0 2.83L4 21.41c.39.39.9.59 1.41.59.51 0 1.02-.2 1.41-.59l7.78-7.78 2.81-2.81c.8-.78.8-2.07 0-2.86zM5.41 20L4 18.59l7.72-7.72 1.47 1.35L5.41 20z\"/>\n",
              "  </svg>\n",
              "      </button>\n",
              "      \n",
              "  <style>\n",
              "    .colab-df-container {\n",
              "      display:flex;\n",
              "      flex-wrap:wrap;\n",
              "      gap: 12px;\n",
              "    }\n",
              "\n",
              "    .colab-df-convert {\n",
              "      background-color: #E8F0FE;\n",
              "      border: none;\n",
              "      border-radius: 50%;\n",
              "      cursor: pointer;\n",
              "      display: none;\n",
              "      fill: #1967D2;\n",
              "      height: 32px;\n",
              "      padding: 0 0 0 0;\n",
              "      width: 32px;\n",
              "    }\n",
              "\n",
              "    .colab-df-convert:hover {\n",
              "      background-color: #E2EBFA;\n",
              "      box-shadow: 0px 1px 2px rgba(60, 64, 67, 0.3), 0px 1px 3px 1px rgba(60, 64, 67, 0.15);\n",
              "      fill: #174EA6;\n",
              "    }\n",
              "\n",
              "    [theme=dark] .colab-df-convert {\n",
              "      background-color: #3B4455;\n",
              "      fill: #D2E3FC;\n",
              "    }\n",
              "\n",
              "    [theme=dark] .colab-df-convert:hover {\n",
              "      background-color: #434B5C;\n",
              "      box-shadow: 0px 1px 3px 1px rgba(0, 0, 0, 0.15);\n",
              "      filter: drop-shadow(0px 1px 2px rgba(0, 0, 0, 0.3));\n",
              "      fill: #FFFFFF;\n",
              "    }\n",
              "  </style>\n",
              "\n",
              "      <script>\n",
              "        const buttonEl =\n",
              "          document.querySelector('#df-266c4911-ba82-4f3d-93d5-85b647b367ec button.colab-df-convert');\n",
              "        buttonEl.style.display =\n",
              "          google.colab.kernel.accessAllowed ? 'block' : 'none';\n",
              "\n",
              "        async function convertToInteractive(key) {\n",
              "          const element = document.querySelector('#df-266c4911-ba82-4f3d-93d5-85b647b367ec');\n",
              "          const dataTable =\n",
              "            await google.colab.kernel.invokeFunction('convertToInteractive',\n",
              "                                                     [key], {});\n",
              "          if (!dataTable) return;\n",
              "\n",
              "          const docLinkHtml = 'Like what you see? Visit the ' +\n",
              "            '<a target=\"_blank\" href=https://colab.research.google.com/notebooks/data_table.ipynb>data table notebook</a>'\n",
              "            + ' to learn more about interactive tables.';\n",
              "          element.innerHTML = '';\n",
              "          dataTable['output_type'] = 'display_data';\n",
              "          await google.colab.output.renderOutput(dataTable, element);\n",
              "          const docLink = document.createElement('div');\n",
              "          docLink.innerHTML = docLinkHtml;\n",
              "          element.appendChild(docLink);\n",
              "        }\n",
              "      </script>\n",
              "    </div>\n",
              "  </div>\n",
              "  "
            ]
          },
          "metadata": {},
          "execution_count": 51
        }
      ]
    },
    {
      "cell_type": "code",
      "source": [
        "df = df_final.merge(cid, left_on='DIAG_PRINC', right_on='COD_CID')"
      ],
      "metadata": {
        "id": "hJEQD4GV4ftk"
      },
      "execution_count": null,
      "outputs": []
    },
    {
      "cell_type": "code",
      "source": [
        "df.info()"
      ],
      "metadata": {
        "colab": {
          "base_uri": "https://localhost:8080/"
        },
        "id": "qPF4KYxMuMUG",
        "outputId": "e12881a2-b827-41ec-b775-c8c47ba34399"
      },
      "execution_count": null,
      "outputs": [
        {
          "output_type": "stream",
          "name": "stdout",
          "text": [
            "<class 'pandas.core.frame.DataFrame'>\n",
            "Int64Index: 164467 entries, 0 to 164466\n",
            "Data columns (total 28 columns):\n",
            " #   Column             Non-Null Count   Dtype  \n",
            "---  ------             --------------   -----  \n",
            " 0   ANO_CMPT           164467 non-null  int64  \n",
            " 1   MES_CMPT           164467 non-null  int64  \n",
            " 2   ESPEC              164467 non-null  int64  \n",
            " 3   N_AIH              164467 non-null  int64  \n",
            " 4   CEP                164467 non-null  int64  \n",
            " 5   MUNIC_RES          164467 non-null  int64  \n",
            " 6   SEXO               164467 non-null  int64  \n",
            " 7   IDADE              164467 non-null  int64  \n",
            " 8   PROC_REA           164467 non-null  int64  \n",
            " 9   VAL_TOT            164467 non-null  float64\n",
            " 10  DIAG_PRINC         164467 non-null  object \n",
            " 11  MORTE              164467 non-null  int64  \n",
            " 12  CNES               164467 non-null  int64  \n",
            " 13  DIAS_PERM          164467 non-null  int64  \n",
            " 14  MUNIC_MOV          164467 non-null  int64  \n",
            " 15  ETNIA              164467 non-null  int64  \n",
            " 16  Bairro _formatado  164467 non-null  object \n",
            " 17  Bairro             164467 non-null  object \n",
            " 18  data.inter         164467 non-null  object \n",
            " 19  data.saida         164467 non-null  object \n",
            " 20  cnes               164467 non-null  int64  \n",
            " 21  qnt                164467 non-null  int64  \n",
            " 22  IDH-B              164467 non-null  float64\n",
            " 23  regional           164467 non-null  int64  \n",
            " 24  COD_CID            164467 non-null  object \n",
            " 25  DESCRICAO_CID      164467 non-null  object \n",
            " 26  GRUPO              164467 non-null  object \n",
            " 27  CAPITULO           164467 non-null  object \n",
            "dtypes: float64(2), int64(17), object(9)\n",
            "memory usage: 36.4+ MB\n"
          ]
        }
      ]
    },
    {
      "cell_type": "code",
      "source": [
        "df[\"Bairro _formatado\"].value_counts()"
      ],
      "metadata": {
        "colab": {
          "base_uri": "https://localhost:8080/"
        },
        "id": "woxvmEJo4aLa",
        "outputId": "8b0a7745-472a-4639-b444-282e84fd9d31"
      },
      "execution_count": null,
      "outputs": [
        {
          "output_type": "execute_result",
          "data": {
            "text/plain": [
              "MOURA BRASIL            11045\n",
              "BARRA DO CEARA           9896\n",
              "PREFEITO JOSE WALTER     5525\n",
              "BOM JARDIM               3916\n",
              "ALVARO WEYNE             3790\n",
              "                        ...  \n",
              "PARQUE IRACEMA            101\n",
              "DENDE                      98\n",
              "SALINAS                    81\n",
              "GUARARAPES                 57\n",
              "DE LOURDES                 15\n",
              "Name: Bairro _formatado, Length: 120, dtype: int64"
            ]
          },
          "metadata": {},
          "execution_count": 55
        }
      ]
    },
    {
      "cell_type": "markdown",
      "source": [
        "Conclusão sobre o tratamento dos dados.\n",
        "\n",
        "O dataset final possui 164.467 registros de internações, foram selecionadas 24 variáveis para dar segmentos à parte de visualização dos dados."
      ],
      "metadata": {
        "id": "kk0TqJmlusg1"
      }
    },
    {
      "cell_type": "markdown",
      "source": [
        "*   ANO_CMPT - O ano de registro da internação;\n",
        "*   MES_CMPT - O mês de registro;\n",
        "*   ESPEC - Tipo do leito de internação;\n",
        "*   N_AIH - Código da autorização de internação hospitalar;\n",
        "*   CEP - Código postal de residência do paciente;\n",
        "*   MUN_RES - Município de residência do paciente;\n",
        "*   SEXO - Sexo do(a) paciente;\n",
        "*   IDADE - Idade do(a) paciente;\n",
        "*   PROC_REA - Procedimento principal que foi realizado durante a internação;\n",
        "*   VAL_TOT - Valor total da internação;\n",
        "*   DT_INTER - Data da internação do(a) paciente;\n",
        "*   DT_SAIDA - Data da alta;\n",
        "*   DIAG_PRINC - Diagnóstico principal (de acordo com a CID-10)\n",
        "*   MORTE - Indica se houve ou não a morte do paciente;\n",
        "*   CNES - Código do estabelecimento que realizou a internação\n",
        "*   DIAS_PERM - Dias de permanência\n",
        "*   MUNIC_MOV - Município onde o paciente foi internado\n",
        "*   ETNIA - Etnia do(a) paciente\n",
        "*   COD_IDADE - Código da idade do paciente (Dias, meses ou anos\n",
        "*   IDH-B - índicie de desenvolvimento humano dos bairros (Disponível no site da prefeitura de fortaleza;\n",
        "*   pop_total (População total e por bairro de acordo com o censo de 2010)\n",
        "*   regional - Regional do bairro (1 a 12);\n",
        "*   bairro - Bairro de residência do paciente;\n",
        "*   bairro_formatado - nome do bairro de acordo com site da prefeitura."
      ],
      "metadata": {
        "id": "tuLwwf4VvCEE"
      }
    },
    {
      "cell_type": "markdown",
      "source": [
        "#Visualização de dados"
      ],
      "metadata": {
        "id": "FGPmVRi6uhgd"
      }
    },
    {
      "cell_type": "code",
      "source": [
        "lollipop_chart = pd.DataFrame(df.groupby(['GRUPO'])[\"qnt\"].sum().sort_values(ascending=False))"
      ],
      "metadata": {
        "id": "9UFmkkGK6WGB"
      },
      "execution_count": null,
      "outputs": []
    },
    {
      "cell_type": "code",
      "source": [
        "lollipop_chart.head()"
      ],
      "metadata": {
        "colab": {
          "base_uri": "https://localhost:8080/",
          "height": 237
        },
        "id": "oijrxEaH94BP",
        "outputId": "4938d447-4673-4aef-d4aa-f35da80a0cb3"
      },
      "execution_count": null,
      "outputs": [
        {
          "output_type": "execute_result",
          "data": {
            "text/plain": [
              "                                               qnt\n",
              "GRUPO                                             \n",
              "Influenza [gripe] e pneumonia                24101\n",
              "Doenças crônicas das vias aéreas inferiores  20616\n",
              "Doenças infecciosas intestinais              20105\n",
              "Doenças cerebrovasculares                    18480\n",
              "Outras formas de doença do coração           17528"
            ],
            "text/html": [
              "\n",
              "  <div id=\"df-2fbbb835-4060-45d0-a4cf-6807cd1450a9\">\n",
              "    <div class=\"colab-df-container\">\n",
              "      <div>\n",
              "<style scoped>\n",
              "    .dataframe tbody tr th:only-of-type {\n",
              "        vertical-align: middle;\n",
              "    }\n",
              "\n",
              "    .dataframe tbody tr th {\n",
              "        vertical-align: top;\n",
              "    }\n",
              "\n",
              "    .dataframe thead th {\n",
              "        text-align: right;\n",
              "    }\n",
              "</style>\n",
              "<table border=\"1\" class=\"dataframe\">\n",
              "  <thead>\n",
              "    <tr style=\"text-align: right;\">\n",
              "      <th></th>\n",
              "      <th>qnt</th>\n",
              "    </tr>\n",
              "    <tr>\n",
              "      <th>GRUPO</th>\n",
              "      <th></th>\n",
              "    </tr>\n",
              "  </thead>\n",
              "  <tbody>\n",
              "    <tr>\n",
              "      <th>Influenza [gripe] e pneumonia</th>\n",
              "      <td>24101</td>\n",
              "    </tr>\n",
              "    <tr>\n",
              "      <th>Doenças crônicas das vias aéreas inferiores</th>\n",
              "      <td>20616</td>\n",
              "    </tr>\n",
              "    <tr>\n",
              "      <th>Doenças infecciosas intestinais</th>\n",
              "      <td>20105</td>\n",
              "    </tr>\n",
              "    <tr>\n",
              "      <th>Doenças cerebrovasculares</th>\n",
              "      <td>18480</td>\n",
              "    </tr>\n",
              "    <tr>\n",
              "      <th>Outras formas de doença do coração</th>\n",
              "      <td>17528</td>\n",
              "    </tr>\n",
              "  </tbody>\n",
              "</table>\n",
              "</div>\n",
              "      <button class=\"colab-df-convert\" onclick=\"convertToInteractive('df-2fbbb835-4060-45d0-a4cf-6807cd1450a9')\"\n",
              "              title=\"Convert this dataframe to an interactive table.\"\n",
              "              style=\"display:none;\">\n",
              "        \n",
              "  <svg xmlns=\"http://www.w3.org/2000/svg\" height=\"24px\"viewBox=\"0 0 24 24\"\n",
              "       width=\"24px\">\n",
              "    <path d=\"M0 0h24v24H0V0z\" fill=\"none\"/>\n",
              "    <path d=\"M18.56 5.44l.94 2.06.94-2.06 2.06-.94-2.06-.94-.94-2.06-.94 2.06-2.06.94zm-11 1L8.5 8.5l.94-2.06 2.06-.94-2.06-.94L8.5 2.5l-.94 2.06-2.06.94zm10 10l.94 2.06.94-2.06 2.06-.94-2.06-.94-.94-2.06-.94 2.06-2.06.94z\"/><path d=\"M17.41 7.96l-1.37-1.37c-.4-.4-.92-.59-1.43-.59-.52 0-1.04.2-1.43.59L10.3 9.45l-7.72 7.72c-.78.78-.78 2.05 0 2.83L4 21.41c.39.39.9.59 1.41.59.51 0 1.02-.2 1.41-.59l7.78-7.78 2.81-2.81c.8-.78.8-2.07 0-2.86zM5.41 20L4 18.59l7.72-7.72 1.47 1.35L5.41 20z\"/>\n",
              "  </svg>\n",
              "      </button>\n",
              "      \n",
              "  <style>\n",
              "    .colab-df-container {\n",
              "      display:flex;\n",
              "      flex-wrap:wrap;\n",
              "      gap: 12px;\n",
              "    }\n",
              "\n",
              "    .colab-df-convert {\n",
              "      background-color: #E8F0FE;\n",
              "      border: none;\n",
              "      border-radius: 50%;\n",
              "      cursor: pointer;\n",
              "      display: none;\n",
              "      fill: #1967D2;\n",
              "      height: 32px;\n",
              "      padding: 0 0 0 0;\n",
              "      width: 32px;\n",
              "    }\n",
              "\n",
              "    .colab-df-convert:hover {\n",
              "      background-color: #E2EBFA;\n",
              "      box-shadow: 0px 1px 2px rgba(60, 64, 67, 0.3), 0px 1px 3px 1px rgba(60, 64, 67, 0.15);\n",
              "      fill: #174EA6;\n",
              "    }\n",
              "\n",
              "    [theme=dark] .colab-df-convert {\n",
              "      background-color: #3B4455;\n",
              "      fill: #D2E3FC;\n",
              "    }\n",
              "\n",
              "    [theme=dark] .colab-df-convert:hover {\n",
              "      background-color: #434B5C;\n",
              "      box-shadow: 0px 1px 3px 1px rgba(0, 0, 0, 0.15);\n",
              "      filter: drop-shadow(0px 1px 2px rgba(0, 0, 0, 0.3));\n",
              "      fill: #FFFFFF;\n",
              "    }\n",
              "  </style>\n",
              "\n",
              "      <script>\n",
              "        const buttonEl =\n",
              "          document.querySelector('#df-2fbbb835-4060-45d0-a4cf-6807cd1450a9 button.colab-df-convert');\n",
              "        buttonEl.style.display =\n",
              "          google.colab.kernel.accessAllowed ? 'block' : 'none';\n",
              "\n",
              "        async function convertToInteractive(key) {\n",
              "          const element = document.querySelector('#df-2fbbb835-4060-45d0-a4cf-6807cd1450a9');\n",
              "          const dataTable =\n",
              "            await google.colab.kernel.invokeFunction('convertToInteractive',\n",
              "                                                     [key], {});\n",
              "          if (!dataTable) return;\n",
              "\n",
              "          const docLinkHtml = 'Like what you see? Visit the ' +\n",
              "            '<a target=\"_blank\" href=https://colab.research.google.com/notebooks/data_table.ipynb>data table notebook</a>'\n",
              "            + ' to learn more about interactive tables.';\n",
              "          element.innerHTML = '';\n",
              "          dataTable['output_type'] = 'display_data';\n",
              "          await google.colab.output.renderOutput(dataTable, element);\n",
              "          const docLink = document.createElement('div');\n",
              "          docLink.innerHTML = docLinkHtml;\n",
              "          element.appendChild(docLink);\n",
              "        }\n",
              "      </script>\n",
              "    </div>\n",
              "  </div>\n",
              "  "
            ]
          },
          "metadata": {},
          "execution_count": 43
        }
      ]
    },
    {
      "cell_type": "code",
      "source": [
        "lollipop_chart = lollipop_chart.add_suffix('_sum').reset_index()"
      ],
      "metadata": {
        "id": "bqdcmcdY9EJQ"
      },
      "execution_count": null,
      "outputs": []
    },
    {
      "cell_type": "code",
      "source": [
        "my_range=range(1,len(lollipop_chart.index)+1)\n",
        "# The horizontal plot is made using the hline function\n",
        "plt.hlines(y=my_range, xmin=0, xmax=lollipop_chart['qnt_sum'], color='skyblue')\n",
        "plt.plot(lollipop_chart['qnt_sum'], my_range, \"o\")\n",
        "\n",
        "# Add titles and axis names\n",
        "plt.yticks(my_range, lollipop_chart['GRUPO'])\n",
        "plt.title(\"Internações por CSAP\", loc='left')\n",
        "plt.xlabel('Número de internações')\n",
        "plt.ylabel('GRUPO')\n",
        "plt.figure(figsize=(700,500))\n",
        "# Show the plot\n",
        "plt.show()"
      ],
      "metadata": {
        "colab": {
          "base_uri": "https://localhost:8080/",
          "height": 415
        },
        "id": "R7ZwZVStujIK",
        "outputId": "57a695e5-246f-4828-fb46-79045c04e7b7"
      },
      "execution_count": null,
      "outputs": [
        {
          "output_type": "display_data",
          "data": {
            "text/plain": [
              "<Figure size 600x400 with 1 Axes>"
            ],
            "image/png": "[encoded data removed]"
          },
          "metadata": {}
        },
        {
          "output_type": "display_data",
          "data": {
            "text/plain": [
              "<Figure size 70000x50000 with 0 Axes>"
            ]
          },
          "metadata": {}
        }
      ]
    },
    {
      "cell_type": "code",
      "source": [
        "lollipop_chart.columns"
      ],
      "metadata": {
        "colab": {
          "base_uri": "https://localhost:8080/"
        },
        "id": "GVdkYwLJ7zTb",
        "outputId": "e38c4cbb-9ce0-48fd-e9c0-d1d2549b100a"
      },
      "execution_count": null,
      "outputs": [
        {
          "output_type": "execute_result",
          "data": {
            "text/plain": [
              "Index(['GRUPO', 'qnt_sum'], dtype='object')"
            ]
          },
          "metadata": {},
          "execution_count": 46
        }
      ]
    },
    {
      "cell_type": "code",
      "source": [
        ""
      ],
      "metadata": {
        "id": "KnuyYVQg8IvP"
      },
      "execution_count": null,
      "outputs": []
    }
  ]
}