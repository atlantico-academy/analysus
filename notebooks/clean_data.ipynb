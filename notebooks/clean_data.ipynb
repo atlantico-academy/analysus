{
  "cells": [
    {
      "cell_type": "markdown",
      "source": [
        "## Limpeza de Base\n",
        "\n",
        "| Arquivo | Tamanho Original | Linhas | Colunas | Tamanho Final | Colunas Relevantes | Arquivo Limpo |\n",
        "| --- | --- | --- | --- | --- | --- | --- |\n",
        "| df_internacoes.csv | 1,59 GB | 2.956.343 | 113 | 1,41 GB | 53 | internacoes.csv |\n",
        "| internacoes.csv | 1,41 GB | 2.956.343 | 53 |\n",
        "| internacoes_fortaleza.csv | 446 MB | 867.020 | 53 |\n",
        "\n",
        "- Internacoes.csv [ https://drive.google.com/file/d/1-5EJi6zieQY9RSMpzBUj_pYjAH0C0xJW/view?usp=sharing ]\n",
        "- Internacoes_Fortaleza.csv [ https://drive.google.com/file/d/1-COBYNnFldb7NkW2SiHbJV51VWTUHB4G/view?usp=sharing ] \n",
        "\n",
        "- Bases Mescladas\n",
        "    - mu_ibge - Municipios IBGE\n",
        "    - cid_10 - Descrições CID_10\n",
        "    - cep - CEP registrados na base dos Correios\n",
        "    - car_int - Caráter da internação\n",
        "    - cobranca - Motivo de saída/permanência\n",
        "    - cod_idade - Unidade de medida da idade\n",
        "    - complex - Complexidade\n",
        "    - espec - Especialidade do leito\n",
        "    - financ - Tipo de financiamento\n",
        "    - gestao - Indica o tipo de gestão do hospital\n",
        "    - ident - Identificação do tipo da AIH\n",
        "    - instru - Grau de instrução do paciente\n",
        "    - marca_uti - Indica qual o tipo de UTI utilizada pelo paciente\n",
        "    - nacional - Nacionalidade do paciente\n",
        "    - nat_jur - Natureza jurídica do estabelecimento, conforme a Comissão Nacional de Classificação - CONCLA\n",
        "    - raca_cor - Raça/cor do paciente\n",
        "    - regct - Regra contratual\n",
        "    - Sexo do paciente"
      ],
      "metadata": {
        "id": "6wD-TOE3iSK6"
      }
    },
    {
      "cell_type": "code",
      "execution_count": 1,
      "metadata": {
        "colab": {
          "base_uri": "https://localhost:8080/"
        },
        "id": "Rr87lHVv74nT",
        "outputId": "c97fc7fd-8557-44e7-9087-339fcd1d91d5"
      },
      "outputs": [
        {
          "output_type": "stream",
          "name": "stdout",
          "text": [
            "Drive already mounted at /content/drive; to attempt to forcibly remount, call drive.mount(\"/content/drive\", force_remount=True).\n"
          ]
        }
      ],
      "source": [
        "from google.colab import drive\n",
        "drive.mount('/content/drive')"
      ]
    },
    {
      "cell_type": "code",
      "source": [
        "# coding: utf-8\n",
        "\n",
        "import pandas as pd\n",
        "\n",
        "DF_INTERNACOES = \"/content/drive/MyDrive/Colab Notebooks/df_internacoes.csv\"\n",
        "\n",
        "INTERNACOES = \"/content/drive/MyDrive/Colab Notebooks/internacoes.csv\"\n",
        "INTERNACOES_FOR = \"/content/drive/MyDrive/Colab Notebooks/internacoes_fortaleza.csv\"\n",
        "\n",
        "MU_IBGE = \"/content/drive/MyDrive/Colab Notebooks/mun_ibge.csv\"\n",
        "CID_10 = \"/content/drive/MyDrive/Colab Notebooks/CID-10-SUBCATEGORIAS.CSV\"\n",
        "CEP = \"/content/drive/MyDrive/Colab Notebooks/cep.csv\"\n",
        "\n",
        "## https://github.com/rfsaldanha/microdatasus/wiki/Conven%C3%A7%C3%B5es-SIH-RD\n",
        "CAR_INT = \"/content/drive/MyDrive/Colab Notebooks/car_int.csv\"\n",
        "COBRANCA = \"/content/drive/MyDrive/Colab Notebooks/cobranca.csv\"\n",
        "COD_IDADE = \"/content/drive/MyDrive/Colab Notebooks/cod_idade.csv\"\n",
        "COMPLEX = \"/content/drive/MyDrive/Colab Notebooks/complex.csv\"\n",
        "ESPEC = \"/content/drive/MyDrive/Colab Notebooks/espec.csv\"\n",
        "FINANC = \"/content/drive/MyDrive/Colab Notebooks/financ.csv\"\n",
        "GESTAO = \"/content/drive/MyDrive/Colab Notebooks/gestao.csv\"\n",
        "IDENT = \"/content/drive/MyDrive/Colab Notebooks/ident.csv\"\n",
        "INSTRU = \"/content/drive/MyDrive/Colab Notebooks/instru.csv\"\n",
        "MARCA_UTI = \"/content/drive/MyDrive/Colab Notebooks/marca_uti.csv\"\n",
        "NACIONAL = \"/content/drive/MyDrive/Colab Notebooks/nacional.csv\"\n",
        "NAT_JUR = \"/content/drive/MyDrive/Colab Notebooks/nat_jur.csv\"\n",
        "RACA_COR = \"/content/drive/MyDrive/Colab Notebooks/raca_cor.csv\"\n",
        "REGCT = \"/content/drive/MyDrive/Colab Notebooks/regct.csv\"\n",
        "SEXO = \"/content/drive/MyDrive/Colab Notebooks/sexo.csv\"\n"
      ],
      "metadata": {
        "id": "UngN2IpdDPEi"
      },
      "execution_count": 2,
      "outputs": []
    },
    {
      "cell_type": "code",
      "source": [
        "# Colunas relativamente significantes da DF_INTERNACOES\n",
        "column = [\n",
        "    'UF_ZI',\n",
        "    'ANO_CMPT', \n",
        "    'MES_CMPT', \n",
        "    'ESPEC', \n",
        "    'CGC_HOSP', \n",
        "    'N_AIH',\n",
        "    'IDENT', \n",
        "    'CEP', \n",
        "    'MUNIC_RES', \n",
        "    'NASC', \n",
        "    'SEXO',\n",
        "    'UTI_MES_TO', \n",
        "    'MARCA_UTI', \n",
        "    'UTI_INT_TO', \n",
        "    'DIAR_ACOM', \n",
        "    'QT_DIARIAS', \n",
        "    'PROC_SOLIC', \n",
        "    'PROC_REA',\n",
        "    'VAL_SH', \n",
        "    'VAL_SP', \n",
        "    'VAL_TOT', \n",
        "    'VAL_UTI', \n",
        "    'DT_INTER', \n",
        "    'DT_SAIDA', \n",
        "    'DIAG_PRINC', \n",
        "    'COBRANCA', \n",
        "    'NATUREZA', \n",
        "    'NAT_JUR',\n",
        "    'GESTAO', \n",
        "    'IND_VDRL', \n",
        "    'MUNIC_MOV',\n",
        "    'COD_IDADE', \n",
        "    'IDADE', \n",
        "    'DIAS_PERM', \n",
        "    'MORTE', \n",
        "    'NACIONAL',\n",
        "    'CAR_INT', \n",
        "    'HOMONIMO', \n",
        "    'INSTRU', \n",
        "    'GESTRISCO', \n",
        "    'CNES', \n",
        "    'CNPJ_MANT', \n",
        "    'CID_ASSO', \n",
        "    'CID_MORTE', \n",
        "    'COMPLEX', \n",
        "    'FINANC',\n",
        "    'REGCT', \n",
        "    'RACA_COR'\n",
        "]"
      ],
      "metadata": {
        "id": "zuykLoOnjqXJ"
      },
      "execution_count": 3,
      "outputs": []
    },
    {
      "cell_type": "code",
      "source": [
        "df = pd.read_csv(DF_INTERNACOES, usecols=column, encoding= 'unicode_escape')\n",
        "df.head(2)"
      ],
      "metadata": {
        "colab": {
          "base_uri": "https://localhost:8080/",
          "height": 240
        },
        "id": "yHlpqaJJkgeQ",
        "outputId": "b56bb8e4-3e4e-4bcc-df38-7165c4dedca2"
      },
      "execution_count": 4,
      "outputs": [
        {
          "output_type": "stream",
          "name": "stderr",
          "text": [
            "/usr/local/lib/python3.7/dist-packages/IPython/core/interactiveshell.py:2882: DtypeWarning: Columns (77,78) have mixed types.Specify dtype option on import or set low_memory=False.\n",
            "  exec(code_obj, self.user_global_ns, self.user_ns)\n"
          ]
        },
        {
          "output_type": "execute_result",
          "data": {
            "text/plain": [
              "    UF_ZI  ANO_CMPT  MES_CMPT  ESPEC      CGC_HOSP          N_AIH  IDENT  \\\n",
              "0  230000      2014         1      7  5.268526e+12  2314100004788      1   \n",
              "1  230000      2014         1      7  5.268526e+12  2314100004854      1   \n",
              "\n",
              "        CEP  MUNIC_RES      NASC  ...  INSTRU  GESTRISCO     CNES  \\\n",
              "0  62900000     231180  20140117  ...       0          1  2785900   \n",
              "1  62755000     230945  20110912  ...       0          1  2785900   \n",
              "\n",
              "      CNPJ_MANT  CID_ASSO  CID_MORTE  COMPLEX  FINANC  REGCT  RACA_COR  \n",
              "0  5.268526e+12       NaN        NaN        2       6      0        99  \n",
              "1  5.268526e+12       NaN        NaN        2       6      0        99  \n",
              "\n",
              "[2 rows x 48 columns]"
            ],
            "text/html": [
              "\n",
              "  <div id=\"df-294554b7-132d-408c-886d-7d7cf2892eda\">\n",
              "    <div class=\"colab-df-container\">\n",
              "      <div>\n",
              "<style scoped>\n",
              "    .dataframe tbody tr th:only-of-type {\n",
              "        vertical-align: middle;\n",
              "    }\n",
              "\n",
              "    .dataframe tbody tr th {\n",
              "        vertical-align: top;\n",
              "    }\n",
              "\n",
              "    .dataframe thead th {\n",
              "        text-align: right;\n",
              "    }\n",
              "</style>\n",
              "<table border=\"1\" class=\"dataframe\">\n",
              "  <thead>\n",
              "    <tr style=\"text-align: right;\">\n",
              "      <th></th>\n",
              "      <th>UF_ZI</th>\n",
              "      <th>ANO_CMPT</th>\n",
              "      <th>MES_CMPT</th>\n",
              "      <th>ESPEC</th>\n",
              "      <th>CGC_HOSP</th>\n",
              "      <th>N_AIH</th>\n",
              "      <th>IDENT</th>\n",
              "      <th>CEP</th>\n",
              "      <th>MUNIC_RES</th>\n",
              "      <th>NASC</th>\n",
              "      <th>...</th>\n",
              "      <th>INSTRU</th>\n",
              "      <th>GESTRISCO</th>\n",
              "      <th>CNES</th>\n",
              "      <th>CNPJ_MANT</th>\n",
              "      <th>CID_ASSO</th>\n",
              "      <th>CID_MORTE</th>\n",
              "      <th>COMPLEX</th>\n",
              "      <th>FINANC</th>\n",
              "      <th>REGCT</th>\n",
              "      <th>RACA_COR</th>\n",
              "    </tr>\n",
              "  </thead>\n",
              "  <tbody>\n",
              "    <tr>\n",
              "      <th>0</th>\n",
              "      <td>230000</td>\n",
              "      <td>2014</td>\n",
              "      <td>1</td>\n",
              "      <td>7</td>\n",
              "      <td>5.268526e+12</td>\n",
              "      <td>2314100004788</td>\n",
              "      <td>1</td>\n",
              "      <td>62900000</td>\n",
              "      <td>231180</td>\n",
              "      <td>20140117</td>\n",
              "      <td>...</td>\n",
              "      <td>0</td>\n",
              "      <td>1</td>\n",
              "      <td>2785900</td>\n",
              "      <td>5.268526e+12</td>\n",
              "      <td>NaN</td>\n",
              "      <td>NaN</td>\n",
              "      <td>2</td>\n",
              "      <td>6</td>\n",
              "      <td>0</td>\n",
              "      <td>99</td>\n",
              "    </tr>\n",
              "    <tr>\n",
              "      <th>1</th>\n",
              "      <td>230000</td>\n",
              "      <td>2014</td>\n",
              "      <td>1</td>\n",
              "      <td>7</td>\n",
              "      <td>5.268526e+12</td>\n",
              "      <td>2314100004854</td>\n",
              "      <td>1</td>\n",
              "      <td>62755000</td>\n",
              "      <td>230945</td>\n",
              "      <td>20110912</td>\n",
              "      <td>...</td>\n",
              "      <td>0</td>\n",
              "      <td>1</td>\n",
              "      <td>2785900</td>\n",
              "      <td>5.268526e+12</td>\n",
              "      <td>NaN</td>\n",
              "      <td>NaN</td>\n",
              "      <td>2</td>\n",
              "      <td>6</td>\n",
              "      <td>0</td>\n",
              "      <td>99</td>\n",
              "    </tr>\n",
              "  </tbody>\n",
              "</table>\n",
              "<p>2 rows × 48 columns</p>\n",
              "</div>\n",
              "      <button class=\"colab-df-convert\" onclick=\"convertToInteractive('df-294554b7-132d-408c-886d-7d7cf2892eda')\"\n",
              "              title=\"Convert this dataframe to an interactive table.\"\n",
              "              style=\"display:none;\">\n",
              "        \n",
              "  <svg xmlns=\"http://www.w3.org/2000/svg\" height=\"24px\"viewBox=\"0 0 24 24\"\n",
              "       width=\"24px\">\n",
              "    <path d=\"M0 0h24v24H0V0z\" fill=\"none\"/>\n",
              "    <path d=\"M18.56 5.44l.94 2.06.94-2.06 2.06-.94-2.06-.94-.94-2.06-.94 2.06-2.06.94zm-11 1L8.5 8.5l.94-2.06 2.06-.94-2.06-.94L8.5 2.5l-.94 2.06-2.06.94zm10 10l.94 2.06.94-2.06 2.06-.94-2.06-.94-.94-2.06-.94 2.06-2.06.94z\"/><path d=\"M17.41 7.96l-1.37-1.37c-.4-.4-.92-.59-1.43-.59-.52 0-1.04.2-1.43.59L10.3 9.45l-7.72 7.72c-.78.78-.78 2.05 0 2.83L4 21.41c.39.39.9.59 1.41.59.51 0 1.02-.2 1.41-.59l7.78-7.78 2.81-2.81c.8-.78.8-2.07 0-2.86zM5.41 20L4 18.59l7.72-7.72 1.47 1.35L5.41 20z\"/>\n",
              "  </svg>\n",
              "      </button>\n",
              "      \n",
              "  <style>\n",
              "    .colab-df-container {\n",
              "      display:flex;\n",
              "      flex-wrap:wrap;\n",
              "      gap: 12px;\n",
              "    }\n",
              "\n",
              "    .colab-df-convert {\n",
              "      background-color: #E8F0FE;\n",
              "      border: none;\n",
              "      border-radius: 50%;\n",
              "      cursor: pointer;\n",
              "      display: none;\n",
              "      fill: #1967D2;\n",
              "      height: 32px;\n",
              "      padding: 0 0 0 0;\n",
              "      width: 32px;\n",
              "    }\n",
              "\n",
              "    .colab-df-convert:hover {\n",
              "      background-color: #E2EBFA;\n",
              "      box-shadow: 0px 1px 2px rgba(60, 64, 67, 0.3), 0px 1px 3px 1px rgba(60, 64, 67, 0.15);\n",
              "      fill: #174EA6;\n",
              "    }\n",
              "\n",
              "    [theme=dark] .colab-df-convert {\n",
              "      background-color: #3B4455;\n",
              "      fill: #D2E3FC;\n",
              "    }\n",
              "\n",
              "    [theme=dark] .colab-df-convert:hover {\n",
              "      background-color: #434B5C;\n",
              "      box-shadow: 0px 1px 3px 1px rgba(0, 0, 0, 0.15);\n",
              "      filter: drop-shadow(0px 1px 2px rgba(0, 0, 0, 0.3));\n",
              "      fill: #FFFFFF;\n",
              "    }\n",
              "  </style>\n",
              "\n",
              "      <script>\n",
              "        const buttonEl =\n",
              "          document.querySelector('#df-294554b7-132d-408c-886d-7d7cf2892eda button.colab-df-convert');\n",
              "        buttonEl.style.display =\n",
              "          google.colab.kernel.accessAllowed ? 'block' : 'none';\n",
              "\n",
              "        async function convertToInteractive(key) {\n",
              "          const element = document.querySelector('#df-294554b7-132d-408c-886d-7d7cf2892eda');\n",
              "          const dataTable =\n",
              "            await google.colab.kernel.invokeFunction('convertToInteractive',\n",
              "                                                     [key], {});\n",
              "          if (!dataTable) return;\n",
              "\n",
              "          const docLinkHtml = 'Like what you see? Visit the ' +\n",
              "            '<a target=\"_blank\" href=https://colab.research.google.com/notebooks/data_table.ipynb>data table notebook</a>'\n",
              "            + ' to learn more about interactive tables.';\n",
              "          element.innerHTML = '';\n",
              "          dataTable['output_type'] = 'display_data';\n",
              "          await google.colab.output.renderOutput(dataTable, element);\n",
              "          const docLink = document.createElement('div');\n",
              "          docLink.innerHTML = docLinkHtml;\n",
              "          element.appendChild(docLink);\n",
              "        }\n",
              "      </script>\n",
              "    </div>\n",
              "  </div>\n",
              "  "
            ]
          },
          "metadata": {},
          "execution_count": 4
        }
      ]
    },
    {
      "cell_type": "code",
      "source": [
        "df['NASC'] = pd.to_datetime(df['NASC'].astype(str))\n",
        "df['DT_INTER'] = pd.to_datetime(df['DT_INTER'].astype(str))\n",
        "df['DT_SAIDA'] = pd.to_datetime(df['DT_INTER'].astype(str))"
      ],
      "metadata": {
        "id": "GocqA_pcbHDw"
      },
      "execution_count": 5,
      "outputs": []
    },
    {
      "cell_type": "code",
      "source": [
        "cep = pd.read_csv(CEP, sep=';')\n",
        "\n",
        "df = pd.merge(df, cep, left_on='CEP', right_on='CEP', how='left')\n",
        "df.BAIRRO.value_counts().head(5)"
      ],
      "metadata": {
        "colab": {
          "base_uri": "https://localhost:8080/"
        },
        "id": "HIpJpO6pyari",
        "outputId": "0a7d97d4-2a9d-49fe-e45c-7c3ffd870f06"
      },
      "execution_count": 6,
      "outputs": [
        {
          "output_type": "execute_result",
          "data": {
            "text/plain": [
              "Centro                  183339\n",
              "Edson Queiroz            34863\n",
              "Moura Brasil             32972\n",
              "Prefeito José Walter     32296\n",
              "Barra do Ceará           29270\n",
              "Name: BAIRRO, dtype: int64"
            ]
          },
          "metadata": {},
          "execution_count": 6
        }
      ]
    },
    {
      "cell_type": "code",
      "source": [
        "cid_10 = pd.read_csv(CID_10, sep=';', usecols=['SUBCAT', 'DESCRABREV'], encoding= 'unicode_escape')"
      ],
      "metadata": {
        "id": "RLzZPvr9YL9p"
      },
      "execution_count": 7,
      "outputs": []
    },
    {
      "cell_type": "code",
      "source": [
        "df = pd.merge(df, cid_10, left_on='DIAG_PRINC', right_on='SUBCAT', how='left')\n",
        "del df['DIAG_PRINC']\n",
        "del df['SUBCAT']\n",
        "df.rename(columns={'DESCRABREV':'DIAG_PRINC'}, inplace=True)\n",
        "\n",
        "df.DIAG_PRINC.value_counts().head(5)"
      ],
      "metadata": {
        "colab": {
          "base_uri": "https://localhost:8080/"
        },
        "id": "iBstR6D4ZBwA",
        "outputId": "a8f97b5b-660f-4b74-9da6-37e83406cd04"
      },
      "execution_count": 8,
      "outputs": [
        {
          "output_type": "execute_result",
          "data": {
            "text/plain": [
              "O80.0 Parto espontaneo cefalico                      244023\n",
              "J18.9 Pneumonia NE                                    75650\n",
              "O82.1 Parto p/cesariana de emergencia                 42086\n",
              "I64   Acid vasc cerebr NE como hemorrag isquemico     40590\n",
              "J15.8 Outr pneumonias bacter                          38478\n",
              "Name: DIAG_PRINC, dtype: int64"
            ]
          },
          "metadata": {},
          "execution_count": 8
        }
      ]
    },
    {
      "cell_type": "code",
      "source": [
        "df = pd.merge(df, cid_10, left_on='CID_ASSO', right_on='SUBCAT', how='left')\n",
        "del df['CID_ASSO']\n",
        "del df['SUBCAT']\n",
        "df.rename(columns={'DESCRABREV':'CID_ASSO'}, inplace=True)\n",
        "\n",
        "df.CID_ASSO.value_counts().head(5)"
      ],
      "metadata": {
        "colab": {
          "base_uri": "https://localhost:8080/"
        },
        "id": "r8TD-z8maHjp",
        "outputId": "95c1ec42-7324-40f5-99f9-59453f07349c"
      },
      "execution_count": 9,
      "outputs": [
        {
          "output_type": "execute_result",
          "data": {
            "text/plain": [
              "P59.9 Ictericia neonatal NE                       198\n",
              "P22.9 Desconforto respirat NE do recem-nascido    177\n",
              "P39.9 Infecc propria do periodo perinatal NE       97\n",
              "N17.9 Insuf renal aguda NE                         81\n",
              "P07.2 Imaturidade extrema                          50\n",
              "Name: CID_ASSO, dtype: int64"
            ]
          },
          "metadata": {},
          "execution_count": 9
        }
      ]
    },
    {
      "cell_type": "code",
      "source": [
        "df = pd.merge(df, cid_10, left_on='CID_MORTE', right_on='SUBCAT', how='left')\n",
        "del df['CID_MORTE']\n",
        "del df['SUBCAT']\n",
        "df.rename(columns={'DESCRABREV':'CID_MORTE'}, inplace=True)\n",
        "\n",
        "df.CID_MORTE.value_counts().head(5)"
      ],
      "metadata": {
        "colab": {
          "base_uri": "https://localhost:8080/"
        },
        "id": "UVeCQNKqaTDQ",
        "outputId": "8708ad57-9f36-4724-9e5c-7fe908a8b443"
      },
      "execution_count": 10,
      "outputs": [
        {
          "output_type": "execute_result",
          "data": {
            "text/plain": [
              "I46.9 Parada cardiaca NE                             3109\n",
              "J96.0 Insuf respirat aguda                           1594\n",
              "A41.9 Septicemia NE                                   920\n",
              "A31.9 Infecc micobacteriana NE                        737\n",
              "I64   Acid vasc cerebr NE como hemorrag isquemico     623\n",
              "Name: CID_MORTE, dtype: int64"
            ]
          },
          "metadata": {},
          "execution_count": 10
        }
      ]
    },
    {
      "cell_type": "code",
      "source": [
        "ibge = pd.read_csv(MU_IBGE, sep=';', usecols=['codmu', 'nomemu'], encoding= 'unicode_escape')"
      ],
      "metadata": {
        "id": "8fkt5pEcDzD_"
      },
      "execution_count": 11,
      "outputs": []
    },
    {
      "cell_type": "code",
      "source": [
        "df = pd.merge(df, ibge, left_on='MUNIC_RES', right_on='codmu', how='left')\n",
        "del df['MUNIC_RES']\n",
        "del df['codmu']\n",
        "df.rename(columns={'nomemu':'MUNIC_RES'}, inplace=True)\n",
        "\n",
        "df.MUNIC_RES.value_counts().head(5)"
      ],
      "metadata": {
        "colab": {
          "base_uri": "https://localhost:8080/"
        },
        "id": "3sPUYklbwJk8",
        "outputId": "57d6db42-7784-46e4-ea90-460704f8d9a1"
      },
      "execution_count": 12,
      "outputs": [
        {
          "output_type": "execute_result",
          "data": {
            "text/plain": [
              "Fortaleza            867018\n",
              "Caucaia              103514\n",
              "Maracanaú             92915\n",
              "Juazeiro do Norte     77804\n",
              "Sobral                73101\n",
              "Name: MUNIC_RES, dtype: int64"
            ]
          },
          "metadata": {},
          "execution_count": 12
        }
      ]
    },
    {
      "cell_type": "code",
      "source": [
        "df = pd.merge(df, ibge, left_on='MUNIC_MOV', right_on='codmu', how='left')\n",
        "del df['MUNIC_MOV']\n",
        "del df['codmu']\n",
        "df.rename(columns={'nomemu':'MUNIC_MOV'}, inplace=True)\n",
        "\n",
        "df.MUNIC_MOV.value_counts().head(5)"
      ],
      "metadata": {
        "colab": {
          "base_uri": "https://localhost:8080/"
        },
        "id": "9AGwPCZ-EKTH",
        "outputId": "310583db-869e-40ac-e8c8-088bf52e7103"
      },
      "execution_count": 13,
      "outputs": [
        {
          "output_type": "execute_result",
          "data": {
            "text/plain": [
              "Fortaleza            1285549\n",
              "Sobral                220691\n",
              "Maracanaú              96418\n",
              "Juazeiro do Norte      90582\n",
              "Barbalha               88350\n",
              "Name: MUNIC_MOV, dtype: int64"
            ]
          },
          "metadata": {},
          "execution_count": 13
        }
      ]
    },
    {
      "cell_type": "code",
      "source": [
        "df = pd.merge(df, ibge, left_on='UF_ZI', right_on='codmu', how='left')\n",
        "del df['UF_ZI']\n",
        "del df['codmu']\n",
        "df.rename(columns={'nomemu':'UF_ZI'}, inplace=True)\n",
        "\n",
        "df.UF_ZI.value_counts().head(5)"
      ],
      "metadata": {
        "colab": {
          "base_uri": "https://localhost:8080/"
        },
        "id": "Thbpq8zAqhBw",
        "outputId": "2fdf686e-adbe-4b9b-e5ef-c1f1a66881d5"
      },
      "execution_count": 14,
      "outputs": [
        {
          "output_type": "execute_result",
          "data": {
            "text/plain": [
              "Fortaleza    1218733\n",
              "Sobral        159699\n",
              "Maracanaú      96418\n",
              "Barbalha       88350\n",
              "Crato          76379\n",
              "Name: UF_ZI, dtype: int64"
            ]
          },
          "metadata": {},
          "execution_count": 14
        }
      ]
    },
    {
      "cell_type": "code",
      "source": [
        "car_int = pd.read_csv(CAR_INT, sep=';', encoding= 'unicode_escape', header=None)\n",
        "\n",
        "df = pd.merge(df, car_int, left_on='CAR_INT', right_on=0, how='left')\n",
        "del df['CAR_INT']\n",
        "del df[0]\n",
        "df.rename(columns={1:'CAR_INT'}, inplace=True)\n",
        "\n",
        "df['CAR_INT'].value_counts()"
      ],
      "metadata": {
        "colab": {
          "base_uri": "https://localhost:8080/"
        },
        "id": "ZDPbiCEu9goM",
        "outputId": "adc7684f-5662-4843-e472-364b0a4bf116"
      },
      "execution_count": 15,
      "outputs": [
        {
          "output_type": "execute_result",
          "data": {
            "text/plain": [
              " Urgência                                          2402338\n",
              " Eletivo                                            491829\n",
              " Outros tipo de acidente de trânsito                 41518\n",
              " Out tp lesões e envenen por agent quím físicos      20658\n",
              "Name: CAR_INT, dtype: int64"
            ]
          },
          "metadata": {},
          "execution_count": 15
        }
      ]
    },
    {
      "cell_type": "code",
      "source": [
        "cobranca = pd.read_csv(COBRANCA, sep=';', encoding= 'unicode_escape', header=None)\n",
        "\n",
        "df = pd.merge(df, cobranca, left_on='COBRANCA', right_on=0, how='left')\n",
        "del df['COBRANCA']\n",
        "del df[0]\n",
        "df.rename(columns={1:'COBRANCA'}, inplace=True)\n",
        "\n",
        "df['COBRANCA'].value_counts()"
      ],
      "metadata": {
        "colab": {
          "base_uri": "https://localhost:8080/"
        },
        "id": "6JXhKWt-AnF8",
        "outputId": "22d78485-5dfc-4a18-ee4d-00a6d47080b8"
      },
      "execution_count": 16,
      "outputs": [
        {
          "output_type": "execute_result",
          "data": {
            "text/plain": [
              " Alta melhorado                                        1761119\n",
              " Alta da mãe/puérpera e do recém-nascido                561866\n",
              " Óbito com DO fornecida pelo médico assistente          102766\n",
              " Transferência para outro estabelecimento                94234\n",
              " Alta curado                                             92757\n",
              " Permanência por características próprias da doença      64590\n",
              " Permanência por intercorrência                          61920\n",
              " Permanência por reoperação                              44842\n",
              " Alta a pedido                                           41079\n",
              " Alta da mãe/puérpera e permanência recém-nascido        40827\n",
              " Alta com previsão de retorno p/acomp do paciente        24946\n",
              " Permanência por mudança de procedimento                 14840\n",
              " Encerramento administrativo                             14540\n",
              " Alta por outros motivos                                  8544\n",
              " Permanência proc doação órg, tec, cél-doador morto       7327\n",
              " Alta por evasão                                          6532\n",
              " Alta da mãe/puérpera com óbito fetal                     3842\n",
              " Óbito com DO fornecida pelo IML                          3635\n",
              " Óbito com DO fornecida pelo SVO                          2910\n",
              " Alta da mãe/puérpera e óbito do recém-nascido            2124\n",
              " Permanência por outros motivos                            575\n",
              " Permanência proc doação órg, tec, cél-doador vivo         347\n",
              " Permanência por impossibilidade sócio-familiar             67\n",
              " Óbito da mãe/puérpera e alta do recém-nascido              60\n",
              " Óbito da mãe/puérpera e permanência recém-nascido          26\n",
              " Óbito da gestante e do concepto                            26\n",
              " Alta de paciente agudo em psiquiatria                       1\n",
              " Transferência para internação domiciliar                    1\n",
              "Name: COBRANCA, dtype: int64"
            ]
          },
          "metadata": {},
          "execution_count": 16
        }
      ]
    },
    {
      "cell_type": "code",
      "source": [
        "cod_idade = pd.read_csv(COD_IDADE, sep=';', encoding= 'unicode_escape', header=None)\n",
        "\n",
        "df = pd.merge(df, cod_idade, left_on='COD_IDADE', right_on=0, how='left')\n",
        "del df['COD_IDADE']\n",
        "del df[0]\n",
        "df.rename(columns={1:'COD_IDADE'}, inplace=True)\n",
        "\n",
        "df['COD_IDADE'].value_counts()"
      ],
      "metadata": {
        "colab": {
          "base_uri": "https://localhost:8080/"
        },
        "id": "cL69ZKOuASHs",
        "outputId": "bbd2e628-9e2f-4f87-f564-5b96b5746398"
      },
      "execution_count": 17,
      "outputs": [
        {
          "output_type": "execute_result",
          "data": {
            "text/plain": [
              " Anos     2766844\n",
              " Dias      116095\n",
              " Meses      71138\n",
              "Name: COD_IDADE, dtype: int64"
            ]
          },
          "metadata": {},
          "execution_count": 17
        }
      ]
    },
    {
      "cell_type": "code",
      "source": [
        "complex_ = pd.read_csv(COMPLEX, sep=';', encoding= 'unicode_escape', header=None)\n",
        "\n",
        "df = pd.merge(df, complex_, left_on='COMPLEX', right_on=0, how='left')\n",
        "del df['COMPLEX']\n",
        "del df[0]\n",
        "df.rename(columns={1:'COMPLEX'}, inplace=True)\n",
        "\n",
        "df['COMPLEX'].value_counts()"
      ],
      "metadata": {
        "colab": {
          "base_uri": "https://localhost:8080/"
        },
        "id": "oRNLPqgUAMu8",
        "outputId": "7c820c8e-794b-4a77-a4ad-7c9e3457afbe"
      },
      "execution_count": 18,
      "outputs": [
        {
          "output_type": "execute_result",
          "data": {
            "text/plain": [
              " Média complexidade    2779450\n",
              " Alta complexidade      176893\n",
              "Name: COMPLEX, dtype: int64"
            ]
          },
          "metadata": {},
          "execution_count": 18
        }
      ]
    },
    {
      "cell_type": "code",
      "source": [
        "espec = pd.read_csv(ESPEC, sep=';', encoding= 'unicode_escape', header=None)\n",
        "\n",
        "df = pd.merge(df, espec, left_on='ESPEC', right_on=0, how='left')\n",
        "del df['ESPEC']\n",
        "del df[0]\n",
        "df.rename(columns={1:'ESPEC'}, inplace=True)\n",
        "\n",
        "df['ESPEC'].value_counts()"
      ],
      "metadata": {
        "colab": {
          "base_uri": "https://localhost:8080/"
        },
        "id": "4yt55FiTAGi7",
        "outputId": "b74e37b6-4160-41db-b943-075869ccc9a0"
      },
      "execution_count": 19,
      "outputs": [
        {
          "output_type": "execute_result",
          "data": {
            "text/plain": [
              " Cirurgia                                          879208\n",
              " Clínica médica                                    877866\n",
              " Obstetrícia                                       683679\n",
              " Pediatria                                         405430\n",
              " Psiquiatria                                        71848\n",
              " Reabilitação                                       14734\n",
              " Crônicos                                            5843\n",
              " Hospital dia (cirúrgicos)                           5630\n",
              " Hospital dia (saúde mental)                         5333\n",
              " Hospital dia (AIDS)                                 2663\n",
              " Pneumologia sanitária                               2074\n",
              " Hospital dia (intercorrência pós transplantes)      1761\n",
              "Name: ESPEC, dtype: int64"
            ]
          },
          "metadata": {},
          "execution_count": 19
        }
      ]
    },
    {
      "cell_type": "code",
      "source": [
        "financ = pd.read_csv(FINANC, sep=';', encoding= 'unicode_escape', header=None)\n",
        "\n",
        "df = pd.merge(df, financ, left_on='FINANC', right_on=0, how='left')\n",
        "del df['FINANC']\n",
        "del df[0]\n",
        "df.rename(columns={1:'FINANC'}, inplace=True)\n",
        "\n",
        "df['FINANC'].value_counts()"
      ],
      "metadata": {
        "colab": {
          "base_uri": "https://localhost:8080/"
        },
        "id": "-z5h7MuFAAMr",
        "outputId": "d84f3aee-444b-4579-b0e7-90a8fd46192f"
      },
      "execution_count": 20,
      "outputs": [
        {
          "output_type": "execute_result",
          "data": {
            "text/plain": [
              " Média e Alta Complexidade (MAC)                    2891817\n",
              " Fundo de Ações Estratégicas e Compensações FAEC      64526\n",
              "Name: FINANC, dtype: int64"
            ]
          },
          "metadata": {},
          "execution_count": 20
        }
      ]
    },
    {
      "cell_type": "code",
      "source": [
        "gestao = pd.read_csv(GESTAO, sep=';', encoding= 'unicode_escape', header=None)\n",
        "\n",
        "df = pd.merge(df, gestao, left_on='GESTAO', right_on=0, how='left')\n",
        "del df['GESTAO']\n",
        "del df[0]\n",
        "df.rename(columns={1:'GESTAO'}, inplace=True)\n",
        "\n",
        "df['GESTAO'].value_counts()"
      ],
      "metadata": {
        "colab": {
          "base_uri": "https://localhost:8080/"
        },
        "id": "G5i0DIvZ_4Db",
        "outputId": "d6bb26e7-e33d-49d3-fb80-a1fff651e6e1"
      },
      "execution_count": 21,
      "outputs": [
        {
          "output_type": "execute_result",
          "data": {
            "text/plain": [
              " Municipal planea assist    2765452\n",
              " Estadual plena              190891\n",
              "Name: GESTAO, dtype: int64"
            ]
          },
          "metadata": {},
          "execution_count": 21
        }
      ]
    },
    {
      "cell_type": "code",
      "source": [
        "ident = pd.read_csv(IDENT, sep=';', encoding= 'unicode_escape', header=None)\n",
        "\n",
        "df = pd.merge(df, ident, left_on='IDENT', right_on=0, how='left')\n",
        "del df['IDENT']\n",
        "del df[0]\n",
        "df.rename(columns={1:'IDENT'}, inplace=True)\n",
        "\n",
        "df['IDENT'].value_counts()"
      ],
      "metadata": {
        "colab": {
          "base_uri": "https://localhost:8080/"
        },
        "id": "rtNo7VOC_yk0",
        "outputId": "c55b2d88-1f4f-42ca-f525-c97ac7e7c104"
      },
      "execution_count": 22,
      "outputs": [
        {
          "output_type": "execute_result",
          "data": {
            "text/plain": [
              " Principal            2923877\n",
              " Longa permanência      32466\n",
              "Name: IDENT, dtype: int64"
            ]
          },
          "metadata": {},
          "execution_count": 22
        }
      ]
    },
    {
      "cell_type": "code",
      "source": [
        "instru = pd.read_csv(INSTRU, sep=';', encoding= 'unicode_escape', header=None)\n",
        "\n",
        "df = pd.merge(df, instru, left_on='INSTRU', right_on=0, how='left')\n",
        "del df['INSTRU']\n",
        "del df[0]\n",
        "df.rename(columns={1:'INSTRU'}, inplace=True)\n",
        "\n",
        "df['INSTRU'].value_counts()"
      ],
      "metadata": {
        "colab": {
          "base_uri": "https://localhost:8080/"
        },
        "id": "VtXmBb1a_rAz",
        "outputId": "2a029024-73fe-4078-f4f8-bce11ee8d241"
      },
      "execution_count": 23,
      "outputs": [
        {
          "output_type": "execute_result",
          "data": {
            "text/plain": [
              " 1º grau       10927\n",
              " 2º grau       10009\n",
              " Analfabeto     3540\n",
              " 3º grau         816\n",
              "Name: INSTRU, dtype: int64"
            ]
          },
          "metadata": {},
          "execution_count": 23
        }
      ]
    },
    {
      "cell_type": "code",
      "source": [
        "marca_uti = pd.read_csv(MARCA_UTI, sep=';', encoding= 'unicode_escape', header=None)\n",
        "\n",
        "df = pd.merge(df, marca_uti, left_on='MARCA_UTI', right_on=0, how='left')\n",
        "del df['MARCA_UTI']\n",
        "del df[0]\n",
        "df.rename(columns={1:'MARCA_UTI'}, inplace=True)\n",
        "\n",
        "df['MARCA_UTI'].value_counts()"
      ],
      "metadata": {
        "colab": {
          "base_uri": "https://localhost:8080/"
        },
        "id": "9k6cJu___ivL",
        "outputId": "992b2995-9a1b-49ab-c432-63678d3903c5"
      },
      "execution_count": 24,
      "outputs": [
        {
          "output_type": "execute_result",
          "data": {
            "text/plain": [
              " Não utilizou UTI                         2824357\n",
              " UTI adulto - tipo II                       84751\n",
              " UTI neonatal - tipo II                     22723\n",
              " UTI infantil - tipo II                      9442\n",
              " UTI coronariana tipo II - UCO tipo II       8401\n",
              " UTI adulto - tipo I                         3627\n",
              " UTI Doador                                  1127\n",
              " UTI infantil - tipo I                       1123\n",
              " UTI adulto - tipo III                        576\n",
              " Utilizou mais de um tipo de UTI              216\n",
              "Name: MARCA_UTI, dtype: int64"
            ]
          },
          "metadata": {},
          "execution_count": 24
        }
      ]
    },
    {
      "cell_type": "code",
      "source": [
        "nacional = pd.read_csv(NACIONAL, sep=';', encoding= 'unicode_escape', header=None)\n",
        "\n",
        "df = pd.merge(df, nacional, left_on='NACIONAL', right_on=0, how='left')\n",
        "del df['NACIONAL']\n",
        "del df[0]\n",
        "df.rename(columns={1:'NACIONAL'}, inplace=True)\n",
        "\n",
        "df['NACIONAL'].value_counts().head(5)"
      ],
      "metadata": {
        "colab": {
          "base_uri": "https://localhost:8080/"
        },
        "id": "17cF71NL_baE",
        "outputId": "ae51ff33-2470-42bb-aa91-74426903bcc8"
      },
      "execution_count": 25,
      "outputs": [
        {
          "output_type": "execute_result",
          "data": {
            "text/plain": [
              " Brasil                  2944167\n",
              " Republica dominicana       8611\n",
              " Colombia                   2118\n",
              " Mexico                      148\n",
              " Gibraltar                   139\n",
              "Name: NACIONAL, dtype: int64"
            ]
          },
          "metadata": {},
          "execution_count": 25
        }
      ]
    },
    {
      "cell_type": "code",
      "source": [
        "nat_jur = pd.read_csv(NAT_JUR, sep=';', encoding= 'unicode_escape', header=None)\n",
        "\n",
        "df = pd.merge(df, nat_jur, left_on='NAT_JUR', right_on=0, how='left')\n",
        "del df['NAT_JUR']\n",
        "del df[0]\n",
        "df.rename(columns={1:'NAT_JUR'}, inplace=True)\n",
        "\n",
        "df['NAT_JUR'].value_counts()"
      ],
      "metadata": {
        "colab": {
          "base_uri": "https://localhost:8080/"
        },
        "id": "hRAKMMJU_Wbb",
        "outputId": "c30830ee-33e3-49ae-a005-1dccde971b02"
      },
      "execution_count": 26,
      "outputs": [
        {
          "output_type": "execute_result",
          "data": {
            "text/plain": [
              " Associação Privada                                   1161035\n",
              " Órgão Público do Poder Exec Estadual ou Distr Fed     491473\n",
              " Órgão Público do Poder Executivo Municipal            420831\n",
              " Autarquia Municipal                                   127740\n",
              " Autarquia Federal                                     120553\n",
              " Sociedade Simples Limitada                            103782\n",
              " Fundação Privada                                       92476\n",
              " Sociedade Empresária Limitada                          41108\n",
              " Fundação Municipal                                     33949\n",
              " Fundação Estadual ou do Distrito Federal                6313\n",
              " Fundo Público                                           3104\n",
              " Sociedade Anônima Fechada                               2442\n",
              "Name: NAT_JUR, dtype: int64"
            ]
          },
          "metadata": {},
          "execution_count": 26
        }
      ]
    },
    {
      "cell_type": "code",
      "source": [
        "raca_cor = pd.read_csv(RACA_COR, sep=';', encoding= 'unicode_escape', header=None)\n",
        "\n",
        "df = pd.merge(df, raca_cor, left_on='RACA_COR', right_on=0, how='left')\n",
        "del df['RACA_COR']\n",
        "del df[0]\n",
        "df.rename(columns={1:'RACA_COR'}, inplace=True)\n",
        "\n",
        "df['RACA_COR'].value_counts()"
      ],
      "metadata": {
        "colab": {
          "base_uri": "https://localhost:8080/"
        },
        "id": "DETm8_6Q_MLU",
        "outputId": "dce2dea9-b743-42d9-c388-7c439c4daf63"
      },
      "execution_count": 27,
      "outputs": [
        {
          "output_type": "execute_result",
          "data": {
            "text/plain": [
              " Parda       1755992\n",
              " Branca       237302\n",
              " Amarela      104916\n",
              " Preta         33434\n",
              " Indígena       1209\n",
              "Name: RACA_COR, dtype: int64"
            ]
          },
          "metadata": {},
          "execution_count": 27
        }
      ]
    },
    {
      "cell_type": "code",
      "source": [
        "regct = pd.read_csv(REGCT, sep=';', encoding= 'unicode_escape', header=None)\n",
        "\n",
        "df = pd.merge(df, regct, left_on='REGCT', right_on=0, how='left')\n",
        "del df['REGCT']\n",
        "del df[0]\n",
        "df.rename(columns={1:'REGCT'}, inplace=True)\n",
        "\n",
        "df['REGCT'].value_counts()"
      ],
      "metadata": {
        "colab": {
          "base_uri": "https://localhost:8080/"
        },
        "id": "LIVnsP7o_Cc1",
        "outputId": "ef76fd20-7400-4ebd-f91d-2eb8295e03da"
      },
      "execution_count": 28,
      "outputs": [
        {
          "output_type": "execute_result",
          "data": {
            "text/plain": [
              " Sem regra contratual                                                                         2632266\n",
              " ESTABELECIMENTO DE SAUDE SEM GERACAO DE CREDITO NA MEDIA COMPLEXIDADE HOSPITALAR              184750\n",
              " ESTABELECIMENTO SEM GERACAO DE CREDITO TOTAL-MEC                                              120576\n",
              " ESTABELECIMENTO SEM GERAÇÃO DE CREDITO TOTAL - INCLUINDO FAEC - EXCLUSIVO PARA REDE SARAH      16529\n",
              " ESTABELECIMENTO SEM GERAÇÃO DE CREDITO TOTAL - EXCLUINDO FAEC                                   2242\n",
              "Name: REGCT, dtype: int64"
            ]
          },
          "metadata": {},
          "execution_count": 28
        }
      ]
    },
    {
      "cell_type": "code",
      "source": [
        "sexo = pd.read_csv(SEXO, sep=';', encoding= 'unicode_escape', header=None)\n",
        "\n",
        "df = pd.merge(df, sexo, left_on='SEXO', right_on=0, how='left')\n",
        "del df['SEXO']\n",
        "del df[0]\n",
        "df.rename(columns={1:'SEXO'}, inplace=True)\n",
        "\n",
        "df['SEXO'].value_counts()"
      ],
      "metadata": {
        "colab": {
          "base_uri": "https://localhost:8080/"
        },
        "id": "BrT0KjvW-1Gy",
        "outputId": "2a34972d-388b-4754-b30b-5e601540de00"
      },
      "execution_count": 29,
      "outputs": [
        {
          "output_type": "execute_result",
          "data": {
            "text/plain": [
              " Feminino     1780456\n",
              " Masculino    1175907\n",
              "Name: SEXO, dtype: int64"
            ]
          },
          "metadata": {},
          "execution_count": 29
        }
      ]
    },
    {
      "cell_type": "code",
      "source": [
        "def realIdade(row):\n",
        "    if (row.COD_IDADE == ' Anos'):\n",
        "        return row.IDADE;\n",
        "    else:\n",
        "        return 0\n",
        "\n",
        "df['IDADE_REAL'] = df.apply(realIdade, axis = 1)\n",
        "df.IDADE_REAL.value_counts().head(5)\n"
      ],
      "metadata": {
        "colab": {
          "base_uri": "https://localhost:8080/"
        },
        "id": "6Eq1Z8egTVS5",
        "outputId": "575260da-86d3-459e-f365-fc5f9a223afe"
      },
      "execution_count": 30,
      "outputs": [
        {
          "output_type": "execute_result",
          "data": {
            "text/plain": [
              "0     189499\n",
              "21     63450\n",
              "20     63259\n",
              "22     62915\n",
              "19     61043\n",
              "Name: IDADE_REAL, dtype: int64"
            ]
          },
          "metadata": {},
          "execution_count": 30
        }
      ]
    },
    {
      "cell_type": "code",
      "source": [
        "df.head(2)"
      ],
      "metadata": {
        "colab": {
          "base_uri": "https://localhost:8080/",
          "height": 275
        },
        "id": "rNS4TJgEBG1Y",
        "outputId": "ce4bb544-a6a8-435a-fdb7-47c974bed176"
      },
      "execution_count": 31,
      "outputs": [
        {
          "output_type": "execute_result",
          "data": {
            "text/plain": [
              "   ANO_CMPT  MES_CMPT      CGC_HOSP          N_AIH       CEP       NASC  \\\n",
              "0      2014         1  5.268526e+12  2314100004788  62900000 2014-01-17   \n",
              "1      2014         1  5.268526e+12  2314100004854  62755000 2011-09-12   \n",
              "\n",
              "   UTI_MES_TO  UTI_INT_TO  DIAR_ACOM  QT_DIARIAS  ...           GESTAO  \\\n",
              "0           2           0          0           5  ...   Estadual plena   \n",
              "1           0           0          0          10  ...   Estadual plena   \n",
              "\n",
              "        IDENT  INSTRU                MARCA_UTI  NACIONAL              NAT_JUR  \\\n",
              "0   Principal     NaN   UTI neonatal - tipo II    Brasil   Associação Privada   \n",
              "1   Principal     NaN         Não utilizou UTI    Brasil   Associação Privada   \n",
              "\n",
              "  RACA_COR                  REGCT       SEXO  IDADE_REAL  \n",
              "0      NaN   Sem regra contratual   Feminino           0  \n",
              "1      NaN   Sem regra contratual   Feminino           2  \n",
              "\n",
              "[2 rows x 53 columns]"
            ],
            "text/html": [
              "\n",
              "  <div id=\"df-2d9f7337-bbd5-42ba-90c1-db40bf2b7e4c\">\n",
              "    <div class=\"colab-df-container\">\n",
              "      <div>\n",
              "<style scoped>\n",
              "    .dataframe tbody tr th:only-of-type {\n",
              "        vertical-align: middle;\n",
              "    }\n",
              "\n",
              "    .dataframe tbody tr th {\n",
              "        vertical-align: top;\n",
              "    }\n",
              "\n",
              "    .dataframe thead th {\n",
              "        text-align: right;\n",
              "    }\n",
              "</style>\n",
              "<table border=\"1\" class=\"dataframe\">\n",
              "  <thead>\n",
              "    <tr style=\"text-align: right;\">\n",
              "      <th></th>\n",
              "      <th>ANO_CMPT</th>\n",
              "      <th>MES_CMPT</th>\n",
              "      <th>CGC_HOSP</th>\n",
              "      <th>N_AIH</th>\n",
              "      <th>CEP</th>\n",
              "      <th>NASC</th>\n",
              "      <th>UTI_MES_TO</th>\n",
              "      <th>UTI_INT_TO</th>\n",
              "      <th>DIAR_ACOM</th>\n",
              "      <th>QT_DIARIAS</th>\n",
              "      <th>...</th>\n",
              "      <th>GESTAO</th>\n",
              "      <th>IDENT</th>\n",
              "      <th>INSTRU</th>\n",
              "      <th>MARCA_UTI</th>\n",
              "      <th>NACIONAL</th>\n",
              "      <th>NAT_JUR</th>\n",
              "      <th>RACA_COR</th>\n",
              "      <th>REGCT</th>\n",
              "      <th>SEXO</th>\n",
              "      <th>IDADE_REAL</th>\n",
              "    </tr>\n",
              "  </thead>\n",
              "  <tbody>\n",
              "    <tr>\n",
              "      <th>0</th>\n",
              "      <td>2014</td>\n",
              "      <td>1</td>\n",
              "      <td>5.268526e+12</td>\n",
              "      <td>2314100004788</td>\n",
              "      <td>62900000</td>\n",
              "      <td>2014-01-17</td>\n",
              "      <td>2</td>\n",
              "      <td>0</td>\n",
              "      <td>0</td>\n",
              "      <td>5</td>\n",
              "      <td>...</td>\n",
              "      <td>Estadual plena</td>\n",
              "      <td>Principal</td>\n",
              "      <td>NaN</td>\n",
              "      <td>UTI neonatal - tipo II</td>\n",
              "      <td>Brasil</td>\n",
              "      <td>Associação Privada</td>\n",
              "      <td>NaN</td>\n",
              "      <td>Sem regra contratual</td>\n",
              "      <td>Feminino</td>\n",
              "      <td>0</td>\n",
              "    </tr>\n",
              "    <tr>\n",
              "      <th>1</th>\n",
              "      <td>2014</td>\n",
              "      <td>1</td>\n",
              "      <td>5.268526e+12</td>\n",
              "      <td>2314100004854</td>\n",
              "      <td>62755000</td>\n",
              "      <td>2011-09-12</td>\n",
              "      <td>0</td>\n",
              "      <td>0</td>\n",
              "      <td>0</td>\n",
              "      <td>10</td>\n",
              "      <td>...</td>\n",
              "      <td>Estadual plena</td>\n",
              "      <td>Principal</td>\n",
              "      <td>NaN</td>\n",
              "      <td>Não utilizou UTI</td>\n",
              "      <td>Brasil</td>\n",
              "      <td>Associação Privada</td>\n",
              "      <td>NaN</td>\n",
              "      <td>Sem regra contratual</td>\n",
              "      <td>Feminino</td>\n",
              "      <td>2</td>\n",
              "    </tr>\n",
              "  </tbody>\n",
              "</table>\n",
              "<p>2 rows × 53 columns</p>\n",
              "</div>\n",
              "      <button class=\"colab-df-convert\" onclick=\"convertToInteractive('df-2d9f7337-bbd5-42ba-90c1-db40bf2b7e4c')\"\n",
              "              title=\"Convert this dataframe to an interactive table.\"\n",
              "              style=\"display:none;\">\n",
              "        \n",
              "  <svg xmlns=\"http://www.w3.org/2000/svg\" height=\"24px\"viewBox=\"0 0 24 24\"\n",
              "       width=\"24px\">\n",
              "    <path d=\"M0 0h24v24H0V0z\" fill=\"none\"/>\n",
              "    <path d=\"M18.56 5.44l.94 2.06.94-2.06 2.06-.94-2.06-.94-.94-2.06-.94 2.06-2.06.94zm-11 1L8.5 8.5l.94-2.06 2.06-.94-2.06-.94L8.5 2.5l-.94 2.06-2.06.94zm10 10l.94 2.06.94-2.06 2.06-.94-2.06-.94-.94-2.06-.94 2.06-2.06.94z\"/><path d=\"M17.41 7.96l-1.37-1.37c-.4-.4-.92-.59-1.43-.59-.52 0-1.04.2-1.43.59L10.3 9.45l-7.72 7.72c-.78.78-.78 2.05 0 2.83L4 21.41c.39.39.9.59 1.41.59.51 0 1.02-.2 1.41-.59l7.78-7.78 2.81-2.81c.8-.78.8-2.07 0-2.86zM5.41 20L4 18.59l7.72-7.72 1.47 1.35L5.41 20z\"/>\n",
              "  </svg>\n",
              "      </button>\n",
              "      \n",
              "  <style>\n",
              "    .colab-df-container {\n",
              "      display:flex;\n",
              "      flex-wrap:wrap;\n",
              "      gap: 12px;\n",
              "    }\n",
              "\n",
              "    .colab-df-convert {\n",
              "      background-color: #E8F0FE;\n",
              "      border: none;\n",
              "      border-radius: 50%;\n",
              "      cursor: pointer;\n",
              "      display: none;\n",
              "      fill: #1967D2;\n",
              "      height: 32px;\n",
              "      padding: 0 0 0 0;\n",
              "      width: 32px;\n",
              "    }\n",
              "\n",
              "    .colab-df-convert:hover {\n",
              "      background-color: #E2EBFA;\n",
              "      box-shadow: 0px 1px 2px rgba(60, 64, 67, 0.3), 0px 1px 3px 1px rgba(60, 64, 67, 0.15);\n",
              "      fill: #174EA6;\n",
              "    }\n",
              "\n",
              "    [theme=dark] .colab-df-convert {\n",
              "      background-color: #3B4455;\n",
              "      fill: #D2E3FC;\n",
              "    }\n",
              "\n",
              "    [theme=dark] .colab-df-convert:hover {\n",
              "      background-color: #434B5C;\n",
              "      box-shadow: 0px 1px 3px 1px rgba(0, 0, 0, 0.15);\n",
              "      filter: drop-shadow(0px 1px 2px rgba(0, 0, 0, 0.3));\n",
              "      fill: #FFFFFF;\n",
              "    }\n",
              "  </style>\n",
              "\n",
              "      <script>\n",
              "        const buttonEl =\n",
              "          document.querySelector('#df-2d9f7337-bbd5-42ba-90c1-db40bf2b7e4c button.colab-df-convert');\n",
              "        buttonEl.style.display =\n",
              "          google.colab.kernel.accessAllowed ? 'block' : 'none';\n",
              "\n",
              "        async function convertToInteractive(key) {\n",
              "          const element = document.querySelector('#df-2d9f7337-bbd5-42ba-90c1-db40bf2b7e4c');\n",
              "          const dataTable =\n",
              "            await google.colab.kernel.invokeFunction('convertToInteractive',\n",
              "                                                     [key], {});\n",
              "          if (!dataTable) return;\n",
              "\n",
              "          const docLinkHtml = 'Like what you see? Visit the ' +\n",
              "            '<a target=\"_blank\" href=https://colab.research.google.com/notebooks/data_table.ipynb>data table notebook</a>'\n",
              "            + ' to learn more about interactive tables.';\n",
              "          element.innerHTML = '';\n",
              "          dataTable['output_type'] = 'display_data';\n",
              "          await google.colab.output.renderOutput(dataTable, element);\n",
              "          const docLink = document.createElement('div');\n",
              "          docLink.innerHTML = docLinkHtml;\n",
              "          element.appendChild(docLink);\n",
              "        }\n",
              "      </script>\n",
              "    </div>\n",
              "  </div>\n",
              "  "
            ]
          },
          "metadata": {},
          "execution_count": 31
        }
      ]
    },
    {
      "cell_type": "code",
      "source": [
        "df.to_csv(INTERNACOES, index=False)"
      ],
      "metadata": {
        "id": "THivzam_EOIj"
      },
      "execution_count": 32,
      "outputs": []
    },
    {
      "cell_type": "code",
      "source": [
        "df = df[df.MUNIC_RES == 'Fortaleza']\n",
        "df.info()"
      ],
      "metadata": {
        "colab": {
          "base_uri": "https://localhost:8080/"
        },
        "id": "qUfDf9lxE-Fs",
        "outputId": "36392451-aa4a-4a45-a7a6-d94f944bb053"
      },
      "execution_count": 33,
      "outputs": [
        {
          "output_type": "stream",
          "name": "stdout",
          "text": [
            "<class 'pandas.core.frame.DataFrame'>\n",
            "Int64Index: 867020 entries, 2 to 2953258\n",
            "Data columns (total 53 columns):\n",
            " #   Column      Non-Null Count   Dtype         \n",
            "---  ------      --------------   -----         \n",
            " 0   ANO_CMPT    867020 non-null  int64         \n",
            " 1   MES_CMPT    867020 non-null  int64         \n",
            " 2   CGC_HOSP    810572 non-null  float64       \n",
            " 3   N_AIH       867020 non-null  int64         \n",
            " 4   CEP         867020 non-null  int64         \n",
            " 5   NASC        867020 non-null  datetime64[ns]\n",
            " 6   UTI_MES_TO  867020 non-null  int64         \n",
            " 7   UTI_INT_TO  867020 non-null  int64         \n",
            " 8   DIAR_ACOM   867020 non-null  int64         \n",
            " 9   QT_DIARIAS  867020 non-null  int64         \n",
            " 10  PROC_SOLIC  867020 non-null  int64         \n",
            " 11  PROC_REA    867020 non-null  int64         \n",
            " 12  VAL_SH      867020 non-null  float64       \n",
            " 13  VAL_SP      867020 non-null  float64       \n",
            " 14  VAL_TOT     867020 non-null  float64       \n",
            " 15  VAL_UTI     867020 non-null  float64       \n",
            " 16  DT_INTER    867020 non-null  datetime64[ns]\n",
            " 17  DT_SAIDA    867020 non-null  datetime64[ns]\n",
            " 18  NATUREZA    867020 non-null  int64         \n",
            " 19  IND_VDRL    867020 non-null  int64         \n",
            " 20  IDADE       867020 non-null  int64         \n",
            " 21  DIAS_PERM   867020 non-null  int64         \n",
            " 22  MORTE       867020 non-null  int64         \n",
            " 23  HOMONIMO    867020 non-null  int64         \n",
            " 24  GESTRISCO   867020 non-null  int64         \n",
            " 25  CNES        867020 non-null  int64         \n",
            " 26  CNPJ_MANT   596693 non-null  float64       \n",
            " 27  UF          782213 non-null  object        \n",
            " 28  CIDADE      782213 non-null  object        \n",
            " 29  BAIRRO      782182 non-null  object        \n",
            " 30  LOGRADOURO  782213 non-null  object        \n",
            " 31  DIAG_PRINC  866565 non-null  object        \n",
            " 32  CID_ASSO    410 non-null     object        \n",
            " 33  CID_MORTE   5280 non-null    object        \n",
            " 34  MUNIC_RES   867020 non-null  object        \n",
            " 35  MUNIC_MOV   867020 non-null  object        \n",
            " 36  UF_ZI       817802 non-null  object        \n",
            " 37  CAR_INT     867020 non-null  object        \n",
            " 38  COBRANCA    867020 non-null  object        \n",
            " 39  COD_IDADE   866679 non-null  object        \n",
            " 40  COMPLEX     867020 non-null  object        \n",
            " 41  ESPEC       867020 non-null  object        \n",
            " 42  FINANC      867020 non-null  object        \n",
            " 43  GESTAO      867020 non-null  object        \n",
            " 44  IDENT       867020 non-null  object        \n",
            " 45  INSTRU      4181 non-null    object        \n",
            " 46  MARCA_UTI   867020 non-null  object        \n",
            " 47  NACIONAL    867020 non-null  object        \n",
            " 48  NAT_JUR     857639 non-null  object        \n",
            " 49  RACA_COR    578683 non-null  object        \n",
            " 50  REGCT       867020 non-null  object        \n",
            " 51  SEXO        867020 non-null  object        \n",
            " 52  IDADE_REAL  867020 non-null  int64         \n",
            "dtypes: datetime64[ns](3), float64(6), int64(19), object(25)\n",
            "memory usage: 357.2+ MB\n"
          ]
        }
      ]
    },
    {
      "cell_type": "code",
      "source": [
        "df.to_csv(INTERNACOES_FOR, index=False)"
      ],
      "metadata": {
        "id": "3iGxKFh-FWFZ"
      },
      "execution_count": 34,
      "outputs": []
    }
  ],
  "metadata": {
    "colab": {
      "name": "DCanalysus.ipynb",
      "provenance": []
    },
    "kernelspec": {
      "display_name": "Python 3",
      "name": "python3"
    },
    "language_info": {
      "name": "python"
    }
  },
  "nbformat": 4,
  "nbformat_minor": 0
}