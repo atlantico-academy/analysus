{
  "cells": [
    {
      "cell_type": "code",
      "execution_count": 1,
      "metadata": {
        "colab": {
          "base_uri": "https://localhost:8080/"
        },
        "id": "Rr87lHVv74nT",
        "outputId": "642a6ade-64c1-4dba-abdb-c399d68c1d8f"
      },
      "outputs": [
        {
          "output_type": "stream",
          "name": "stdout",
          "text": [
            "Drive already mounted at /content/drive; to attempt to forcibly remount, call drive.mount(\"/content/drive\", force_remount=True).\n"
          ]
        }
      ],
      "source": [
        "from google.colab import drive\n",
        "drive.mount('/content/drive')"
      ]
    },
    {
      "cell_type": "code",
      "source": [
        "# coding: utf-8\n",
        "\n",
        "import pandas as pd\n",
        "\n",
        "DF_INTERNACOES = \"/content/drive/MyDrive/Colab Notebooks/df_internacoes.csv\"\n",
        "INTERNACOES = \"/content/drive/MyDrive/Colab Notebooks/internacoes_filter.csv\"\n",
        "INTERNACOES_NOVO = \"/content/drive/MyDrive/Colab Notebooks/internacoes.csv\"\n",
        "INTERNACOES_FOR = \"/content/drive/MyDrive/Colab Notebooks/internacoes_fortaleza.csv\"\n",
        "\n",
        "MU_IBGE = \"/content/drive/MyDrive/Colab Notebooks/mun_ibge.csv\"\n",
        "\n",
        "## https://github.com/rfsaldanha/microdatasus/wiki/Conven%C3%A7%C3%B5es-SIH-RD\n",
        "CAR_INT = \"/content/drive/MyDrive/Colab Notebooks/car_int.csv\"\n",
        "COBRANCA = \"/content/drive/MyDrive/Colab Notebooks/cobranca.csv\"\n",
        "COD_IDADE = \"/content/drive/MyDrive/Colab Notebooks/cod_idade.csv\"\n",
        "COMPLEX = \"/content/drive/MyDrive/Colab Notebooks/complex.csv\"\n",
        "ESPEC = \"/content/drive/MyDrive/Colab Notebooks/espec.csv\"\n",
        "FINANC = \"/content/drive/MyDrive/Colab Notebooks/financ.csv\"\n",
        "GESTAO = \"/content/drive/MyDrive/Colab Notebooks/gestao.csv\"\n",
        "IDENT = \"/content/drive/MyDrive/Colab Notebooks/ident.csv\"\n",
        "INSTRU = \"/content/drive/MyDrive/Colab Notebooks/instru.csv\"\n",
        "MARCA_UTI = \"/content/drive/MyDrive/Colab Notebooks/marca_uti.csv\"\n",
        "NACIONAL = \"/content/drive/MyDrive/Colab Notebooks/nacional.csv\"\n",
        "NAT_JUR = \"/content/drive/MyDrive/Colab Notebooks/nat_jur.csv\"\n",
        "RACA_COR = \"/content/drive/MyDrive/Colab Notebooks/raca_cor.csv\"\n",
        "REGCT = \"/content/drive/MyDrive/Colab Notebooks/regct.csv\"\n",
        "SEXO = \"/content/drive/MyDrive/Colab Notebooks/sexo.csv\"\n"
      ],
      "metadata": {
        "id": "UngN2IpdDPEi"
      },
      "execution_count": 30,
      "outputs": []
    },
    {
      "cell_type": "code",
      "source": [
        "# Colunas relativamente significantes da DF_INTERNACOES\n",
        "column = [\n",
        "    'UF_ZI',\n",
        "    'ANO_CMPT', \n",
        "    'MES_CMPT', \n",
        "    'ESPEC', \n",
        "    'CGC_HOSP', \n",
        "    'N_AIH',\n",
        "    'IDENT', \n",
        "    'CEP', \n",
        "    'MUNIC_RES', \n",
        "    'NASC', \n",
        "    'SEXO',\n",
        "    'UTI_MES_TO', \n",
        "    'MARCA_UTI', \n",
        "    'UTI_INT_TO', \n",
        "    'DIAR_ACOM', \n",
        "    'QT_DIARIAS', \n",
        "    'PROC_SOLIC', \n",
        "    'PROC_REA',\n",
        "    'VAL_SH', \n",
        "    'VAL_SP', \n",
        "    'VAL_TOT', \n",
        "    'VAL_UTI', \n",
        "    'DT_INTER', \n",
        "    'DT_SAIDA', \n",
        "    'DIAG_PRINC', \n",
        "    'COBRANCA', \n",
        "    'NATUREZA', \n",
        "    'NAT_JUR',\n",
        "    'GESTAO', \n",
        "    'IND_VDRL', \n",
        "    'MUNIC_MOV',\n",
        "    'COD_IDADE', \n",
        "    'IDADE', \n",
        "    'DIAS_PERM', \n",
        "    'MORTE', \n",
        "    'NACIONAL',\n",
        "    'CAR_INT', \n",
        "    'HOMONIMO', \n",
        "    'INSTRU', \n",
        "    'GESTRISCO', \n",
        "    'CNES', \n",
        "    'CNPJ_MANT', \n",
        "    'CID_ASSO', \n",
        "    'CID_MORTE', \n",
        "    'COMPLEX', \n",
        "    'FINANC',\n",
        "    'REGCT', \n",
        "    'RACA_COR', \n",
        "    'SEQUENCIA', \n",
        "    'REMESSA'\n",
        "]"
      ],
      "metadata": {
        "id": "zuykLoOnjqXJ"
      },
      "execution_count": 3,
      "outputs": []
    },
    {
      "cell_type": "code",
      "source": [
        "df = pd.read_csv(DF_INTERNACOES, usecols=column, encoding= 'unicode_escape')\n",
        "df.head(2)"
      ],
      "metadata": {
        "colab": {
          "base_uri": "https://localhost:8080/",
          "height": 240
        },
        "id": "yHlpqaJJkgeQ",
        "outputId": "7e7613b9-67e8-46a8-c0db-2a54f68ca968"
      },
      "execution_count": 4,
      "outputs": [
        {
          "output_type": "stream",
          "name": "stderr",
          "text": [
            "/usr/local/lib/python3.7/dist-packages/IPython/core/interactiveshell.py:2882: DtypeWarning: Columns (77,78) have mixed types.Specify dtype option on import or set low_memory=False.\n",
            "  exec(code_obj, self.user_global_ns, self.user_ns)\n"
          ]
        },
        {
          "output_type": "execute_result",
          "data": {
            "text/plain": [
              "    UF_ZI  ANO_CMPT  MES_CMPT  ESPEC      CGC_HOSP          N_AIH  IDENT  \\\n",
              "0  230000      2014         1      7  5.268526e+12  2314100004788      1   \n",
              "1  230000      2014         1      7  5.268526e+12  2314100004854      1   \n",
              "\n",
              "        CEP  MUNIC_RES      NASC  ...     CNES     CNPJ_MANT  CID_ASSO  \\\n",
              "0  62900000     231180  20140117  ...  2785900  5.268526e+12       NaN   \n",
              "1  62755000     230945  20110912  ...  2785900  5.268526e+12       NaN   \n",
              "\n",
              "   CID_MORTE  COMPLEX  FINANC  REGCT  RACA_COR  SEQUENCIA  \\\n",
              "0        NaN        2       6      0        99       1840   \n",
              "1        NaN        2       6      0        99       1841   \n",
              "\n",
              "                 REMESSA  \n",
              "0  HE23000001N201401.DTS  \n",
              "1  HE23000001N201401.DTS  \n",
              "\n",
              "[2 rows x 50 columns]"
            ],
            "text/html": [
              "\n",
              "  <div id=\"df-57371517-390a-4f6a-89da-21a8e0ee39d4\">\n",
              "    <div class=\"colab-df-container\">\n",
              "      <div>\n",
              "<style scoped>\n",
              "    .dataframe tbody tr th:only-of-type {\n",
              "        vertical-align: middle;\n",
              "    }\n",
              "\n",
              "    .dataframe tbody tr th {\n",
              "        vertical-align: top;\n",
              "    }\n",
              "\n",
              "    .dataframe thead th {\n",
              "        text-align: right;\n",
              "    }\n",
              "</style>\n",
              "<table border=\"1\" class=\"dataframe\">\n",
              "  <thead>\n",
              "    <tr style=\"text-align: right;\">\n",
              "      <th></th>\n",
              "      <th>UF_ZI</th>\n",
              "      <th>ANO_CMPT</th>\n",
              "      <th>MES_CMPT</th>\n",
              "      <th>ESPEC</th>\n",
              "      <th>CGC_HOSP</th>\n",
              "      <th>N_AIH</th>\n",
              "      <th>IDENT</th>\n",
              "      <th>CEP</th>\n",
              "      <th>MUNIC_RES</th>\n",
              "      <th>NASC</th>\n",
              "      <th>...</th>\n",
              "      <th>CNES</th>\n",
              "      <th>CNPJ_MANT</th>\n",
              "      <th>CID_ASSO</th>\n",
              "      <th>CID_MORTE</th>\n",
              "      <th>COMPLEX</th>\n",
              "      <th>FINANC</th>\n",
              "      <th>REGCT</th>\n",
              "      <th>RACA_COR</th>\n",
              "      <th>SEQUENCIA</th>\n",
              "      <th>REMESSA</th>\n",
              "    </tr>\n",
              "  </thead>\n",
              "  <tbody>\n",
              "    <tr>\n",
              "      <th>0</th>\n",
              "      <td>230000</td>\n",
              "      <td>2014</td>\n",
              "      <td>1</td>\n",
              "      <td>7</td>\n",
              "      <td>5.268526e+12</td>\n",
              "      <td>2314100004788</td>\n",
              "      <td>1</td>\n",
              "      <td>62900000</td>\n",
              "      <td>231180</td>\n",
              "      <td>20140117</td>\n",
              "      <td>...</td>\n",
              "      <td>2785900</td>\n",
              "      <td>5.268526e+12</td>\n",
              "      <td>NaN</td>\n",
              "      <td>NaN</td>\n",
              "      <td>2</td>\n",
              "      <td>6</td>\n",
              "      <td>0</td>\n",
              "      <td>99</td>\n",
              "      <td>1840</td>\n",
              "      <td>HE23000001N201401.DTS</td>\n",
              "    </tr>\n",
              "    <tr>\n",
              "      <th>1</th>\n",
              "      <td>230000</td>\n",
              "      <td>2014</td>\n",
              "      <td>1</td>\n",
              "      <td>7</td>\n",
              "      <td>5.268526e+12</td>\n",
              "      <td>2314100004854</td>\n",
              "      <td>1</td>\n",
              "      <td>62755000</td>\n",
              "      <td>230945</td>\n",
              "      <td>20110912</td>\n",
              "      <td>...</td>\n",
              "      <td>2785900</td>\n",
              "      <td>5.268526e+12</td>\n",
              "      <td>NaN</td>\n",
              "      <td>NaN</td>\n",
              "      <td>2</td>\n",
              "      <td>6</td>\n",
              "      <td>0</td>\n",
              "      <td>99</td>\n",
              "      <td>1841</td>\n",
              "      <td>HE23000001N201401.DTS</td>\n",
              "    </tr>\n",
              "  </tbody>\n",
              "</table>\n",
              "<p>2 rows × 50 columns</p>\n",
              "</div>\n",
              "      <button class=\"colab-df-convert\" onclick=\"convertToInteractive('df-57371517-390a-4f6a-89da-21a8e0ee39d4')\"\n",
              "              title=\"Convert this dataframe to an interactive table.\"\n",
              "              style=\"display:none;\">\n",
              "        \n",
              "  <svg xmlns=\"http://www.w3.org/2000/svg\" height=\"24px\"viewBox=\"0 0 24 24\"\n",
              "       width=\"24px\">\n",
              "    <path d=\"M0 0h24v24H0V0z\" fill=\"none\"/>\n",
              "    <path d=\"M18.56 5.44l.94 2.06.94-2.06 2.06-.94-2.06-.94-.94-2.06-.94 2.06-2.06.94zm-11 1L8.5 8.5l.94-2.06 2.06-.94-2.06-.94L8.5 2.5l-.94 2.06-2.06.94zm10 10l.94 2.06.94-2.06 2.06-.94-2.06-.94-.94-2.06-.94 2.06-2.06.94z\"/><path d=\"M17.41 7.96l-1.37-1.37c-.4-.4-.92-.59-1.43-.59-.52 0-1.04.2-1.43.59L10.3 9.45l-7.72 7.72c-.78.78-.78 2.05 0 2.83L4 21.41c.39.39.9.59 1.41.59.51 0 1.02-.2 1.41-.59l7.78-7.78 2.81-2.81c.8-.78.8-2.07 0-2.86zM5.41 20L4 18.59l7.72-7.72 1.47 1.35L5.41 20z\"/>\n",
              "  </svg>\n",
              "      </button>\n",
              "      \n",
              "  <style>\n",
              "    .colab-df-container {\n",
              "      display:flex;\n",
              "      flex-wrap:wrap;\n",
              "      gap: 12px;\n",
              "    }\n",
              "\n",
              "    .colab-df-convert {\n",
              "      background-color: #E8F0FE;\n",
              "      border: none;\n",
              "      border-radius: 50%;\n",
              "      cursor: pointer;\n",
              "      display: none;\n",
              "      fill: #1967D2;\n",
              "      height: 32px;\n",
              "      padding: 0 0 0 0;\n",
              "      width: 32px;\n",
              "    }\n",
              "\n",
              "    .colab-df-convert:hover {\n",
              "      background-color: #E2EBFA;\n",
              "      box-shadow: 0px 1px 2px rgba(60, 64, 67, 0.3), 0px 1px 3px 1px rgba(60, 64, 67, 0.15);\n",
              "      fill: #174EA6;\n",
              "    }\n",
              "\n",
              "    [theme=dark] .colab-df-convert {\n",
              "      background-color: #3B4455;\n",
              "      fill: #D2E3FC;\n",
              "    }\n",
              "\n",
              "    [theme=dark] .colab-df-convert:hover {\n",
              "      background-color: #434B5C;\n",
              "      box-shadow: 0px 1px 3px 1px rgba(0, 0, 0, 0.15);\n",
              "      filter: drop-shadow(0px 1px 2px rgba(0, 0, 0, 0.3));\n",
              "      fill: #FFFFFF;\n",
              "    }\n",
              "  </style>\n",
              "\n",
              "      <script>\n",
              "        const buttonEl =\n",
              "          document.querySelector('#df-57371517-390a-4f6a-89da-21a8e0ee39d4 button.colab-df-convert');\n",
              "        buttonEl.style.display =\n",
              "          google.colab.kernel.accessAllowed ? 'block' : 'none';\n",
              "\n",
              "        async function convertToInteractive(key) {\n",
              "          const element = document.querySelector('#df-57371517-390a-4f6a-89da-21a8e0ee39d4');\n",
              "          const dataTable =\n",
              "            await google.colab.kernel.invokeFunction('convertToInteractive',\n",
              "                                                     [key], {});\n",
              "          if (!dataTable) return;\n",
              "\n",
              "          const docLinkHtml = 'Like what you see? Visit the ' +\n",
              "            '<a target=\"_blank\" href=https://colab.research.google.com/notebooks/data_table.ipynb>data table notebook</a>'\n",
              "            + ' to learn more about interactive tables.';\n",
              "          element.innerHTML = '';\n",
              "          dataTable['output_type'] = 'display_data';\n",
              "          await google.colab.output.renderOutput(dataTable, element);\n",
              "          const docLink = document.createElement('div');\n",
              "          docLink.innerHTML = docLinkHtml;\n",
              "          element.appendChild(docLink);\n",
              "        }\n",
              "      </script>\n",
              "    </div>\n",
              "  </div>\n",
              "  "
            ]
          },
          "metadata": {},
          "execution_count": 4
        }
      ]
    },
    {
      "cell_type": "code",
      "source": [
        "df.to_csv(INTERNACOES)"
      ],
      "metadata": {
        "id": "j7G0FbFskugh"
      },
      "execution_count": 5,
      "outputs": []
    },
    {
      "cell_type": "code",
      "source": [
        "df = pd.read_csv(INTERNACOES)"
      ],
      "metadata": {
        "colab": {
          "base_uri": "https://localhost:8080/"
        },
        "id": "bXNzmq9HD5Mm",
        "outputId": "a496e7a4-5955-4910-86bf-a84928be3258"
      },
      "execution_count": 6,
      "outputs": [
        {
          "output_type": "stream",
          "name": "stderr",
          "text": [
            "/usr/local/lib/python3.7/dist-packages/IPython/core/interactiveshell.py:2882: DtypeWarning: Columns (43,44) have mixed types.Specify dtype option on import or set low_memory=False.\n",
            "  exec(code_obj, self.user_global_ns, self.user_ns)\n"
          ]
        }
      ]
    },
    {
      "cell_type": "code",
      "source": [
        "ibge = pd.read_csv(MU_IBGE, usecols=['codmu', 'nomemu'])\n",
        "ibge.head(2)"
      ],
      "metadata": {
        "colab": {
          "base_uri": "https://localhost:8080/",
          "height": 112
        },
        "id": "8fkt5pEcDzD_",
        "outputId": "9d5c1f6b-57f8-431d-b617-79e1efd990a3"
      },
      "execution_count": 7,
      "outputs": [
        {
          "output_type": "execute_result",
          "data": {
            "text/plain": [
              "    codmu                 nomemu\n",
              "0  110001  Alta Floresta D'Oeste\n",
              "1  110002              Ariquemes"
            ],
            "text/html": [
              "\n",
              "  <div id=\"df-6f7e3eff-9e5a-4b51-b962-85cad98dcbab\">\n",
              "    <div class=\"colab-df-container\">\n",
              "      <div>\n",
              "<style scoped>\n",
              "    .dataframe tbody tr th:only-of-type {\n",
              "        vertical-align: middle;\n",
              "    }\n",
              "\n",
              "    .dataframe tbody tr th {\n",
              "        vertical-align: top;\n",
              "    }\n",
              "\n",
              "    .dataframe thead th {\n",
              "        text-align: right;\n",
              "    }\n",
              "</style>\n",
              "<table border=\"1\" class=\"dataframe\">\n",
              "  <thead>\n",
              "    <tr style=\"text-align: right;\">\n",
              "      <th></th>\n",
              "      <th>codmu</th>\n",
              "      <th>nomemu</th>\n",
              "    </tr>\n",
              "  </thead>\n",
              "  <tbody>\n",
              "    <tr>\n",
              "      <th>0</th>\n",
              "      <td>110001</td>\n",
              "      <td>Alta Floresta D'Oeste</td>\n",
              "    </tr>\n",
              "    <tr>\n",
              "      <th>1</th>\n",
              "      <td>110002</td>\n",
              "      <td>Ariquemes</td>\n",
              "    </tr>\n",
              "  </tbody>\n",
              "</table>\n",
              "</div>\n",
              "      <button class=\"colab-df-convert\" onclick=\"convertToInteractive('df-6f7e3eff-9e5a-4b51-b962-85cad98dcbab')\"\n",
              "              title=\"Convert this dataframe to an interactive table.\"\n",
              "              style=\"display:none;\">\n",
              "        \n",
              "  <svg xmlns=\"http://www.w3.org/2000/svg\" height=\"24px\"viewBox=\"0 0 24 24\"\n",
              "       width=\"24px\">\n",
              "    <path d=\"M0 0h24v24H0V0z\" fill=\"none\"/>\n",
              "    <path d=\"M18.56 5.44l.94 2.06.94-2.06 2.06-.94-2.06-.94-.94-2.06-.94 2.06-2.06.94zm-11 1L8.5 8.5l.94-2.06 2.06-.94-2.06-.94L8.5 2.5l-.94 2.06-2.06.94zm10 10l.94 2.06.94-2.06 2.06-.94-2.06-.94-.94-2.06-.94 2.06-2.06.94z\"/><path d=\"M17.41 7.96l-1.37-1.37c-.4-.4-.92-.59-1.43-.59-.52 0-1.04.2-1.43.59L10.3 9.45l-7.72 7.72c-.78.78-.78 2.05 0 2.83L4 21.41c.39.39.9.59 1.41.59.51 0 1.02-.2 1.41-.59l7.78-7.78 2.81-2.81c.8-.78.8-2.07 0-2.86zM5.41 20L4 18.59l7.72-7.72 1.47 1.35L5.41 20z\"/>\n",
              "  </svg>\n",
              "      </button>\n",
              "      \n",
              "  <style>\n",
              "    .colab-df-container {\n",
              "      display:flex;\n",
              "      flex-wrap:wrap;\n",
              "      gap: 12px;\n",
              "    }\n",
              "\n",
              "    .colab-df-convert {\n",
              "      background-color: #E8F0FE;\n",
              "      border: none;\n",
              "      border-radius: 50%;\n",
              "      cursor: pointer;\n",
              "      display: none;\n",
              "      fill: #1967D2;\n",
              "      height: 32px;\n",
              "      padding: 0 0 0 0;\n",
              "      width: 32px;\n",
              "    }\n",
              "\n",
              "    .colab-df-convert:hover {\n",
              "      background-color: #E2EBFA;\n",
              "      box-shadow: 0px 1px 2px rgba(60, 64, 67, 0.3), 0px 1px 3px 1px rgba(60, 64, 67, 0.15);\n",
              "      fill: #174EA6;\n",
              "    }\n",
              "\n",
              "    [theme=dark] .colab-df-convert {\n",
              "      background-color: #3B4455;\n",
              "      fill: #D2E3FC;\n",
              "    }\n",
              "\n",
              "    [theme=dark] .colab-df-convert:hover {\n",
              "      background-color: #434B5C;\n",
              "      box-shadow: 0px 1px 3px 1px rgba(0, 0, 0, 0.15);\n",
              "      filter: drop-shadow(0px 1px 2px rgba(0, 0, 0, 0.3));\n",
              "      fill: #FFFFFF;\n",
              "    }\n",
              "  </style>\n",
              "\n",
              "      <script>\n",
              "        const buttonEl =\n",
              "          document.querySelector('#df-6f7e3eff-9e5a-4b51-b962-85cad98dcbab button.colab-df-convert');\n",
              "        buttonEl.style.display =\n",
              "          google.colab.kernel.accessAllowed ? 'block' : 'none';\n",
              "\n",
              "        async function convertToInteractive(key) {\n",
              "          const element = document.querySelector('#df-6f7e3eff-9e5a-4b51-b962-85cad98dcbab');\n",
              "          const dataTable =\n",
              "            await google.colab.kernel.invokeFunction('convertToInteractive',\n",
              "                                                     [key], {});\n",
              "          if (!dataTable) return;\n",
              "\n",
              "          const docLinkHtml = 'Like what you see? Visit the ' +\n",
              "            '<a target=\"_blank\" href=https://colab.research.google.com/notebooks/data_table.ipynb>data table notebook</a>'\n",
              "            + ' to learn more about interactive tables.';\n",
              "          element.innerHTML = '';\n",
              "          dataTable['output_type'] = 'display_data';\n",
              "          await google.colab.output.renderOutput(dataTable, element);\n",
              "          const docLink = document.createElement('div');\n",
              "          docLink.innerHTML = docLinkHtml;\n",
              "          element.appendChild(docLink);\n",
              "        }\n",
              "      </script>\n",
              "    </div>\n",
              "  </div>\n",
              "  "
            ]
          },
          "metadata": {},
          "execution_count": 7
        }
      ]
    },
    {
      "cell_type": "code",
      "source": [
        "df = pd.merge(df, ibge, left_on='MUNIC_RES', right_on='codmu', how='left')\n",
        "del df['MUNIC_RES']\n",
        "del df['codmu']\n",
        "df.rename(columns={'nomemu':'MUNIC_RES'}, inplace=True)\n",
        "\n",
        "df.MUNIC_RES.value_counts()"
      ],
      "metadata": {
        "colab": {
          "base_uri": "https://localhost:8080/"
        },
        "id": "3sPUYklbwJk8",
        "outputId": "bd54d3b0-e472-435c-f9f3-b25b521a20d6"
      },
      "execution_count": 8,
      "outputs": [
        {
          "output_type": "execute_result",
          "data": {
            "text/plain": [
              "Fortaleza            867018\n",
              "Caucaia              103514\n",
              "Maracana�             92915\n",
              "Juazeiro do Norte     77804\n",
              "Sobral                73101\n",
              "                      ...  \n",
              "Marilena                  1\n",
              "Itanh�m                   1\n",
              "Sinop                     1\n",
              "Alta Floresta             1\n",
              "Par� de Minas             1\n",
              "Name: MUNIC_RES, Length: 1570, dtype: int64"
            ]
          },
          "metadata": {},
          "execution_count": 8
        }
      ]
    },
    {
      "cell_type": "code",
      "source": [
        "df = pd.merge(df, ibge, left_on='MUNIC_MOV', right_on='codmu', how='left')\n",
        "del df['MUNIC_MOV']\n",
        "del df['codmu']\n",
        "df.rename(columns={'nomemu':'MUNIC_MOV'}, inplace=True)\n",
        "\n",
        "df.MUNIC_MOV.value_counts()"
      ],
      "metadata": {
        "colab": {
          "base_uri": "https://localhost:8080/"
        },
        "id": "9AGwPCZ-EKTH",
        "outputId": "5d230eb2-0361-41ef-d7df-a8a82bdee75b"
      },
      "execution_count": 9,
      "outputs": [
        {
          "output_type": "execute_result",
          "data": {
            "text/plain": [
              "Fortaleza            1285549\n",
              "Sobral                220691\n",
              "Maracana�              96418\n",
              "Juazeiro do Norte      90582\n",
              "Barbalha               88350\n",
              "                      ...   \n",
              "Granjeiro                186\n",
              "Martin�pole              151\n",
              "Erer�                    142\n",
              "Palhano                   53\n",
              "Quiterian�polis           38\n",
              "Name: MUNIC_MOV, Length: 167, dtype: int64"
            ]
          },
          "metadata": {},
          "execution_count": 9
        }
      ]
    },
    {
      "cell_type": "code",
      "source": [
        "df = pd.merge(df, ibge, left_on='UF_ZI', right_on='codmu', how='left')\n",
        "del df['UF_ZI']\n",
        "del df['codmu']\n",
        "df.rename(columns={'nomemu':'UF_ZI'}, inplace=True)\n",
        "\n",
        "df.UF_ZI.value_counts()"
      ],
      "metadata": {
        "colab": {
          "base_uri": "https://localhost:8080/"
        },
        "id": "Thbpq8zAqhBw",
        "outputId": "a5e5f06b-ec61-479d-9e16-7ea1df3bcc36"
      },
      "execution_count": 10,
      "outputs": [
        {
          "output_type": "execute_result",
          "data": {
            "text/plain": [
              "Fortaleza          1218733\n",
              "Sobral              159699\n",
              "Maracana�            96418\n",
              "Barbalha             88350\n",
              "Crato                76379\n",
              "                    ...   \n",
              "Granjeiro              186\n",
              "Martin�pole            151\n",
              "Erer�                  142\n",
              "Palhano                 53\n",
              "Quiterian�polis         38\n",
              "Name: UF_ZI, Length: 167, dtype: int64"
            ]
          },
          "metadata": {},
          "execution_count": 10
        }
      ]
    },
    {
      "cell_type": "code",
      "source": [
        "car_int = pd.read_csv(CAR_INT, sep=';', encoding= 'unicode_escape', header=None)\n",
        "\n",
        "df = pd.merge(df, car_int, left_on='CAR_INT', right_on=0, how='left')\n",
        "del df['CAR_INT']\n",
        "del df[0]\n",
        "df.rename(columns={1:'CAR_INT'}, inplace=True)\n",
        "\n",
        "df['CAR_INT'].value_counts()"
      ],
      "metadata": {
        "colab": {
          "base_uri": "https://localhost:8080/"
        },
        "id": "ZDPbiCEu9goM",
        "outputId": "94dfd0aa-745d-457d-ee7c-9877daec8957"
      },
      "execution_count": 11,
      "outputs": [
        {
          "output_type": "execute_result",
          "data": {
            "text/plain": [
              " Urgência                                          2402338\n",
              " Eletivo                                            491829\n",
              " Outros tipo de acidente de trânsito                 41518\n",
              " Out tp lesões e envenen por agent quím físicos      20658\n",
              "Name: CAR_INT, dtype: int64"
            ]
          },
          "metadata": {},
          "execution_count": 11
        }
      ]
    },
    {
      "cell_type": "code",
      "source": [
        "cobranca = pd.read_csv(COBRANCA, sep=';', encoding= 'unicode_escape', header=None)\n",
        "\n",
        "df = pd.merge(df, cobranca, left_on='COBRANCA', right_on=0, how='left')\n",
        "del df['COBRANCA']\n",
        "del df[0]\n",
        "df.rename(columns={1:'COBRANCA'}, inplace=True)\n",
        "\n",
        "df['COBRANCA'].value_counts()"
      ],
      "metadata": {
        "colab": {
          "base_uri": "https://localhost:8080/"
        },
        "id": "6JXhKWt-AnF8",
        "outputId": "0746823f-f7fe-42e8-cc58-7fb7e3a83ffc"
      },
      "execution_count": 12,
      "outputs": [
        {
          "output_type": "execute_result",
          "data": {
            "text/plain": [
              " Alta melhorado                                        1761119\n",
              " Alta da mãe/puérpera e do recém-nascido                561866\n",
              " Óbito com DO fornecida pelo médico assistente          102766\n",
              " Transferência para outro estabelecimento                94234\n",
              " Alta curado                                             92757\n",
              " Permanência por características próprias da doença      64590\n",
              " Permanência por intercorrência                          61920\n",
              " Permanência por reoperação                              44842\n",
              " Alta a pedido                                           41079\n",
              " Alta da mãe/puérpera e permanência recém-nascido        40827\n",
              " Alta com previsão de retorno p/acomp do paciente        24946\n",
              " Permanência por mudança de procedimento                 14840\n",
              " Encerramento administrativo                             14540\n",
              " Alta por outros motivos                                  8544\n",
              " Permanência proc doação órg, tec, cél-doador morto       7327\n",
              " Alta por evasão                                          6532\n",
              " Alta da mãe/puérpera com óbito fetal                     3842\n",
              " Óbito com DO fornecida pelo IML                          3635\n",
              " Óbito com DO fornecida pelo SVO                          2910\n",
              " Alta da mãe/puérpera e óbito do recém-nascido            2124\n",
              " Permanência por outros motivos                            575\n",
              " Permanência proc doação órg, tec, cél-doador vivo         347\n",
              " Permanência por impossibilidade sócio-familiar             67\n",
              " Óbito da mãe/puérpera e alta do recém-nascido              60\n",
              " Óbito da mãe/puérpera e permanência recém-nascido          26\n",
              " Óbito da gestante e do concepto                            26\n",
              " Alta de paciente agudo em psiquiatria                       1\n",
              " Transferência para internação domiciliar                    1\n",
              "Name: COBRANCA, dtype: int64"
            ]
          },
          "metadata": {},
          "execution_count": 12
        }
      ]
    },
    {
      "cell_type": "code",
      "source": [
        "cod_idade = pd.read_csv(COD_IDADE, sep=';', encoding= 'unicode_escape', header=None)\n",
        "\n",
        "df = pd.merge(df, cod_idade, left_on='COD_IDADE', right_on=0, how='left')\n",
        "del df['COD_IDADE']\n",
        "del df[0]\n",
        "df.rename(columns={1:'COD_IDADE'}, inplace=True)\n",
        "\n",
        "df['COD_IDADE'].value_counts()"
      ],
      "metadata": {
        "colab": {
          "base_uri": "https://localhost:8080/"
        },
        "id": "cL69ZKOuASHs",
        "outputId": "a7c308c2-188a-434e-fe86-2e59dcf911d2"
      },
      "execution_count": 13,
      "outputs": [
        {
          "output_type": "execute_result",
          "data": {
            "text/plain": [
              " Anos     2766844\n",
              " Dias      116095\n",
              " Meses      71138\n",
              "Name: COD_IDADE, dtype: int64"
            ]
          },
          "metadata": {},
          "execution_count": 13
        }
      ]
    },
    {
      "cell_type": "code",
      "source": [
        "complex_ = pd.read_csv(COMPLEX, sep=';', encoding= 'unicode_escape', header=None)\n",
        "\n",
        "df = pd.merge(df, complex_, left_on='COMPLEX', right_on=0, how='left')\n",
        "del df['COMPLEX']\n",
        "del df[0]\n",
        "df.rename(columns={1:'COMPLEX'}, inplace=True)\n",
        "\n",
        "df['COMPLEX'].value_counts()"
      ],
      "metadata": {
        "colab": {
          "base_uri": "https://localhost:8080/"
        },
        "id": "oRNLPqgUAMu8",
        "outputId": "839ac0a9-ce27-4503-86d9-5e8f052d5b7f"
      },
      "execution_count": 14,
      "outputs": [
        {
          "output_type": "execute_result",
          "data": {
            "text/plain": [
              " Média complexidade    2779450\n",
              " Alta complexidade      176893\n",
              "Name: COMPLEX, dtype: int64"
            ]
          },
          "metadata": {},
          "execution_count": 14
        }
      ]
    },
    {
      "cell_type": "code",
      "source": [
        "espec = pd.read_csv(ESPEC, sep=';', encoding= 'unicode_escape', header=None)\n",
        "\n",
        "df = pd.merge(df, espec, left_on='ESPEC', right_on=0, how='left')\n",
        "del df['ESPEC']\n",
        "del df[0]\n",
        "df.rename(columns={1:'ESPEC'}, inplace=True)\n",
        "\n",
        "df['ESPEC'].value_counts()"
      ],
      "metadata": {
        "colab": {
          "base_uri": "https://localhost:8080/"
        },
        "id": "4yt55FiTAGi7",
        "outputId": "86325b4a-fb88-4024-b06e-a346c365bba5"
      },
      "execution_count": 15,
      "outputs": [
        {
          "output_type": "execute_result",
          "data": {
            "text/plain": [
              " Cirurgia                                          879208\n",
              " Clínica médica                                    877866\n",
              " Obstetrícia                                       683679\n",
              " Pediatria                                         405430\n",
              " Psiquiatria                                        71848\n",
              " Reabilitação                                       14734\n",
              " Crônicos                                            5843\n",
              " Hospital dia (cirúrgicos)                           5630\n",
              " Hospital dia (saúde mental)                         5333\n",
              " Hospital dia (AIDS)                                 2663\n",
              " Pneumologia sanitária                               2074\n",
              " Hospital dia (intercorrência pós transplantes)      1761\n",
              "Name: ESPEC, dtype: int64"
            ]
          },
          "metadata": {},
          "execution_count": 15
        }
      ]
    },
    {
      "cell_type": "code",
      "source": [
        "financ = pd.read_csv(FINANC, sep=';', encoding= 'unicode_escape', header=None)\n",
        "\n",
        "df = pd.merge(df, financ, left_on='FINANC', right_on=0, how='left')\n",
        "del df['FINANC']\n",
        "del df[0]\n",
        "df.rename(columns={1:'FINANC'}, inplace=True)\n",
        "\n",
        "df['FINANC'].value_counts()"
      ],
      "metadata": {
        "colab": {
          "base_uri": "https://localhost:8080/"
        },
        "id": "-z5h7MuFAAMr",
        "outputId": "15abaf24-d914-4ad0-a540-1200e67213f3"
      },
      "execution_count": 16,
      "outputs": [
        {
          "output_type": "execute_result",
          "data": {
            "text/plain": [
              " Média e Alta Complexidade (MAC)                    2891817\n",
              " Fundo de Ações Estratégicas e Compensações FAEC      64526\n",
              "Name: FINANC, dtype: int64"
            ]
          },
          "metadata": {},
          "execution_count": 16
        }
      ]
    },
    {
      "cell_type": "code",
      "source": [
        "gestao = pd.read_csv(GESTAO, sep=';', encoding= 'unicode_escape', header=None)\n",
        "\n",
        "df = pd.merge(df, gestao, left_on='GESTAO', right_on=0, how='left')\n",
        "del df['GESTAO']\n",
        "del df[0]\n",
        "df.rename(columns={1:'GESTAO'}, inplace=True)\n",
        "\n",
        "df['GESTAO'].value_counts()"
      ],
      "metadata": {
        "colab": {
          "base_uri": "https://localhost:8080/"
        },
        "id": "G5i0DIvZ_4Db",
        "outputId": "d2096dcb-01df-4c56-9a88-7ead3a8ec14d"
      },
      "execution_count": 17,
      "outputs": [
        {
          "output_type": "execute_result",
          "data": {
            "text/plain": [
              " Municipal planea assist    2765452\n",
              " Estadual plena              190891\n",
              "Name: GESTAO, dtype: int64"
            ]
          },
          "metadata": {},
          "execution_count": 17
        }
      ]
    },
    {
      "cell_type": "code",
      "source": [
        "ident = pd.read_csv(IDENT, sep=';', encoding= 'unicode_escape', header=None)\n",
        "\n",
        "df = pd.merge(df, ident, left_on='IDENT', right_on=0, how='left')\n",
        "del df['IDENT']\n",
        "del df[0]\n",
        "df.rename(columns={1:'IDENT'}, inplace=True)\n",
        "\n",
        "df['IDENT'].value_counts()"
      ],
      "metadata": {
        "colab": {
          "base_uri": "https://localhost:8080/"
        },
        "id": "rtNo7VOC_yk0",
        "outputId": "5e50852c-258d-4498-c523-f34c20fae6f1"
      },
      "execution_count": 18,
      "outputs": [
        {
          "output_type": "execute_result",
          "data": {
            "text/plain": [
              " Principal            2923877\n",
              " Longa permanência      32466\n",
              "Name: IDENT, dtype: int64"
            ]
          },
          "metadata": {},
          "execution_count": 18
        }
      ]
    },
    {
      "cell_type": "code",
      "source": [
        "instru = pd.read_csv(INSTRU, sep=';', encoding= 'unicode_escape', header=None)\n",
        "\n",
        "df = pd.merge(df, instru, left_on='INSTRU', right_on=0, how='left')\n",
        "del df['INSTRU']\n",
        "del df[0]\n",
        "df.rename(columns={1:'INSTRU'}, inplace=True)\n",
        "\n",
        "df['INSTRU'].value_counts()"
      ],
      "metadata": {
        "colab": {
          "base_uri": "https://localhost:8080/"
        },
        "id": "VtXmBb1a_rAz",
        "outputId": "173a8dff-590d-42b9-a1df-4e18cd3de676"
      },
      "execution_count": 19,
      "outputs": [
        {
          "output_type": "execute_result",
          "data": {
            "text/plain": [
              " 1º grau       10927\n",
              " 2º grau       10009\n",
              " Analfabeto     3540\n",
              " 3º grau         816\n",
              "Name: INSTRU, dtype: int64"
            ]
          },
          "metadata": {},
          "execution_count": 19
        }
      ]
    },
    {
      "cell_type": "code",
      "source": [
        "marca_uti = pd.read_csv(MARCA_UTI, sep=';', encoding= 'unicode_escape', header=None)\n",
        "\n",
        "df = pd.merge(df, marca_uti, left_on='MARCA_UTI', right_on=0, how='left')\n",
        "del df['MARCA_UTI']\n",
        "del df[0]\n",
        "df.rename(columns={1:'MARCA_UTI'}, inplace=True)\n",
        "\n",
        "df['MARCA_UTI'].value_counts()"
      ],
      "metadata": {
        "colab": {
          "base_uri": "https://localhost:8080/"
        },
        "id": "9k6cJu___ivL",
        "outputId": "39a216f3-4ebb-47e9-fa1c-95f247a695b5"
      },
      "execution_count": 20,
      "outputs": [
        {
          "output_type": "execute_result",
          "data": {
            "text/plain": [
              " Não utilizou UTI                         2824357\n",
              " UTI adulto - tipo II                       84751\n",
              " UTI neonatal - tipo II                     22723\n",
              " UTI infantil - tipo II                      9442\n",
              " UTI coronariana tipo II - UCO tipo II       8401\n",
              " UTI adulto - tipo I                         3627\n",
              " UTI Doador                                  1127\n",
              " UTI infantil - tipo I                       1123\n",
              " UTI adulto - tipo III                        576\n",
              " Utilizou mais de um tipo de UTI              216\n",
              "Name: MARCA_UTI, dtype: int64"
            ]
          },
          "metadata": {},
          "execution_count": 20
        }
      ]
    },
    {
      "cell_type": "code",
      "source": [
        "nacional = pd.read_csv(NACIONAL, sep=';', encoding= 'unicode_escape', header=None)\n",
        "\n",
        "df = pd.merge(df, nacional, left_on='NACIONAL', right_on=0, how='left')\n",
        "del df['NACIONAL']\n",
        "del df[0]\n",
        "df.rename(columns={1:'NACIONAL'}, inplace=True)\n",
        "\n",
        "df['NACIONAL'].value_counts()"
      ],
      "metadata": {
        "colab": {
          "base_uri": "https://localhost:8080/"
        },
        "id": "17cF71NL_baE",
        "outputId": "f430eeeb-0a17-4245-fca4-fd82e5bfcf71"
      },
      "execution_count": 21,
      "outputs": [
        {
          "output_type": "execute_result",
          "data": {
            "text/plain": [
              " Brasil                  2944167\n",
              " Republica dominicana       8611\n",
              " Colombia                   2118\n",
              " Mexico                      148\n",
              " Gibraltar                   139\n",
              "                          ...   \n",
              " Albania                       1\n",
              " India                         1\n",
              " Romenia                       1\n",
              " Filipinas                     1\n",
              " Bulgaria                      1\n",
              "Name: NACIONAL, Length: 104, dtype: int64"
            ]
          },
          "metadata": {},
          "execution_count": 21
        }
      ]
    },
    {
      "cell_type": "code",
      "source": [
        "nat_jur = pd.read_csv(NAT_JUR, sep=';', encoding= 'unicode_escape', header=None)\n",
        "\n",
        "df = pd.merge(df, nat_jur, left_on='NAT_JUR', right_on=0, how='left')\n",
        "del df['NAT_JUR']\n",
        "del df[0]\n",
        "df.rename(columns={1:'NAT_JUR'}, inplace=True)\n",
        "\n",
        "df['NAT_JUR'].value_counts()"
      ],
      "metadata": {
        "colab": {
          "base_uri": "https://localhost:8080/"
        },
        "id": "hRAKMMJU_Wbb",
        "outputId": "33e6988d-722e-4397-c569-0a95918cc808"
      },
      "execution_count": 22,
      "outputs": [
        {
          "output_type": "execute_result",
          "data": {
            "text/plain": [
              " Associação Privada                                   1161035\n",
              " Órgão Público do Poder Exec Estadual ou Distr Fed     491473\n",
              " Órgão Público do Poder Executivo Municipal            420831\n",
              " Autarquia Municipal                                   127740\n",
              " Autarquia Federal                                     120553\n",
              " Sociedade Simples Limitada                            103782\n",
              " Fundação Privada                                       92476\n",
              " Sociedade Empresária Limitada                          41108\n",
              " Fundação Municipal                                     33949\n",
              " Fundação Estadual ou do Distrito Federal                6313\n",
              " Fundo Público                                           3104\n",
              " Sociedade Anônima Fechada                               2442\n",
              "Name: NAT_JUR, dtype: int64"
            ]
          },
          "metadata": {},
          "execution_count": 22
        }
      ]
    },
    {
      "cell_type": "code",
      "source": [
        "raca_cor = pd.read_csv(RACA_COR, sep=';', encoding= 'unicode_escape', header=None)\n",
        "\n",
        "df = pd.merge(df, raca_cor, left_on='RACA_COR', right_on=0, how='left')\n",
        "del df['RACA_COR']\n",
        "del df[0]\n",
        "df.rename(columns={1:'RACA_COR'}, inplace=True)\n",
        "\n",
        "df['RACA_COR'].value_counts()"
      ],
      "metadata": {
        "colab": {
          "base_uri": "https://localhost:8080/"
        },
        "id": "DETm8_6Q_MLU",
        "outputId": "09442a4f-bad4-4b91-a0e2-fcb5db76b725"
      },
      "execution_count": 23,
      "outputs": [
        {
          "output_type": "execute_result",
          "data": {
            "text/plain": [
              " Parda       1755992\n",
              " Branca       237302\n",
              " Amarela      104916\n",
              " Preta         33434\n",
              " Indígena       1209\n",
              "Name: RACA_COR, dtype: int64"
            ]
          },
          "metadata": {},
          "execution_count": 23
        }
      ]
    },
    {
      "cell_type": "code",
      "source": [
        "regct = pd.read_csv(REGCT, sep=';', encoding= 'unicode_escape', header=None)\n",
        "\n",
        "df = pd.merge(df, regct, left_on='REGCT', right_on=0, how='left')\n",
        "del df['REGCT']\n",
        "del df[0]\n",
        "df.rename(columns={1:'REGCT'}, inplace=True)\n",
        "\n",
        "df['REGCT'].value_counts()"
      ],
      "metadata": {
        "colab": {
          "base_uri": "https://localhost:8080/"
        },
        "id": "LIVnsP7o_Cc1",
        "outputId": "1b40fac1-d117-4eea-edc7-41019eb2b1d4"
      },
      "execution_count": 24,
      "outputs": [
        {
          "output_type": "execute_result",
          "data": {
            "text/plain": [
              " Sem regra contratual                                                                         2632266\n",
              " ESTABELECIMENTO DE SAUDE SEM GERACAO DE CREDITO NA MEDIA COMPLEXIDADE HOSPITALAR              184750\n",
              " ESTABELECIMENTO SEM GERACAO DE CREDITO TOTAL-MEC                                              120576\n",
              " ESTABELECIMENTO SEM GERAÇÃO DE CREDITO TOTAL - INCLUINDO FAEC - EXCLUSIVO PARA REDE SARAH      16529\n",
              " ESTABELECIMENTO SEM GERAÇÃO DE CREDITO TOTAL - EXCLUINDO FAEC                                   2242\n",
              "Name: REGCT, dtype: int64"
            ]
          },
          "metadata": {},
          "execution_count": 24
        }
      ]
    },
    {
      "cell_type": "code",
      "source": [
        "sexo = pd.read_csv(SEXO, sep=';', encoding= 'unicode_escape', header=None)\n",
        "\n",
        "df = pd.merge(df, sexo, left_on='SEXO', right_on=0, how='left')\n",
        "del df['SEXO']\n",
        "del df[0]\n",
        "df.rename(columns={1:'SEXO'}, inplace=True)\n",
        "\n",
        "df['SEXO'].value_counts()"
      ],
      "metadata": {
        "colab": {
          "base_uri": "https://localhost:8080/"
        },
        "id": "BrT0KjvW-1Gy",
        "outputId": "6507ab26-1d64-464c-8bbb-4dbb79ffa72b"
      },
      "execution_count": 25,
      "outputs": [
        {
          "output_type": "execute_result",
          "data": {
            "text/plain": [
              " Feminino     1780456\n",
              " Masculino    1175907\n",
              "Name: SEXO, dtype: int64"
            ]
          },
          "metadata": {},
          "execution_count": 25
        }
      ]
    },
    {
      "cell_type": "code",
      "source": [
        "df.head(2)"
      ],
      "metadata": {
        "colab": {
          "base_uri": "https://localhost:8080/",
          "height": 292
        },
        "id": "rNS4TJgEBG1Y",
        "outputId": "83ff98ca-6a62-432e-dd4f-7aca56671a9e"
      },
      "execution_count": 26,
      "outputs": [
        {
          "output_type": "execute_result",
          "data": {
            "text/plain": [
              "   Unnamed: 0  ANO_CMPT  MES_CMPT      CGC_HOSP          N_AIH       CEP  \\\n",
              "0           0      2014         1  5.268526e+12  2314100004788  62900000   \n",
              "1           1      2014         1  5.268526e+12  2314100004854  62755000   \n",
              "\n",
              "       NASC  UTI_MES_TO  UTI_INT_TO  DIAR_ACOM  ...  \\\n",
              "0  20140117           2           0          0  ...   \n",
              "1  20110912           0           0          0  ...   \n",
              "\n",
              "                             FINANC           GESTAO       IDENT  INSTRU  \\\n",
              "0   Média e Alta Complexidade (MAC)   Estadual plena   Principal     NaN   \n",
              "1   Média e Alta Complexidade (MAC)   Estadual plena   Principal     NaN   \n",
              "\n",
              "                 MARCA_UTI  NACIONAL              NAT_JUR  RACA_COR  \\\n",
              "0   UTI neonatal - tipo II    Brasil   Associação Privada       NaN   \n",
              "1         Não utilizou UTI    Brasil   Associação Privada       NaN   \n",
              "\n",
              "                   REGCT       SEXO  \n",
              "0   Sem regra contratual   Feminino  \n",
              "1   Sem regra contratual   Feminino  \n",
              "\n",
              "[2 rows x 51 columns]"
            ],
            "text/html": [
              "\n",
              "  <div id=\"df-c42ae946-2e33-4f8b-b031-af873d3430ee\">\n",
              "    <div class=\"colab-df-container\">\n",
              "      <div>\n",
              "<style scoped>\n",
              "    .dataframe tbody tr th:only-of-type {\n",
              "        vertical-align: middle;\n",
              "    }\n",
              "\n",
              "    .dataframe tbody tr th {\n",
              "        vertical-align: top;\n",
              "    }\n",
              "\n",
              "    .dataframe thead th {\n",
              "        text-align: right;\n",
              "    }\n",
              "</style>\n",
              "<table border=\"1\" class=\"dataframe\">\n",
              "  <thead>\n",
              "    <tr style=\"text-align: right;\">\n",
              "      <th></th>\n",
              "      <th>Unnamed: 0</th>\n",
              "      <th>ANO_CMPT</th>\n",
              "      <th>MES_CMPT</th>\n",
              "      <th>CGC_HOSP</th>\n",
              "      <th>N_AIH</th>\n",
              "      <th>CEP</th>\n",
              "      <th>NASC</th>\n",
              "      <th>UTI_MES_TO</th>\n",
              "      <th>UTI_INT_TO</th>\n",
              "      <th>DIAR_ACOM</th>\n",
              "      <th>...</th>\n",
              "      <th>FINANC</th>\n",
              "      <th>GESTAO</th>\n",
              "      <th>IDENT</th>\n",
              "      <th>INSTRU</th>\n",
              "      <th>MARCA_UTI</th>\n",
              "      <th>NACIONAL</th>\n",
              "      <th>NAT_JUR</th>\n",
              "      <th>RACA_COR</th>\n",
              "      <th>REGCT</th>\n",
              "      <th>SEXO</th>\n",
              "    </tr>\n",
              "  </thead>\n",
              "  <tbody>\n",
              "    <tr>\n",
              "      <th>0</th>\n",
              "      <td>0</td>\n",
              "      <td>2014</td>\n",
              "      <td>1</td>\n",
              "      <td>5.268526e+12</td>\n",
              "      <td>2314100004788</td>\n",
              "      <td>62900000</td>\n",
              "      <td>20140117</td>\n",
              "      <td>2</td>\n",
              "      <td>0</td>\n",
              "      <td>0</td>\n",
              "      <td>...</td>\n",
              "      <td>Média e Alta Complexidade (MAC)</td>\n",
              "      <td>Estadual plena</td>\n",
              "      <td>Principal</td>\n",
              "      <td>NaN</td>\n",
              "      <td>UTI neonatal - tipo II</td>\n",
              "      <td>Brasil</td>\n",
              "      <td>Associação Privada</td>\n",
              "      <td>NaN</td>\n",
              "      <td>Sem regra contratual</td>\n",
              "      <td>Feminino</td>\n",
              "    </tr>\n",
              "    <tr>\n",
              "      <th>1</th>\n",
              "      <td>1</td>\n",
              "      <td>2014</td>\n",
              "      <td>1</td>\n",
              "      <td>5.268526e+12</td>\n",
              "      <td>2314100004854</td>\n",
              "      <td>62755000</td>\n",
              "      <td>20110912</td>\n",
              "      <td>0</td>\n",
              "      <td>0</td>\n",
              "      <td>0</td>\n",
              "      <td>...</td>\n",
              "      <td>Média e Alta Complexidade (MAC)</td>\n",
              "      <td>Estadual plena</td>\n",
              "      <td>Principal</td>\n",
              "      <td>NaN</td>\n",
              "      <td>Não utilizou UTI</td>\n",
              "      <td>Brasil</td>\n",
              "      <td>Associação Privada</td>\n",
              "      <td>NaN</td>\n",
              "      <td>Sem regra contratual</td>\n",
              "      <td>Feminino</td>\n",
              "    </tr>\n",
              "  </tbody>\n",
              "</table>\n",
              "<p>2 rows × 51 columns</p>\n",
              "</div>\n",
              "      <button class=\"colab-df-convert\" onclick=\"convertToInteractive('df-c42ae946-2e33-4f8b-b031-af873d3430ee')\"\n",
              "              title=\"Convert this dataframe to an interactive table.\"\n",
              "              style=\"display:none;\">\n",
              "        \n",
              "  <svg xmlns=\"http://www.w3.org/2000/svg\" height=\"24px\"viewBox=\"0 0 24 24\"\n",
              "       width=\"24px\">\n",
              "    <path d=\"M0 0h24v24H0V0z\" fill=\"none\"/>\n",
              "    <path d=\"M18.56 5.44l.94 2.06.94-2.06 2.06-.94-2.06-.94-.94-2.06-.94 2.06-2.06.94zm-11 1L8.5 8.5l.94-2.06 2.06-.94-2.06-.94L8.5 2.5l-.94 2.06-2.06.94zm10 10l.94 2.06.94-2.06 2.06-.94-2.06-.94-.94-2.06-.94 2.06-2.06.94z\"/><path d=\"M17.41 7.96l-1.37-1.37c-.4-.4-.92-.59-1.43-.59-.52 0-1.04.2-1.43.59L10.3 9.45l-7.72 7.72c-.78.78-.78 2.05 0 2.83L4 21.41c.39.39.9.59 1.41.59.51 0 1.02-.2 1.41-.59l7.78-7.78 2.81-2.81c.8-.78.8-2.07 0-2.86zM5.41 20L4 18.59l7.72-7.72 1.47 1.35L5.41 20z\"/>\n",
              "  </svg>\n",
              "      </button>\n",
              "      \n",
              "  <style>\n",
              "    .colab-df-container {\n",
              "      display:flex;\n",
              "      flex-wrap:wrap;\n",
              "      gap: 12px;\n",
              "    }\n",
              "\n",
              "    .colab-df-convert {\n",
              "      background-color: #E8F0FE;\n",
              "      border: none;\n",
              "      border-radius: 50%;\n",
              "      cursor: pointer;\n",
              "      display: none;\n",
              "      fill: #1967D2;\n",
              "      height: 32px;\n",
              "      padding: 0 0 0 0;\n",
              "      width: 32px;\n",
              "    }\n",
              "\n",
              "    .colab-df-convert:hover {\n",
              "      background-color: #E2EBFA;\n",
              "      box-shadow: 0px 1px 2px rgba(60, 64, 67, 0.3), 0px 1px 3px 1px rgba(60, 64, 67, 0.15);\n",
              "      fill: #174EA6;\n",
              "    }\n",
              "\n",
              "    [theme=dark] .colab-df-convert {\n",
              "      background-color: #3B4455;\n",
              "      fill: #D2E3FC;\n",
              "    }\n",
              "\n",
              "    [theme=dark] .colab-df-convert:hover {\n",
              "      background-color: #434B5C;\n",
              "      box-shadow: 0px 1px 3px 1px rgba(0, 0, 0, 0.15);\n",
              "      filter: drop-shadow(0px 1px 2px rgba(0, 0, 0, 0.3));\n",
              "      fill: #FFFFFF;\n",
              "    }\n",
              "  </style>\n",
              "\n",
              "      <script>\n",
              "        const buttonEl =\n",
              "          document.querySelector('#df-c42ae946-2e33-4f8b-b031-af873d3430ee button.colab-df-convert');\n",
              "        buttonEl.style.display =\n",
              "          google.colab.kernel.accessAllowed ? 'block' : 'none';\n",
              "\n",
              "        async function convertToInteractive(key) {\n",
              "          const element = document.querySelector('#df-c42ae946-2e33-4f8b-b031-af873d3430ee');\n",
              "          const dataTable =\n",
              "            await google.colab.kernel.invokeFunction('convertToInteractive',\n",
              "                                                     [key], {});\n",
              "          if (!dataTable) return;\n",
              "\n",
              "          const docLinkHtml = 'Like what you see? Visit the ' +\n",
              "            '<a target=\"_blank\" href=https://colab.research.google.com/notebooks/data_table.ipynb>data table notebook</a>'\n",
              "            + ' to learn more about interactive tables.';\n",
              "          element.innerHTML = '';\n",
              "          dataTable['output_type'] = 'display_data';\n",
              "          await google.colab.output.renderOutput(dataTable, element);\n",
              "          const docLink = document.createElement('div');\n",
              "          docLink.innerHTML = docLinkHtml;\n",
              "          element.appendChild(docLink);\n",
              "        }\n",
              "      </script>\n",
              "    </div>\n",
              "  </div>\n",
              "  "
            ]
          },
          "metadata": {},
          "execution_count": 26
        }
      ]
    },
    {
      "cell_type": "code",
      "source": [
        "df = df.drop(columns=['Unnamed: 0'])\n",
        "df.head(2)"
      ],
      "metadata": {
        "colab": {
          "base_uri": "https://localhost:8080/",
          "height": 275
        },
        "id": "A0FqSP6RzseT",
        "outputId": "e1b96d81-473e-4cd1-856b-6ed4e2a1c286"
      },
      "execution_count": 27,
      "outputs": [
        {
          "output_type": "execute_result",
          "data": {
            "text/plain": [
              "   ANO_CMPT  MES_CMPT      CGC_HOSP          N_AIH       CEP      NASC  \\\n",
              "0      2014         1  5.268526e+12  2314100004788  62900000  20140117   \n",
              "1      2014         1  5.268526e+12  2314100004854  62755000  20110912   \n",
              "\n",
              "   UTI_MES_TO  UTI_INT_TO  DIAR_ACOM  QT_DIARIAS  ...  \\\n",
              "0           2           0          0           5  ...   \n",
              "1           0           0          0          10  ...   \n",
              "\n",
              "                             FINANC           GESTAO       IDENT  INSTRU  \\\n",
              "0   Média e Alta Complexidade (MAC)   Estadual plena   Principal     NaN   \n",
              "1   Média e Alta Complexidade (MAC)   Estadual plena   Principal     NaN   \n",
              "\n",
              "                 MARCA_UTI  NACIONAL              NAT_JUR  RACA_COR  \\\n",
              "0   UTI neonatal - tipo II    Brasil   Associação Privada       NaN   \n",
              "1         Não utilizou UTI    Brasil   Associação Privada       NaN   \n",
              "\n",
              "                   REGCT       SEXO  \n",
              "0   Sem regra contratual   Feminino  \n",
              "1   Sem regra contratual   Feminino  \n",
              "\n",
              "[2 rows x 50 columns]"
            ],
            "text/html": [
              "\n",
              "  <div id=\"df-a72215e9-66fc-4677-b6aa-b33544cf90c8\">\n",
              "    <div class=\"colab-df-container\">\n",
              "      <div>\n",
              "<style scoped>\n",
              "    .dataframe tbody tr th:only-of-type {\n",
              "        vertical-align: middle;\n",
              "    }\n",
              "\n",
              "    .dataframe tbody tr th {\n",
              "        vertical-align: top;\n",
              "    }\n",
              "\n",
              "    .dataframe thead th {\n",
              "        text-align: right;\n",
              "    }\n",
              "</style>\n",
              "<table border=\"1\" class=\"dataframe\">\n",
              "  <thead>\n",
              "    <tr style=\"text-align: right;\">\n",
              "      <th></th>\n",
              "      <th>ANO_CMPT</th>\n",
              "      <th>MES_CMPT</th>\n",
              "      <th>CGC_HOSP</th>\n",
              "      <th>N_AIH</th>\n",
              "      <th>CEP</th>\n",
              "      <th>NASC</th>\n",
              "      <th>UTI_MES_TO</th>\n",
              "      <th>UTI_INT_TO</th>\n",
              "      <th>DIAR_ACOM</th>\n",
              "      <th>QT_DIARIAS</th>\n",
              "      <th>...</th>\n",
              "      <th>FINANC</th>\n",
              "      <th>GESTAO</th>\n",
              "      <th>IDENT</th>\n",
              "      <th>INSTRU</th>\n",
              "      <th>MARCA_UTI</th>\n",
              "      <th>NACIONAL</th>\n",
              "      <th>NAT_JUR</th>\n",
              "      <th>RACA_COR</th>\n",
              "      <th>REGCT</th>\n",
              "      <th>SEXO</th>\n",
              "    </tr>\n",
              "  </thead>\n",
              "  <tbody>\n",
              "    <tr>\n",
              "      <th>0</th>\n",
              "      <td>2014</td>\n",
              "      <td>1</td>\n",
              "      <td>5.268526e+12</td>\n",
              "      <td>2314100004788</td>\n",
              "      <td>62900000</td>\n",
              "      <td>20140117</td>\n",
              "      <td>2</td>\n",
              "      <td>0</td>\n",
              "      <td>0</td>\n",
              "      <td>5</td>\n",
              "      <td>...</td>\n",
              "      <td>Média e Alta Complexidade (MAC)</td>\n",
              "      <td>Estadual plena</td>\n",
              "      <td>Principal</td>\n",
              "      <td>NaN</td>\n",
              "      <td>UTI neonatal - tipo II</td>\n",
              "      <td>Brasil</td>\n",
              "      <td>Associação Privada</td>\n",
              "      <td>NaN</td>\n",
              "      <td>Sem regra contratual</td>\n",
              "      <td>Feminino</td>\n",
              "    </tr>\n",
              "    <tr>\n",
              "      <th>1</th>\n",
              "      <td>2014</td>\n",
              "      <td>1</td>\n",
              "      <td>5.268526e+12</td>\n",
              "      <td>2314100004854</td>\n",
              "      <td>62755000</td>\n",
              "      <td>20110912</td>\n",
              "      <td>0</td>\n",
              "      <td>0</td>\n",
              "      <td>0</td>\n",
              "      <td>10</td>\n",
              "      <td>...</td>\n",
              "      <td>Média e Alta Complexidade (MAC)</td>\n",
              "      <td>Estadual plena</td>\n",
              "      <td>Principal</td>\n",
              "      <td>NaN</td>\n",
              "      <td>Não utilizou UTI</td>\n",
              "      <td>Brasil</td>\n",
              "      <td>Associação Privada</td>\n",
              "      <td>NaN</td>\n",
              "      <td>Sem regra contratual</td>\n",
              "      <td>Feminino</td>\n",
              "    </tr>\n",
              "  </tbody>\n",
              "</table>\n",
              "<p>2 rows × 50 columns</p>\n",
              "</div>\n",
              "      <button class=\"colab-df-convert\" onclick=\"convertToInteractive('df-a72215e9-66fc-4677-b6aa-b33544cf90c8')\"\n",
              "              title=\"Convert this dataframe to an interactive table.\"\n",
              "              style=\"display:none;\">\n",
              "        \n",
              "  <svg xmlns=\"http://www.w3.org/2000/svg\" height=\"24px\"viewBox=\"0 0 24 24\"\n",
              "       width=\"24px\">\n",
              "    <path d=\"M0 0h24v24H0V0z\" fill=\"none\"/>\n",
              "    <path d=\"M18.56 5.44l.94 2.06.94-2.06 2.06-.94-2.06-.94-.94-2.06-.94 2.06-2.06.94zm-11 1L8.5 8.5l.94-2.06 2.06-.94-2.06-.94L8.5 2.5l-.94 2.06-2.06.94zm10 10l.94 2.06.94-2.06 2.06-.94-2.06-.94-.94-2.06-.94 2.06-2.06.94z\"/><path d=\"M17.41 7.96l-1.37-1.37c-.4-.4-.92-.59-1.43-.59-.52 0-1.04.2-1.43.59L10.3 9.45l-7.72 7.72c-.78.78-.78 2.05 0 2.83L4 21.41c.39.39.9.59 1.41.59.51 0 1.02-.2 1.41-.59l7.78-7.78 2.81-2.81c.8-.78.8-2.07 0-2.86zM5.41 20L4 18.59l7.72-7.72 1.47 1.35L5.41 20z\"/>\n",
              "  </svg>\n",
              "      </button>\n",
              "      \n",
              "  <style>\n",
              "    .colab-df-container {\n",
              "      display:flex;\n",
              "      flex-wrap:wrap;\n",
              "      gap: 12px;\n",
              "    }\n",
              "\n",
              "    .colab-df-convert {\n",
              "      background-color: #E8F0FE;\n",
              "      border: none;\n",
              "      border-radius: 50%;\n",
              "      cursor: pointer;\n",
              "      display: none;\n",
              "      fill: #1967D2;\n",
              "      height: 32px;\n",
              "      padding: 0 0 0 0;\n",
              "      width: 32px;\n",
              "    }\n",
              "\n",
              "    .colab-df-convert:hover {\n",
              "      background-color: #E2EBFA;\n",
              "      box-shadow: 0px 1px 2px rgba(60, 64, 67, 0.3), 0px 1px 3px 1px rgba(60, 64, 67, 0.15);\n",
              "      fill: #174EA6;\n",
              "    }\n",
              "\n",
              "    [theme=dark] .colab-df-convert {\n",
              "      background-color: #3B4455;\n",
              "      fill: #D2E3FC;\n",
              "    }\n",
              "\n",
              "    [theme=dark] .colab-df-convert:hover {\n",
              "      background-color: #434B5C;\n",
              "      box-shadow: 0px 1px 3px 1px rgba(0, 0, 0, 0.15);\n",
              "      filter: drop-shadow(0px 1px 2px rgba(0, 0, 0, 0.3));\n",
              "      fill: #FFFFFF;\n",
              "    }\n",
              "  </style>\n",
              "\n",
              "      <script>\n",
              "        const buttonEl =\n",
              "          document.querySelector('#df-a72215e9-66fc-4677-b6aa-b33544cf90c8 button.colab-df-convert');\n",
              "        buttonEl.style.display =\n",
              "          google.colab.kernel.accessAllowed ? 'block' : 'none';\n",
              "\n",
              "        async function convertToInteractive(key) {\n",
              "          const element = document.querySelector('#df-a72215e9-66fc-4677-b6aa-b33544cf90c8');\n",
              "          const dataTable =\n",
              "            await google.colab.kernel.invokeFunction('convertToInteractive',\n",
              "                                                     [key], {});\n",
              "          if (!dataTable) return;\n",
              "\n",
              "          const docLinkHtml = 'Like what you see? Visit the ' +\n",
              "            '<a target=\"_blank\" href=https://colab.research.google.com/notebooks/data_table.ipynb>data table notebook</a>'\n",
              "            + ' to learn more about interactive tables.';\n",
              "          element.innerHTML = '';\n",
              "          dataTable['output_type'] = 'display_data';\n",
              "          await google.colab.output.renderOutput(dataTable, element);\n",
              "          const docLink = document.createElement('div');\n",
              "          docLink.innerHTML = docLinkHtml;\n",
              "          element.appendChild(docLink);\n",
              "        }\n",
              "      </script>\n",
              "    </div>\n",
              "  </div>\n",
              "  "
            ]
          },
          "metadata": {},
          "execution_count": 27
        }
      ]
    },
    {
      "cell_type": "code",
      "source": [
        "df.to_csv(INTERNACOES_NOVO)"
      ],
      "metadata": {
        "id": "THivzam_EOIj"
      },
      "execution_count": 28,
      "outputs": []
    },
    {
      "cell_type": "code",
      "source": [
        "df = pd.read_csv(INTERNACOES_NOVO)\n",
        "df.info()"
      ],
      "metadata": {
        "colab": {
          "base_uri": "https://localhost:8080/"
        },
        "id": "Bg6ICNjvESBu",
        "outputId": "599108e8-4afc-45f6-daaf-d258eb2ee9e4"
      },
      "execution_count": 29,
      "outputs": [
        {
          "output_type": "stream",
          "name": "stderr",
          "text": [
            "/usr/local/lib/python3.7/dist-packages/IPython/core/interactiveshell.py:2882: DtypeWarning: Columns (29,30) have mixed types.Specify dtype option on import or set low_memory=False.\n",
            "  exec(code_obj, self.user_global_ns, self.user_ns)\n"
          ]
        },
        {
          "output_type": "stream",
          "name": "stdout",
          "text": [
            "<class 'pandas.core.frame.DataFrame'>\n",
            "RangeIndex: 2956363 entries, 0 to 2956362\n",
            "Data columns (total 51 columns):\n",
            " #   Column      Dtype  \n",
            "---  ------      -----  \n",
            " 0   Unnamed: 0  int64  \n",
            " 1   ANO_CMPT    int64  \n",
            " 2   MES_CMPT    int64  \n",
            " 3   CGC_HOSP    float64\n",
            " 4   N_AIH       int64  \n",
            " 5   CEP         int64  \n",
            " 6   NASC        int64  \n",
            " 7   UTI_MES_TO  int64  \n",
            " 8   UTI_INT_TO  int64  \n",
            " 9   DIAR_ACOM   int64  \n",
            " 10  QT_DIARIAS  int64  \n",
            " 11  PROC_SOLIC  int64  \n",
            " 12  PROC_REA    int64  \n",
            " 13  VAL_SH      float64\n",
            " 14  VAL_SP      float64\n",
            " 15  VAL_TOT     float64\n",
            " 16  VAL_UTI     float64\n",
            " 17  DT_INTER    int64  \n",
            " 18  DT_SAIDA    int64  \n",
            " 19  DIAG_PRINC  object \n",
            " 20  NATUREZA    int64  \n",
            " 21  IND_VDRL    int64  \n",
            " 22  IDADE       int64  \n",
            " 23  DIAS_PERM   int64  \n",
            " 24  MORTE       int64  \n",
            " 25  HOMONIMO    int64  \n",
            " 26  GESTRISCO   int64  \n",
            " 27  CNES        int64  \n",
            " 28  CNPJ_MANT   float64\n",
            " 29  CID_ASSO    object \n",
            " 30  CID_MORTE   object \n",
            " 31  SEQUENCIA   int64  \n",
            " 32  REMESSA     object \n",
            " 33  MUNIC_RES   object \n",
            " 34  MUNIC_MOV   object \n",
            " 35  UF_ZI       object \n",
            " 36  CAR_INT     object \n",
            " 37  COBRANCA    object \n",
            " 38  COD_IDADE   object \n",
            " 39  COMPLEX     object \n",
            " 40  ESPEC       object \n",
            " 41  FINANC      object \n",
            " 42  GESTAO      object \n",
            " 43  IDENT       object \n",
            " 44  INSTRU      object \n",
            " 45  MARCA_UTI   object \n",
            " 46  NACIONAL    object \n",
            " 47  NAT_JUR     object \n",
            " 48  RACA_COR    object \n",
            " 49  REGCT       object \n",
            " 50  SEXO        object \n",
            "dtypes: float64(6), int64(23), object(22)\n",
            "memory usage: 1.1+ GB\n"
          ]
        }
      ]
    },
    {
      "cell_type": "code",
      "source": [
        "df = df[df.MUNIC_RES == 'Fortaleza']\n",
        "df.info()"
      ],
      "metadata": {
        "colab": {
          "base_uri": "https://localhost:8080/"
        },
        "id": "qUfDf9lxE-Fs",
        "outputId": "3869d89c-64cf-439c-e0d2-01430f5fbb7d"
      },
      "execution_count": 31,
      "outputs": [
        {
          "output_type": "stream",
          "name": "stdout",
          "text": [
            "<class 'pandas.core.frame.DataFrame'>\n",
            "Int64Index: 867020 entries, 2 to 2953258\n",
            "Data columns (total 51 columns):\n",
            " #   Column      Non-Null Count   Dtype  \n",
            "---  ------      --------------   -----  \n",
            " 0   Unnamed: 0  867020 non-null  int64  \n",
            " 1   ANO_CMPT    867020 non-null  int64  \n",
            " 2   MES_CMPT    867020 non-null  int64  \n",
            " 3   CGC_HOSP    810572 non-null  float64\n",
            " 4   N_AIH       867020 non-null  int64  \n",
            " 5   CEP         867020 non-null  int64  \n",
            " 6   NASC        867020 non-null  int64  \n",
            " 7   UTI_MES_TO  867020 non-null  int64  \n",
            " 8   UTI_INT_TO  867020 non-null  int64  \n",
            " 9   DIAR_ACOM   867020 non-null  int64  \n",
            " 10  QT_DIARIAS  867020 non-null  int64  \n",
            " 11  PROC_SOLIC  867020 non-null  int64  \n",
            " 12  PROC_REA    867020 non-null  int64  \n",
            " 13  VAL_SH      867020 non-null  float64\n",
            " 14  VAL_SP      867020 non-null  float64\n",
            " 15  VAL_TOT     867020 non-null  float64\n",
            " 16  VAL_UTI     867020 non-null  float64\n",
            " 17  DT_INTER    867020 non-null  int64  \n",
            " 18  DT_SAIDA    867020 non-null  int64  \n",
            " 19  DIAG_PRINC  867020 non-null  object \n",
            " 20  NATUREZA    867020 non-null  int64  \n",
            " 21  IND_VDRL    867020 non-null  int64  \n",
            " 22  IDADE       867020 non-null  int64  \n",
            " 23  DIAS_PERM   867020 non-null  int64  \n",
            " 24  MORTE       867020 non-null  int64  \n",
            " 25  HOMONIMO    867020 non-null  int64  \n",
            " 26  GESTRISCO   867020 non-null  int64  \n",
            " 27  CNES        867020 non-null  int64  \n",
            " 28  CNPJ_MANT   596693 non-null  float64\n",
            " 29  CID_ASSO    722090 non-null  object \n",
            " 30  CID_MORTE   726960 non-null  object \n",
            " 31  SEQUENCIA   867020 non-null  int64  \n",
            " 32  REMESSA     867020 non-null  object \n",
            " 33  MUNIC_RES   867020 non-null  object \n",
            " 34  MUNIC_MOV   867020 non-null  object \n",
            " 35  UF_ZI       817802 non-null  object \n",
            " 36  CAR_INT     867020 non-null  object \n",
            " 37  COBRANCA    867020 non-null  object \n",
            " 38  COD_IDADE   866679 non-null  object \n",
            " 39  COMPLEX     867020 non-null  object \n",
            " 40  ESPEC       867020 non-null  object \n",
            " 41  FINANC      867020 non-null  object \n",
            " 42  GESTAO      867020 non-null  object \n",
            " 43  IDENT       867020 non-null  object \n",
            " 44  INSTRU      4181 non-null    object \n",
            " 45  MARCA_UTI   867020 non-null  object \n",
            " 46  NACIONAL    867020 non-null  object \n",
            " 47  NAT_JUR     857639 non-null  object \n",
            " 48  RACA_COR    578683 non-null  object \n",
            " 49  REGCT       867020 non-null  object \n",
            " 50  SEXO        867020 non-null  object \n",
            "dtypes: float64(6), int64(23), object(22)\n",
            "memory usage: 344.0+ MB\n"
          ]
        }
      ]
    },
    {
      "cell_type": "code",
      "source": [
        "df.to_csv(INTERNACOES_FOR)"
      ],
      "metadata": {
        "id": "3iGxKFh-FWFZ"
      },
      "execution_count": 32,
      "outputs": []
    }
  ],
  "metadata": {
    "colab": {
      "name": "DCanalysus.ipynb",
      "provenance": []
    },
    "kernelspec": {
      "display_name": "Python 3",
      "name": "python3"
    },
    "language_info": {
      "name": "python"
    }
  },
  "nbformat": 4,
  "nbformat_minor": 0
}