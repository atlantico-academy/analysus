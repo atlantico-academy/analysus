{
  "nbformat": 4,
  "nbformat_minor": 0,
  "metadata": {
    "colab": {
      "name": "Relations.ipynb",
      "provenance": []
    },
    "kernelspec": {
      "name": "python3",
      "display_name": "Python 3"
    },
    "language_info": {
      "name": "python"
    }
  },
  "cells": [
    {
      "cell_type": "markdown",
      "source": [
        "## Comparações entre Gestão Estadual e Municipal\n",
        "\n",
        "| Estadual |  | Municipal |\n",
        "| --- | --- | --- |\n",
        "| Presente em 5 Unidades [ Fortaleza, Quixeramobim, Sobral, Juazeiro do Norte ] || Presente em 109 Municipios |\n",
        "| Maior Freq . Diagnosticos: Pneumonia NE e AVC || Maior Freq . Diagnosticos: Parto e Pneumonia Bacteriana |\n",
        "|Média Anual de Internações: 8.203||Média Anual de Internações: 136.300|\n",
        "|Média Anual de Mortes: 496||Média Anual de Mortes: 4.846|\n",
        "|Porcentagem de Mortes: 6.05%||Porcentagem de Mortes: 3.56% |"
      ],
      "metadata": {
        "id": "HsgHJbfavcZv"
      }
    },
    {
      "cell_type": "code",
      "execution_count": null,
      "metadata": {
        "colab": {
          "base_uri": "https://localhost:8080/"
        },
        "id": "dv8uQHuya-H1",
        "outputId": "bb5bde84-2cc6-4276-ebfb-15d36d8fc3ea"
      },
      "outputs": [
        {
          "output_type": "stream",
          "name": "stdout",
          "text": [
            "Mounted at /content/drive\n"
          ]
        }
      ],
      "source": [
        "from google.colab import drive\n",
        "drive.mount('/content/drive')"
      ]
    },
    {
      "cell_type": "code",
      "source": [
        "# coding: utf-8\n",
        "\n",
        "import pandas as pd\n",
        "\n",
        "INTERNACOES = \"/content/drive/MyDrive/Colab Notebooks/internacoes_fortaleza.csv\"\n",
        "CEP = \"/content/drive/MyDrive/Colab Notebooks/cep.csv\"\n",
        "CEP_FOR = \"/content/drive/MyDrive/Colab Notebooks/ceps_fortaleza.csv\"\n"
      ],
      "metadata": {
        "id": "eOuQRULdbNCx"
      },
      "execution_count": null,
      "outputs": []
    },
    {
      "cell_type": "code",
      "source": [
        "df = pd.read_csv(INTERNACOES)"
      ],
      "metadata": {
        "colab": {
          "base_uri": "https://localhost:8080/"
        },
        "id": "UDgfyPRHbQog",
        "outputId": "c6fe6624-6e36-4a44-cf7f-b6cfa181b46d"
      },
      "execution_count": null,
      "outputs": [
        {
          "output_type": "stream",
          "name": "stderr",
          "text": [
            "/usr/local/lib/python3.7/dist-packages/IPython/core/interactiveshell.py:2882: DtypeWarning: Columns (32,33) have mixed types.Specify dtype option on import or set low_memory=False.\n",
            "  exec(code_obj, self.user_global_ns, self.user_ns)\n"
          ]
        }
      ]
    },
    {
      "cell_type": "code",
      "source": [
        "df[(df.GESTAO == ' Municipal planea assist')].DIAG_PRINC.value_counts().head()"
      ],
      "metadata": {
        "colab": {
          "base_uri": "https://localhost:8080/"
        },
        "id": "cnEms8A-qw7K",
        "outputId": "e5fb2548-31e8-4cb8-afbb-3c6ac2c6c8c0"
      },
      "execution_count": null,
      "outputs": [
        {
          "output_type": "execute_result",
          "data": {
            "text/plain": [
              "O80.0 Parto espontaneo cefalico    54316\n",
              "J15.8 Outr pneumonias bacter       22279\n",
              "F29   Psicose nao-organica NE      16901\n",
              "O82.0 Parto p/cesariana eletiva    16340\n",
              "I50.0 Insuf cardiaca congestiva    13610\n",
              "Name: DIAG_PRINC, dtype: int64"
            ]
          },
          "metadata": {},
          "execution_count": 4
        }
      ]
    },
    {
      "cell_type": "code",
      "source": [
        "MediaGestaoMunicipal = int(df[(df.GESTAO == ' Municipal planea assist')].groupby(['ANO_CMPT']).N_AIH.count().mean())\n",
        "print('Quantidade Média de Internações na Gestão Municipal: ' + str(MediaGestaoMunicipal) + '\\n')\n",
        "\n",
        "MediaMorteMunicipal = int(df[(df.MORTE == 1) & (df.GESTAO == ' Municipal planea assist')].groupby(['ANO_CMPT']).MORTE.count().mean())\n",
        "print('Quantidade Média de Mortes na Gestão Municipal: ' + str(MediaMorteMunicipal) + '\\n')\n",
        "\n",
        "PorcMorteMediaPorInternacoes = (MediaMorteMunicipal * 100 / MediaGestaoMunicipal)\n",
        "print(\"Porcentagem de Mortes na Gestão Municipal: {:.2f} % \\n\".format(PorcMorteMediaPorInternacoes))"
      ],
      "metadata": {
        "colab": {
          "base_uri": "https://localhost:8080/"
        },
        "id": "A71-SM7mo4Wv",
        "outputId": "5cab1910-b390-44f6-8830-b2963c939e4b"
      },
      "execution_count": null,
      "outputs": [
        {
          "output_type": "stream",
          "name": "stdout",
          "text": [
            "Quantidade Média de Internações na Gestão Municipal: 136300\n",
            "\n",
            "Quantidade Média de Mortes na Gestão Municipal: 4846\n",
            "\n",
            "Porcentagem de Mortes na Gestão Municipal: 3.56 % \n",
            "\n"
          ]
        }
      ]
    },
    {
      "cell_type": "code",
      "source": [
        "df[(df.GESTAO == ' Municipal planea assist')].CID_MORTE.value_counts().head()"
      ],
      "metadata": {
        "colab": {
          "base_uri": "https://localhost:8080/"
        },
        "id": "j6pZBwQdu5Ne",
        "outputId": "9ccd08a3-29b1-4c98-c9af-c82982adebac"
      },
      "execution_count": null,
      "outputs": [
        {
          "output_type": "execute_result",
          "data": {
            "text/plain": [
              "I46.9 Parada cardiaca NE          1164\n",
              "J96.0 Insuf respirat aguda         850\n",
              "A31.9 Infecc micobacteriana NE     352\n",
              "R57.0 Choque cardiogenico          222\n",
              "A41.9 Septicemia NE                220\n",
              "Name: CID_MORTE, dtype: int64"
            ]
          },
          "metadata": {},
          "execution_count": 6
        }
      ]
    },
    {
      "cell_type": "code",
      "source": [
        "df[(df.GESTAO == ' Estadual plena')].MUNIC_MOV.value_counts()"
      ],
      "metadata": {
        "colab": {
          "base_uri": "https://localhost:8080/"
        },
        "id": "mgE6YHt9rYVy",
        "outputId": "c2a3a076-e222-4a04-ff64-002c5da783f3"
      },
      "execution_count": null,
      "outputs": [
        {
          "output_type": "execute_result",
          "data": {
            "text/plain": [
              "Fortaleza            48723\n",
              "Quixeramobim           354\n",
              "Sobral                 110\n",
              "Juazeiro do Norte       31\n",
              "Name: MUNIC_MOV, dtype: int64"
            ]
          },
          "metadata": {},
          "execution_count": 7
        }
      ]
    },
    {
      "cell_type": "code",
      "source": [
        "df[(df.GESTAO == ' Estadual plena')].DIAG_PRINC.value_counts().head()"
      ],
      "metadata": {
        "colab": {
          "base_uri": "https://localhost:8080/"
        },
        "id": "Gswe3zbKt7uT",
        "outputId": "8c780a0f-50ea-4ecb-a8a4-a176a12a2253"
      },
      "execution_count": null,
      "outputs": [
        {
          "output_type": "execute_result",
          "data": {
            "text/plain": [
              "J18.9 Pneumonia NE                                    5967\n",
              "I64   Acid vasc cerebr NE como hemorrag isquemico     4418\n",
              "G32.8 Outr transt degener espec sist nerv doen COP    3995\n",
              "A41.9 Septicemia NE                                   2130\n",
              "G04.9 Encefalite mielite e encefalomielite NE         2090\n",
              "Name: DIAG_PRINC, dtype: int64"
            ]
          },
          "metadata": {},
          "execution_count": 8
        }
      ]
    },
    {
      "cell_type": "code",
      "source": [
        "MediaGestaoEstadual = int(df[(df.GESTAO == ' Estadual plena')].groupby(['ANO_CMPT']).N_AIH.count().mean())\n",
        "print('Quantidade Média de Internações na Gestão Estadual: ' + str(MediaGestaoEstadual) + '\\n')\n",
        "\n",
        "MediaMorteEstadual = int(df[(df.MORTE == 1) & (df.GESTAO == ' Estadual plena')].groupby(['ANO_CMPT']).MORTE.count().mean())\n",
        "print('Quantidade Média de Mortes na Gestão Estadual: ' + str(MediaMorteEstadual) + '\\n')\n",
        "\n",
        "PorcMorteMediaPorInternacoes = (MediaMorteEstadual * 100 / MediaGestaoEstadual)\n",
        "print(\"Porcentagem de Mortes na Gestão Estadual: {:.2f} % \\n\".format(PorcMorteMediaPorInternacoes))"
      ],
      "metadata": {
        "colab": {
          "base_uri": "https://localhost:8080/"
        },
        "id": "__IKsCCzlTk4",
        "outputId": "7067cc72-df62-4cd5-aedb-fe2b0bf082e9"
      },
      "execution_count": null,
      "outputs": [
        {
          "output_type": "stream",
          "name": "stdout",
          "text": [
            "Quantidade Média de Internações na Gestão Estadual: 8203\n",
            "\n",
            "Quantidade Média de Mortes na Gestão Estadual: 496\n",
            "\n",
            "Porcentagem de Mortes na Gestão Estadual: 6.05 % \n",
            "\n"
          ]
        }
      ]
    },
    {
      "cell_type": "code",
      "source": [
        "df[(df.GESTAO == ' Estadual plena')].CID_MORTE.value_counts().head()\n"
      ],
      "metadata": {
        "colab": {
          "base_uri": "https://localhost:8080/"
        },
        "id": "2yeYMpJjmI5y",
        "outputId": "a1b4a492-a7cd-4975-f328-bf83ea1aedc0"
      },
      "execution_count": null,
      "outputs": [
        {
          "output_type": "execute_result",
          "data": {
            "text/plain": [
              "I46.9 Parada cardiaca NE                             288\n",
              "A41.9 Septicemia NE                                   42\n",
              "J18.9 Pneumonia NE                                    20\n",
              "I64   Acid vasc cerebr NE como hemorrag isquemico     11\n",
              "J96.0 Insuf respirat aguda                            10\n",
              "Name: CID_MORTE, dtype: int64"
            ]
          },
          "metadata": {},
          "execution_count": 10
        }
      ]
    }
  ]
}