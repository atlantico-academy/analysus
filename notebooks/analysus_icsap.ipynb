{
 "cells": [
  {
   "cell_type": "markdown",
   "metadata": {},
   "source": [
    "## ICSAP\n",
    "\n",
    "**Internações por Condições Sensíveis à Atenção Primária** (ICSAP)\n",
    "\n",
    "É um indicador de avaliação de saúde baseado em um conjunto de enfermidades que, se tratadas de forma eficaz na Atenção Primária e em tempo oportuno, reduzem o risco de internações hospitalares.\n",
    "\n",
    "A utilização deste indicador permite que os gestores consigam melhorar o planejamento e a gestão dos serviços de saúde, já que possibilita avaliar o desempenho da Atenção Primária."
   ]
  },
  {
   "cell_type": "code",
   "execution_count": 1,
   "metadata": {},
   "outputs": [],
   "source": [
    "# coding: utf-8\n",
    "\n",
    "\"\"\"\n",
    "Mapeamento de Arquivos\n",
    "\"\"\"\n",
    "\n",
    "DF_ICSAP = '../data/raw/df_icsap.csv'\n",
    "MU_IBGE = '../data/raw/mun_ibge.csv'\n"
   ]
  },
  {
   "cell_type": "markdown",
   "metadata": {},
   "source": [
    " | name | description | obs |  \n",
    " | --- | --- | --- | \n",
    " | n.aih | Número da AIH |  | \n",
    " | munres | Municipio de residencia (Código IBGE) |  | \n",
    " | munint | Município de internaçao (Cod IBGE) |  | \n",
    " | sexo | sexo do paciente | fem: 287.473 ~ masc: 270.435 | \n",
    " | nasc | Data de nascimento |  | \n",
    " | idade | Idade em anos | 120 valores distintos | \n",
    " | fxetar.det | Faixa etária detalhada | Intervalo de <1ano até 80+ | \n",
    " | fxetar5 | Faixa etária com 5 categorias | 17 valores distintos (intervalo de 0-4 até 80+) | \n",
    " | csap | Condicao sensivel a atencao primaria (sim ou nao) | Todos as linhas são iguais ( sim ) | \n",
    " | grupo | Grupo do CID (Diagnóstico) | 19 valores distintos (g01 a g19) | \n",
    " | cid | CID-10 - Diagnóstico | 513 valores distintos | \n",
    " | proc.rea | Procedimento realizado - Tabela SIGTAP |  | \n",
    " | data.inter | Data da internação |  | \n",
    " | data.saida | Data de saída/alta |  | \n",
    " | cep | Cep de residencia |  | \n",
    " | cnes | Codigo do estabelecimento de saude | 229 valores distintos | \n",
    " | qnt | Quantidade | Todos as linhas são iguais ( 1 ) | \n",
    "\n",
    "\n",
    " - Quantidade de Linhas: 557.908\n",
    " - Não existem valores faltantes"
   ]
  },
  {
   "cell_type": "code",
   "execution_count": 2,
   "metadata": {},
   "outputs": [
    {
     "data": {
      "text/html": [
       "<div>\n",
       "<style scoped>\n",
       "    .dataframe tbody tr th:only-of-type {\n",
       "        vertical-align: middle;\n",
       "    }\n",
       "\n",
       "    .dataframe tbody tr th {\n",
       "        vertical-align: top;\n",
       "    }\n",
       "\n",
       "    .dataframe thead th {\n",
       "        text-align: right;\n",
       "    }\n",
       "</style>\n",
       "<table border=\"1\" class=\"dataframe\">\n",
       "  <thead>\n",
       "    <tr style=\"text-align: right;\">\n",
       "      <th></th>\n",
       "      <th>n.aih</th>\n",
       "      <th>munres</th>\n",
       "      <th>munint</th>\n",
       "      <th>sexo</th>\n",
       "      <th>nasc</th>\n",
       "      <th>idade</th>\n",
       "      <th>fxetar.det</th>\n",
       "      <th>fxetar5</th>\n",
       "      <th>csap</th>\n",
       "      <th>grupo</th>\n",
       "      <th>cid</th>\n",
       "      <th>proc.rea</th>\n",
       "      <th>data.inter</th>\n",
       "      <th>data.saida</th>\n",
       "      <th>cep</th>\n",
       "      <th>cnes</th>\n",
       "      <th>qnt</th>\n",
       "    </tr>\n",
       "  </thead>\n",
       "  <tbody>\n",
       "    <tr>\n",
       "      <th>0</th>\n",
       "      <td>2314100004865</td>\n",
       "      <td>230440</td>\n",
       "      <td>230440</td>\n",
       "      <td>fem</td>\n",
       "      <td>2013-05-19</td>\n",
       "      <td>0</td>\n",
       "      <td>&lt;1ano</td>\n",
       "      <td>0-4</td>\n",
       "      <td>sim</td>\n",
       "      <td>g01</td>\n",
       "      <td>B058</td>\n",
       "      <td>303010134</td>\n",
       "      <td>2014-01-14</td>\n",
       "      <td>2014-01-24</td>\n",
       "      <td>60870576</td>\n",
       "      <td>2785900</td>\n",
       "      <td>1</td>\n",
       "    </tr>\n",
       "    <tr>\n",
       "      <th>1</th>\n",
       "      <td>2314100004580</td>\n",
       "      <td>230440</td>\n",
       "      <td>230440</td>\n",
       "      <td>masc</td>\n",
       "      <td>2013-10-26</td>\n",
       "      <td>0</td>\n",
       "      <td>&lt;1ano</td>\n",
       "      <td>0-4</td>\n",
       "      <td>sim</td>\n",
       "      <td>g01</td>\n",
       "      <td>A379</td>\n",
       "      <td>303010037</td>\n",
       "      <td>2014-01-16</td>\n",
       "      <td>2014-01-25</td>\n",
       "      <td>60870576</td>\n",
       "      <td>2785900</td>\n",
       "      <td>1</td>\n",
       "    </tr>\n",
       "  </tbody>\n",
       "</table>\n",
       "</div>"
      ],
      "text/plain": [
       "           n.aih  munres  munint  sexo        nasc  idade fxetar.det fxetar5  \\\n",
       "0  2314100004865  230440  230440   fem  2013-05-19      0      <1ano     0-4   \n",
       "1  2314100004580  230440  230440  masc  2013-10-26      0      <1ano     0-4   \n",
       "\n",
       "  csap grupo   cid   proc.rea  data.inter  data.saida       cep     cnes  qnt  \n",
       "0  sim   g01  B058  303010134  2014-01-14  2014-01-24  60870576  2785900    1  \n",
       "1  sim   g01  A379  303010037  2014-01-16  2014-01-25  60870576  2785900    1  "
      ]
     },
     "execution_count": 2,
     "metadata": {},
     "output_type": "execute_result"
    }
   ],
   "source": [
    "import pandas as pd\n",
    "\n",
    "df = pd.read_csv(DF_ICSAP)\n",
    "\n",
    "df.head(2)"
   ]
  },
  {
   "cell_type": "code",
   "execution_count": 3,
   "metadata": {},
   "outputs": [
    {
     "data": {
      "image/png": "[encoded data removed]",
      "text/plain": [
       "<Figure size 432x288 with 1 Axes>"
      ]
     },
     "metadata": {
      "needs_background": "light"
     },
     "output_type": "display_data"
    }
   ],
   "source": [
    "from matplotlib import pyplot as plt\n",
    "\n",
    "plt.hist(df.idade)\n",
    "plt.show()"
   ]
  },
  {
   "cell_type": "code",
   "execution_count": 24,
   "metadata": {},
   "outputs": [
    {
     "data": {
      "text/html": [
       "<div>\n",
       "<style scoped>\n",
       "    .dataframe tbody tr th:only-of-type {\n",
       "        vertical-align: middle;\n",
       "    }\n",
       "\n",
       "    .dataframe tbody tr th {\n",
       "        vertical-align: top;\n",
       "    }\n",
       "\n",
       "    .dataframe thead th {\n",
       "        text-align: right;\n",
       "    }\n",
       "</style>\n",
       "<table border=\"1\" class=\"dataframe\">\n",
       "  <thead>\n",
       "    <tr style=\"text-align: right;\">\n",
       "      <th></th>\n",
       "      <th>nomemu</th>\n",
       "    </tr>\n",
       "    <tr>\n",
       "      <th>codmu</th>\n",
       "      <th></th>\n",
       "    </tr>\n",
       "  </thead>\n",
       "  <tbody>\n",
       "    <tr>\n",
       "      <th>110001</th>\n",
       "      <td>Alta Floresta D'Oeste</td>\n",
       "    </tr>\n",
       "    <tr>\n",
       "      <th>110002</th>\n",
       "      <td>Ariquemes</td>\n",
       "    </tr>\n",
       "  </tbody>\n",
       "</table>\n",
       "</div>"
      ],
      "text/plain": [
       "                       nomemu\n",
       "codmu                        \n",
       "110001  Alta Floresta D'Oeste\n",
       "110002              Ariquemes"
      ]
     },
     "execution_count": 24,
     "metadata": {},
     "output_type": "execute_result"
    }
   ],
   "source": [
    "ibge = pd.read_csv(MU_IBGE, sep=';', usecols=['codmu', 'nomemu'], index_col='codmu')\n",
    "ibge.head(2)"
   ]
  },
  {
   "cell_type": "code",
   "execution_count": 29,
   "metadata": {},
   "outputs": [],
   "source": [
    "def locIBGE(x):\n",
    "    print(x)\n",
    "    if(x):\n",
    "        if(x in ibge.index.values):\n",
    "            print(ibge.loc[x])\n",
    "            return ibge.loc[x]\n",
    "        else:\n",
    "            x\n",
    "            \n",
    "df.munres.apply(locIBGE)"
   ]
  },
  {
   "cell_type": "code",
   "execution_count": 12,
   "metadata": {},
   "outputs": [
    {
     "data": {
      "text/html": [
       "<div>\n",
       "<style scoped>\n",
       "    .dataframe tbody tr th:only-of-type {\n",
       "        vertical-align: middle;\n",
       "    }\n",
       "\n",
       "    .dataframe tbody tr th {\n",
       "        vertical-align: top;\n",
       "    }\n",
       "\n",
       "    .dataframe thead th {\n",
       "        text-align: right;\n",
       "    }\n",
       "</style>\n",
       "<table border=\"1\" class=\"dataframe\">\n",
       "  <thead>\n",
       "    <tr style=\"text-align: right;\">\n",
       "      <th></th>\n",
       "      <th>n.aih</th>\n",
       "      <th>sexo</th>\n",
       "      <th>nasc</th>\n",
       "      <th>idade</th>\n",
       "      <th>fxetar.det</th>\n",
       "      <th>fxetar5</th>\n",
       "      <th>csap</th>\n",
       "      <th>grupo</th>\n",
       "      <th>cid</th>\n",
       "      <th>proc.rea</th>\n",
       "      <th>data.inter</th>\n",
       "      <th>data.saida</th>\n",
       "      <th>cep</th>\n",
       "      <th>cnes</th>\n",
       "      <th>qnt</th>\n",
       "      <th>municipio_res</th>\n",
       "      <th>municipio_int</th>\n",
       "    </tr>\n",
       "  </thead>\n",
       "  <tbody>\n",
       "    <tr>\n",
       "      <th>0</th>\n",
       "      <td>2314100004865</td>\n",
       "      <td>fem</td>\n",
       "      <td>2013-05-19</td>\n",
       "      <td>0</td>\n",
       "      <td>&lt;1ano</td>\n",
       "      <td>0-4</td>\n",
       "      <td>sim</td>\n",
       "      <td>g01</td>\n",
       "      <td>B058</td>\n",
       "      <td>303010134</td>\n",
       "      <td>2014-01-14</td>\n",
       "      <td>2014-01-24</td>\n",
       "      <td>60870576</td>\n",
       "      <td>2785900</td>\n",
       "      <td>1</td>\n",
       "      <td>Fortaleza</td>\n",
       "      <td>Fortaleza</td>\n",
       "    </tr>\n",
       "    <tr>\n",
       "      <th>1</th>\n",
       "      <td>2314100004580</td>\n",
       "      <td>masc</td>\n",
       "      <td>2013-10-26</td>\n",
       "      <td>0</td>\n",
       "      <td>&lt;1ano</td>\n",
       "      <td>0-4</td>\n",
       "      <td>sim</td>\n",
       "      <td>g01</td>\n",
       "      <td>A379</td>\n",
       "      <td>303010037</td>\n",
       "      <td>2014-01-16</td>\n",
       "      <td>2014-01-25</td>\n",
       "      <td>60870576</td>\n",
       "      <td>2785900</td>\n",
       "      <td>1</td>\n",
       "      <td>Fortaleza</td>\n",
       "      <td>Fortaleza</td>\n",
       "    </tr>\n",
       "  </tbody>\n",
       "</table>\n",
       "</div>"
      ],
      "text/plain": [
       "           n.aih  sexo        nasc  idade fxetar.det fxetar5 csap grupo   cid  \\\n",
       "0  2314100004865   fem  2013-05-19      0      <1ano     0-4  sim   g01  B058   \n",
       "1  2314100004580  masc  2013-10-26      0      <1ano     0-4  sim   g01  A379   \n",
       "\n",
       "    proc.rea  data.inter  data.saida       cep     cnes  qnt municipio_res  \\\n",
       "0  303010134  2014-01-14  2014-01-24  60870576  2785900    1     Fortaleza   \n",
       "1  303010037  2014-01-16  2014-01-25  60870576  2785900    1     Fortaleza   \n",
       "\n",
       "  municipio_int  \n",
       "0     Fortaleza  \n",
       "1     Fortaleza  "
      ]
     },
     "execution_count": 12,
     "metadata": {},
     "output_type": "execute_result"
    }
   ],
   "source": [
    "\n",
    "df = pd.merge(df, ibge, left_on='munres', right_on='codmu', how='left')\n",
    "df.rename(columns={'nomemu':'municipio_res'}, inplace=True)\n",
    "del df['codmu']\n",
    "del df['munres']\n",
    "\n",
    "df = pd.merge(df, ibge, left_on='munint', right_on='codmu', how='left')\n",
    "df.rename(columns={'nomemu':'municipio_int'}, inplace=True)\n",
    "del df['codmu']\n",
    "del df['munint']\n",
    "\n",
    "df.head(2)"
   ]
  },
  {
   "cell_type": "code",
   "execution_count": 13,
   "metadata": {},
   "outputs": [
    {
     "data": {
      "text/plain": [
       "Fortaleza                166750\n",
       "Caucaia                   17348\n",
       "Russas                    15172\n",
       "Brejo Santo               13198\n",
       "Juazeiro do Norte         12016\n",
       "                          ...  \n",
       "Novo Hamburgo                 1\n",
       "Oeiras do Par�                1\n",
       "�gua Doce do Maranh�o         1\n",
       "Paulino Neves                 1\n",
       "S�o Miguel do Guam�           1\n",
       "Name: municipio_res, Length: 710, dtype: int64"
      ]
     },
     "execution_count": 13,
     "metadata": {},
     "output_type": "execute_result"
    }
   ],
   "source": [
    "df.municipio_res.value_counts()\n"
   ]
  }
 ],
 "metadata": {
  "interpreter": {
   "hash": "9650cb4e16cdd4a8e8e2d128bf38d875813998db22a3c986335f89e0cb4d7bb2"
  },
  "kernelspec": {
   "display_name": "Python 3.8.5 64-bit",
   "language": "python",
   "name": "python3"
  },
  "language_info": {
   "codemirror_mode": {
    "name": "ipython",
    "version": 3
   },
   "file_extension": ".py",
   "mimetype": "text/x-python",
   "name": "python",
   "nbconvert_exporter": "python",
   "pygments_lexer": "ipython3",
   "version": "3.8.5"
  },
  "orig_nbformat": 4
 },
 "nbformat": 4,
 "nbformat_minor": 2
}
