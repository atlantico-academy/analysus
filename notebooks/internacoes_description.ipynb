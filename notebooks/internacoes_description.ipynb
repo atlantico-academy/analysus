{
 "cells": [
  {
   "cell_type": "code",
   "execution_count": 1,
   "metadata": {},
   "outputs": [],
   "source": [
    "# coding: utf-8\n",
    "\n",
    "\"\"\"\n",
    "Mapeamento de Arquivos\n",
    "\"\"\"\n",
    "\n",
    "INTERNACOES = '../data/raw/internacoes.csv'\n"
   ]
  },
  {
   "cell_type": "markdown",
   "metadata": {},
   "source": [
    " | NOME DO CAMPO | Descrição | Observações |\n",
    " | --- | --- | --- |\n",
    " | UF_ZI | Município Gestor. | 168 valores distintos\n",
    " | ANO_CMPT | Ano de processamento da AIH, no formato aaaa. | [2014 - 2019]\n",
    " | MES_CMPT | Mês de processamento da AIH, no formato mm. | [1 - 12]\n",
    " | ESPEC | Especialidade do Leito | 13 valores distintos\n",
    " | CGC_HOSP | CNPJ do Estabelecimento. | 720.735 valores NaN e 124 valores distintos\n",
    " | N_AIH | Número da AIH. | \n",
    " | IDENT | Identificação do tipo da AIH. | 2 valores distintos [1, 5]\n",
    " | CEP | CEP do paciente. | \n",
    " | MUNIC_RES | Município de Residência do Paciente | 1.633 valores distintos\n",
    " | NASC | Data de nascimento do paciente (aaaammdd). | \n",
    " | SEXO | Sexo do paciente. | 2 valores distintos [1, 3]\n",
    " | UTI_MES_TO | Quantidade de dias de UTI no mês. | 142 valores distintos e 2.824.357 valores zerados\n",
    " | MARCA_UTI | Indica qual o tipo de UTI utilizada pelo paciente. | 10 valores distintos\n",
    " | UTI_INT_TO | Quantidade de diárias em unidade intermediaria. | 2.912.201 valores zerados e 101 valores distintos\n",
    " | DIAR_ACOM | Quantidade de diárias de acompanhante. | 141 valores distintos\n",
    " | QT_DIARIAS | Quantidade de diárias. | \n",
    " | PROC_SOLIC | Procedimento solicitado. | 1.624 valores distintos\n",
    " | PROC_REA | Procedimento realizado. | 1.597 valores distintos\n",
    " | VAL_SH |  Valor de serviços hospitalares. | \n",
    " | VAL_SP |  Valor de serviços profissionais. | \n",
    " | VAL_TOT |  Valor total da AIH. | \n",
    " | VAL_UTI |  Valor de UTI. | \n",
    " | DT_INTER | Data de internação no formato aaammdd. | \n",
    " | DT_SAIDA | Data de saída, no formato aaaammdd. | \n",
    " | DIAG_PRINC | Código do diagnóstico principal (CID10). | Diversos valores distintos\n",
    " | COBRANCA | Motivo de Saída/Permanência | Diversos valores distintos\n",
    " | NATUREZA | Natureza jurídica do hospital (com conteúdo até maio/12). Era utilizada a classificação de Regime e Natureza. | 7 valores distintos\n",
    " | NAT_JUR | Natureza jurídica do Estabelecimento, conforme a Comissão Nacional de Classificação - CONCLA | 14 valores distintos\n",
    " | GESTAO | Indica o tipo de gestão do hospital. | 2 valores distintos [1, 2]\n",
    " | IND_VDRL | Indica exame VDRL. | 2 valores distintos [0, 1]\n",
    " | MUNIC_MOV | Município do Estabelecimento. | 167 valores distintos\n",
    " | COD_IDADE | Unidade de medida da idade. | 4 valores distintos [2, 3, 4, 5]\n",
    " | IDADE | Idade. | 100 valores distintos\n",
    " | DIAS_PERM | Dias de Permanência. | 223 valores distintos\n",
    " | MORTE | Indica Óbito | 2 valores distintos [0, 1]\n",
    " | NACIONAL | Código da nacionalidade do paciente. | 106 valores distintos com um em destaque\n",
    " | CAR_INT | Caráter da internação. | 4 valores distintos [1, 2, 5, 6]\n",
    " | HOMONIMO | Indicador se o paciente da AIH é homônimo do paciente de outra AIH. | 2 valores distintos [0, 2]\n",
    " | INSTRU | Grau de instrução do paciente. | 5 valores distintos [0 - 4]\n",
    " | GESTRISCO | Indicador se é gestante de risco. | 2 valores distintos [0, 1]\n",
    " | CNES | Código CNES do hospital. | 253 valores distintos\n",
    " | CNPJ_MANT | CNPJ da mantenedora. | 160 valores distintos e 984.932 valores NaN\n",
    " | CID_ASSO | CID causa. | 219 valores distintos e 483.917 valores NaN\n",
    " | CID_MORTE | CID da morte. | 1.035 valores distintos\n",
    " | COMPLEX | Complexidade. | 2 valores distintos [2, 3]\n",
    " | FINANC | Tipo de financiamento. | 2 valores distintos [4, 6]\n",
    " | REGCT | Regra contratual. | 5 valores distintos\n",
    " | RACA_COR | Raça/Cor do paciente. | 6 valores distintos [1, 2, 3, 4, 5, 99]\n",
    " | SEQUENCIA | Sequencial da AIH na remessa. | 25.119 valores distintos\n",
    " | REMESSA | Número da remessa. | 11.308 valores distintos\n",
    " | IDADE_REAL | Idade em Anos dos pacientes\n",
    "\n",
    " - A base possui 2.956.343 registros\n",
    " - 51 Colunas"
   ]
  },
  {
   "cell_type": "code",
   "execution_count": 2,
   "metadata": {},
   "outputs": [
    {
     "name": "stderr",
     "output_type": "stream",
     "text": [
      "c:\\Python38\\lib\\site-packages\\IPython\\core\\interactiveshell.py:3169: DtypeWarning: Columns (29,30) have mixed types.Specify dtype option on import or set low_memory=False.\n",
      "  has_raised = await self.run_ast_nodes(code_ast.body, cell_name,\n"
     ]
    },
    {
     "data": {
      "text/html": [
       "<div>\n",
       "<style scoped>\n",
       "    .dataframe tbody tr th:only-of-type {\n",
       "        vertical-align: middle;\n",
       "    }\n",
       "\n",
       "    .dataframe tbody tr th {\n",
       "        vertical-align: top;\n",
       "    }\n",
       "\n",
       "    .dataframe thead th {\n",
       "        text-align: right;\n",
       "    }\n",
       "</style>\n",
       "<table border=\"1\" class=\"dataframe\">\n",
       "  <thead>\n",
       "    <tr style=\"text-align: right;\">\n",
       "      <th></th>\n",
       "      <th>Unnamed: 0</th>\n",
       "      <th>ANO_CMPT</th>\n",
       "      <th>MES_CMPT</th>\n",
       "      <th>CGC_HOSP</th>\n",
       "      <th>N_AIH</th>\n",
       "      <th>CEP</th>\n",
       "      <th>NASC</th>\n",
       "      <th>UTI_MES_TO</th>\n",
       "      <th>UTI_INT_TO</th>\n",
       "      <th>DIAR_ACOM</th>\n",
       "      <th>...</th>\n",
       "      <th>GESTAO</th>\n",
       "      <th>IDENT</th>\n",
       "      <th>INSTRU</th>\n",
       "      <th>MARCA_UTI</th>\n",
       "      <th>NACIONAL</th>\n",
       "      <th>NAT_JUR</th>\n",
       "      <th>RACA_COR</th>\n",
       "      <th>REGCT</th>\n",
       "      <th>SEXO</th>\n",
       "      <th>IDADE_REAL</th>\n",
       "    </tr>\n",
       "  </thead>\n",
       "  <tbody>\n",
       "    <tr>\n",
       "      <th>0</th>\n",
       "      <td>0</td>\n",
       "      <td>2014</td>\n",
       "      <td>1</td>\n",
       "      <td>5.268526e+12</td>\n",
       "      <td>2314100004788</td>\n",
       "      <td>62900000</td>\n",
       "      <td>20140117</td>\n",
       "      <td>2</td>\n",
       "      <td>0</td>\n",
       "      <td>0</td>\n",
       "      <td>...</td>\n",
       "      <td>Estadual plena</td>\n",
       "      <td>Principal</td>\n",
       "      <td>NaN</td>\n",
       "      <td>UTI neonatal - tipo II</td>\n",
       "      <td>Brasil</td>\n",
       "      <td>Associação Privada</td>\n",
       "      <td>NaN</td>\n",
       "      <td>Sem regra contratual</td>\n",
       "      <td>Feminino</td>\n",
       "      <td>0</td>\n",
       "    </tr>\n",
       "    <tr>\n",
       "      <th>1</th>\n",
       "      <td>1</td>\n",
       "      <td>2014</td>\n",
       "      <td>1</td>\n",
       "      <td>5.268526e+12</td>\n",
       "      <td>2314100004854</td>\n",
       "      <td>62755000</td>\n",
       "      <td>20110912</td>\n",
       "      <td>0</td>\n",
       "      <td>0</td>\n",
       "      <td>0</td>\n",
       "      <td>...</td>\n",
       "      <td>Estadual plena</td>\n",
       "      <td>Principal</td>\n",
       "      <td>NaN</td>\n",
       "      <td>Não utilizou UTI</td>\n",
       "      <td>Brasil</td>\n",
       "      <td>Associação Privada</td>\n",
       "      <td>NaN</td>\n",
       "      <td>Sem regra contratual</td>\n",
       "      <td>Feminino</td>\n",
       "      <td>2</td>\n",
       "    </tr>\n",
       "  </tbody>\n",
       "</table>\n",
       "<p>2 rows × 52 columns</p>\n",
       "</div>"
      ],
      "text/plain": [
       "   Unnamed: 0  ANO_CMPT  MES_CMPT      CGC_HOSP          N_AIH       CEP  \\\n",
       "0           0      2014         1  5.268526e+12  2314100004788  62900000   \n",
       "1           1      2014         1  5.268526e+12  2314100004854  62755000   \n",
       "\n",
       "       NASC  UTI_MES_TO  UTI_INT_TO  DIAR_ACOM  ...           GESTAO  \\\n",
       "0  20140117           2           0          0  ...   Estadual plena   \n",
       "1  20110912           0           0          0  ...   Estadual plena   \n",
       "\n",
       "        IDENT  INSTRU                MARCA_UTI  NACIONAL              NAT_JUR  \\\n",
       "0   Principal     NaN   UTI neonatal - tipo II    Brasil   Associação Privada   \n",
       "1   Principal     NaN         Não utilizou UTI    Brasil   Associação Privada   \n",
       "\n",
       "   RACA_COR                  REGCT       SEXO IDADE_REAL  \n",
       "0       NaN   Sem regra contratual   Feminino          0  \n",
       "1       NaN   Sem regra contratual   Feminino          2  \n",
       "\n",
       "[2 rows x 52 columns]"
      ]
     },
     "execution_count": 2,
     "metadata": {},
     "output_type": "execute_result"
    }
   ],
   "source": [
    "import pandas as pd\n",
    "\n",
    "df = pd.read_csv(INTERNACOES)\n",
    "df.head(2)"
   ]
  },
  {
   "cell_type": "code",
   "execution_count": 7,
   "metadata": {},
   "outputs": [
    {
     "data": {
      "image/png": "[encoded data removed]",
      "text/plain": [
       "<Figure size 432x288 with 1 Axes>"
      ]
     },
     "metadata": {
      "needs_background": "light"
     },
     "output_type": "display_data"
    }
   ],
   "source": [
    "import numpy as np\n",
    "from matplotlib import pyplot as plt\n",
    "\n",
    "a = df[(df.SEXO == ' Masculino')].IDADE_REAL\n",
    "b = df[(df.SEXO == ' Feminino')].IDADE_REAL\n",
    "\n",
    "plt.hist(a, alpha=0.5, label='Masculino', bins=100)\n",
    "plt.hist(b, alpha=0.5, label='Feminino', bins=100)\n",
    "plt.legend(loc='upper left')\n",
    "plt.show()"
   ]
  }
 ],
 "metadata": {
  "interpreter": {
   "hash": "9650cb4e16cdd4a8e8e2d128bf38d875813998db22a3c986335f89e0cb4d7bb2"
  },
  "kernelspec": {
   "display_name": "Python 3 (ipykernel)",
   "language": "python",
   "name": "python3"
  },
  "language_info": {
   "codemirror_mode": {
    "name": "ipython",
    "version": 3
   },
   "file_extension": ".py",
   "mimetype": "text/x-python",
   "name": "python",
   "nbconvert_exporter": "python",
   "pygments_lexer": "ipython3",
   "version": "3.8.5"
  }
 },
 "nbformat": 4,
 "nbformat_minor": 4
}
