{
  "cells": [
    {
      "cell_type": "markdown",
      "metadata": {
        "id": "_nKc0eqtecih"
      },
      "source": [
        "# Pipeline AnalySUS\n",
        "\n",
        "Criação de um modelo para predisão de internações dos dois meses subsequentes aos dados informados.\n",
        "\n",
        "O modelo ExtraTreesRegressor obteve +90% de aproveitamento na métrica R2_Score.\n",
        "\n",
        "O algoritmo de machine learning ExtraTrees (Extremely Randomized Trees) cria muitas árvores de decisão de maneira aleatória, para então através da combinação dos resultados de cada árvore encontrar a resposta final. Seu principal diferencial está no fato deste processo ser extremamente aleatório, contribuindo assim para modelos mais generalizáveis.\n",
        "\n",
        "Doc project: https://docs.google.com/document/d/1iqWKE0ZUlqfugccd1yqy-YO1iIcCPPtMZbyGs9qFkvQ/edit#heading=h.dzll6u7h25rc\n"
      ]
    },
    {
      "cell_type": "markdown",
      "metadata": {
        "id": "GghMQkDwlOyt"
      },
      "source": [
        "### Importação de bibliotecas"
      ]
    },
    {
      "cell_type": "code",
      "execution_count": 52,
      "metadata": {
        "id": "d4GXBZxAetpv"
      },
      "outputs": [],
      "source": [
        "import pandas as pd\n",
        "import numpy as np\n",
        "import joblib\n",
        "\n",
        "from sklearn.preprocessing import StandardScaler, MinMaxScaler, RobustScaler\n",
        "from sklearn.compose import ColumnTransformer\n",
        "from sklearn.impute import SimpleImputer\n",
        "from sklearn.pipeline import Pipeline\n",
        "\n",
        "from sklearn.ensemble import GradientBoostingRegressor\n",
        "from sklearn.ensemble import ExtraTreesRegressor\n",
        "from sklearn.neighbors import KNeighborsRegressor\n",
        "from sklearn.tree import DecisionTreeRegressor\n",
        "from sklearn.svm import SVR\n",
        "\n",
        "from sklearn.model_selection import RandomizedSearchCV, cross_validate, ShuffleSplit"
      ]
    },
    {
      "cell_type": "markdown",
      "metadata": {
        "id": "onsLWiQae0Z9"
      },
      "source": [
        "### Aquisição dos dados\n",
        "\n",
        "*   Os dados já foram tratados e filtrados no processo da análise exploratória;\n",
        "*   Já foram removidos todos os dados faltantes;\n",
        "*   164.467 registros com 27 variáveis;\n",
        "\n",
        "**Selecionado variáveis com informações relevantes para o modelo**\n",
        "\n",
        "\n",
        "1.   ANO\n",
        "1.   MES\n",
        "1.   CNES\n",
        "1.   IDADE\n",
        "1.   SEXO\n",
        "1.   DIAG_PRINC\n"
      ]
    },
    {
      "cell_type": "code",
      "execution_count": 53,
      "metadata": {
        "id": "ALNwRDQkez1-"
      },
      "outputs": [],
      "source": [
        "internacoes_fort = pd.read_csv(\"../data/raw/df_final.csv\")"
      ]
    },
    {
      "cell_type": "code",
      "execution_count": 54,
      "metadata": {
        "colab": {
          "base_uri": "https://localhost:8080/"
        },
        "id": "omJjt2iBliDH",
        "outputId": "52c612b0-5a7b-424f-d5ea-faa836701189"
      },
      "outputs": [
        {
          "data": {
            "text/plain": [
              "(164467, 27)"
            ]
          },
          "execution_count": 54,
          "metadata": {},
          "output_type": "execute_result"
        }
      ],
      "source": [
        "internacoes_fort.shape"
      ]
    },
    {
      "cell_type": "code",
      "execution_count": 55,
      "metadata": {
        "colab": {
          "base_uri": "https://localhost:8080/",
          "height": 156
        },
        "id": "dADHDkoRe7-V",
        "outputId": "3f955ad2-abb8-4b7d-e157-3a07e36806c9"
      },
      "outputs": [
        {
          "data": {
            "text/html": [
              "<div>\n",
              "<style scoped>\n",
              "    .dataframe tbody tr th:only-of-type {\n",
              "        vertical-align: middle;\n",
              "    }\n",
              "\n",
              "    .dataframe tbody tr th {\n",
              "        vertical-align: top;\n",
              "    }\n",
              "\n",
              "    .dataframe thead th {\n",
              "        text-align: right;\n",
              "    }\n",
              "</style>\n",
              "<table border=\"1\" class=\"dataframe\">\n",
              "  <thead>\n",
              "    <tr style=\"text-align: right;\">\n",
              "      <th></th>\n",
              "      <th>ANO</th>\n",
              "      <th>MES</th>\n",
              "      <th>CNES</th>\n",
              "      <th>IDADE</th>\n",
              "      <th>SEXO</th>\n",
              "      <th>DIAG_PRINC</th>\n",
              "      <th>TOT_INTER</th>\n",
              "    </tr>\n",
              "  </thead>\n",
              "  <tbody>\n",
              "    <tr>\n",
              "      <th>0</th>\n",
              "      <td>2014</td>\n",
              "      <td>1</td>\n",
              "      <td>2561492</td>\n",
              "      <td>15-19</td>\n",
              "      <td>fem</td>\n",
              "      <td>I00</td>\n",
              "      <td>1</td>\n",
              "    </tr>\n",
              "    <tr>\n",
              "      <th>1</th>\n",
              "      <td>2015</td>\n",
              "      <td>11</td>\n",
              "      <td>2561492</td>\n",
              "      <td>15-19</td>\n",
              "      <td>fem</td>\n",
              "      <td>I00</td>\n",
              "      <td>1</td>\n",
              "    </tr>\n",
              "  </tbody>\n",
              "</table>\n",
              "</div>"
            ],
            "text/plain": [
              "    ANO  MES     CNES  IDADE SEXO DIAG_PRINC  TOT_INTER\n",
              "0  2014    1  2561492  15-19  fem        I00          1\n",
              "1  2015   11  2561492  15-19  fem        I00          1"
            ]
          },
          "execution_count": 55,
          "metadata": {},
          "output_type": "execute_result"
        }
      ],
      "source": [
        "data = internacoes_fort[['ANO_CMPT', 'MES_CMPT', 'CNES', 'fxetar5', 'sexo', 'DIAG_PRINC', 'qnt']]\n",
        "data.columns = ['ANO', 'MES', 'CNES', 'IDADE', 'SEXO', 'DIAG_PRINC', 'TOT_INTER']\n",
        "data.head(2)"
      ]
    },
    {
      "cell_type": "code",
      "execution_count": 56,
      "metadata": {
        "colab": {
          "base_uri": "https://localhost:8080/"
        },
        "id": "688NI_Zwe85M",
        "outputId": "ac8d208c-cd7b-464e-cee1-f33f8ced4702"
      },
      "outputs": [
        {
          "data": {
            "text/plain": [
              "ANO           0\n",
              "MES           0\n",
              "CNES          0\n",
              "IDADE         0\n",
              "SEXO          0\n",
              "DIAG_PRINC    0\n",
              "TOT_INTER     0\n",
              "dtype: int64"
            ]
          },
          "execution_count": 56,
          "metadata": {},
          "output_type": "execute_result"
        }
      ],
      "source": [
        "data.isnull().sum()"
      ]
    },
    {
      "cell_type": "markdown",
      "metadata": {
        "id": "f4nZqYy2igcA"
      },
      "source": [
        "### DataFrame final para o treinamento e teste de modelos\n",
        "\n",
        "*   Foi realizado o Get_Dummies nas variaveis categóricas ['IDADE', 'SEXO', 'DIAG_PRINC'];\n",
        "*   Dados centralizados por data e por CNES do hospital;\n",
        "*   Foi adicionado a variável TOT_INTER, que conta a quantidade de internações por hospital do mês referente aos dados;\n",
        "*   Foi adicionado a variável TOT_INTER_mais_1, referente a quantidade de internações por hospital do mês sequinte;\n",
        "*   Foi adicionado a variável TOT_INTER_mais_2, referente a quantidade de internações por hospital do segundo mês sequinte;\n",
        "*   DataFrame final com 1.968 registros e 425 variáveis;\n",
        "\n"
      ]
    },
    {
      "cell_type": "code",
      "execution_count": 57,
      "metadata": {
        "id": "j-B15T2gga0i"
      },
      "outputs": [],
      "source": [
        "data = pd.get_dummies(data = data, columns=['IDADE', 'SEXO', 'DIAG_PRINC'])"
      ]
    },
    {
      "cell_type": "code",
      "execution_count": 58,
      "metadata": {
        "id": "17QYPKGegdeP"
      },
      "outputs": [],
      "source": [
        "df = data.groupby(['ANO', 'MES', 'CNES']).sum().reset_index()"
      ]
    },
    {
      "cell_type": "markdown",
      "metadata": {},
      "source": [
        "\n",
        "**Dados categóricos segregados pelo método get_dummies**\n",
        "\n",
        "A somatória das variáveis de um registro, de uma mesma categoria, resultam no valor TOT_INTER.\n",
        "\n",
        "*Por exemplo:*\n",
        "\n",
        "A variável Sexo feminino possui 9 internações e a Sexo Masculino 15.\n",
        "\n",
        "Na variável TOT_INTER obtem-se 24 iternações."
      ]
    },
    {
      "cell_type": "code",
      "execution_count": 59,
      "metadata": {
        "colab": {
          "base_uri": "https://localhost:8080/",
          "height": 112
        },
        "id": "f0Hh4BA3kxiZ",
        "outputId": "38c9834c-955b-4822-943c-0e0e23a9a67c"
      },
      "outputs": [
        {
          "data": {
            "text/html": [
              "<div>\n",
              "<style scoped>\n",
              "    .dataframe tbody tr th:only-of-type {\n",
              "        vertical-align: middle;\n",
              "    }\n",
              "\n",
              "    .dataframe tbody tr th {\n",
              "        vertical-align: top;\n",
              "    }\n",
              "\n",
              "    .dataframe thead th {\n",
              "        text-align: right;\n",
              "    }\n",
              "</style>\n",
              "<table border=\"1\" class=\"dataframe\">\n",
              "  <thead>\n",
              "    <tr style=\"text-align: right;\">\n",
              "      <th></th>\n",
              "      <th>ANO</th>\n",
              "      <th>MES</th>\n",
              "      <th>CNES</th>\n",
              "      <th>TOT_INTER</th>\n",
              "      <th>SEXO_fem</th>\n",
              "      <th>SEXO_masc</th>\n",
              "    </tr>\n",
              "  </thead>\n",
              "  <tbody>\n",
              "    <tr>\n",
              "      <th>0</th>\n",
              "      <td>2014</td>\n",
              "      <td>1</td>\n",
              "      <td>2373971</td>\n",
              "      <td>24</td>\n",
              "      <td>9.0</td>\n",
              "      <td>15.0</td>\n",
              "    </tr>\n",
              "    <tr>\n",
              "      <th>1</th>\n",
              "      <td>2014</td>\n",
              "      <td>1</td>\n",
              "      <td>2415631</td>\n",
              "      <td>14</td>\n",
              "      <td>8.0</td>\n",
              "      <td>6.0</td>\n",
              "    </tr>\n",
              "  </tbody>\n",
              "</table>\n",
              "</div>"
            ],
            "text/plain": [
              "    ANO  MES     CNES  TOT_INTER  SEXO_fem  SEXO_masc\n",
              "0  2014    1  2373971         24       9.0       15.0\n",
              "1  2014    1  2415631         14       8.0        6.0"
            ]
          },
          "execution_count": 59,
          "metadata": {},
          "output_type": "execute_result"
        }
      ],
      "source": [
        "df[['ANO', 'MES', 'CNES', 'TOT_INTER', 'SEXO_fem', 'SEXO_masc']].head(2)"
      ]
    },
    {
      "cell_type": "code",
      "execution_count": 60,
      "metadata": {
        "id": "7BYnUj5DTlHV"
      },
      "outputs": [],
      "source": [
        "def get_next_values(df, columns, window):\n",
        "    suffix = 'mais' if window > 0 else 'menos'\n",
        "    df_out = df.copy()\n",
        "    new_columns = [f'{variavel}_{suffix}_{abs(window)}' for variavel in columns]\n",
        "\n",
        "    for cnes in df.CNES.unique():\n",
        "        criteria = \"CNES == @cnes\"\n",
        "        df_out.loc[df_out.eval(criteria), new_columns] = (\n",
        "            df_out\n",
        "            .query(criteria)\n",
        "            .shift(periods=-window)[columns].values\n",
        "        )\n",
        "    return df_out\n",
        "\n",
        "df = (\n",
        "    df\n",
        "    .pipe(get_next_values, ['TOT_INTER'], 1)\n",
        "    .dropna()\n",
        ")\n",
        "\n",
        "df = (\n",
        "    df\n",
        "    .pipe(get_next_values, ['TOT_INTER'], 2)\n",
        "    .dropna()\n",
        ")\n"
      ]
    },
    {
      "cell_type": "markdown",
      "metadata": {},
      "source": [
        "**Exemplo das Variáveis Alvo:**\n",
        "\n",
        "Para o hospital de CNES 2373971, no ano de 2014.\n",
        "\n",
        "Em Janeiro possuia 24 internações, e sua variável TOT_INTER_mais_1 informa as internações de Fevereiro (28) e a TOT_INTER_mais_2 de MARÇO (31)."
      ]
    },
    {
      "cell_type": "code",
      "execution_count": 61,
      "metadata": {
        "colab": {
          "base_uri": "https://localhost:8080/",
          "height": 488
        },
        "id": "LXCBcrV1WmHb",
        "outputId": "2cdb4b9f-6bbb-490a-aac6-abd3dd23a00f"
      },
      "outputs": [
        {
          "data": {
            "text/html": [
              "<div>\n",
              "<style scoped>\n",
              "    .dataframe tbody tr th:only-of-type {\n",
              "        vertical-align: middle;\n",
              "    }\n",
              "\n",
              "    .dataframe tbody tr th {\n",
              "        vertical-align: top;\n",
              "    }\n",
              "\n",
              "    .dataframe thead th {\n",
              "        text-align: right;\n",
              "    }\n",
              "</style>\n",
              "<table border=\"1\" class=\"dataframe\">\n",
              "  <thead>\n",
              "    <tr style=\"text-align: right;\">\n",
              "      <th></th>\n",
              "      <th>ANO</th>\n",
              "      <th>MES</th>\n",
              "      <th>CNES</th>\n",
              "      <th>TOT_INTER</th>\n",
              "      <th>TOT_INTER_mais_1</th>\n",
              "      <th>TOT_INTER_mais_2</th>\n",
              "    </tr>\n",
              "  </thead>\n",
              "  <tbody>\n",
              "    <tr>\n",
              "      <th>0</th>\n",
              "      <td>2014</td>\n",
              "      <td>1</td>\n",
              "      <td>2373971</td>\n",
              "      <td>24</td>\n",
              "      <td>28.0</td>\n",
              "      <td>31.0</td>\n",
              "    </tr>\n",
              "    <tr>\n",
              "      <th>31</th>\n",
              "      <td>2014</td>\n",
              "      <td>2</td>\n",
              "      <td>2373971</td>\n",
              "      <td>28</td>\n",
              "      <td>31.0</td>\n",
              "      <td>28.0</td>\n",
              "    </tr>\n",
              "    <tr>\n",
              "      <th>62</th>\n",
              "      <td>2014</td>\n",
              "      <td>3</td>\n",
              "      <td>2373971</td>\n",
              "      <td>31</td>\n",
              "      <td>28.0</td>\n",
              "      <td>36.0</td>\n",
              "    </tr>\n",
              "  </tbody>\n",
              "</table>\n",
              "</div>"
            ],
            "text/plain": [
              "     ANO  MES     CNES  TOT_INTER  TOT_INTER_mais_1  TOT_INTER_mais_2\n",
              "0   2014    1  2373971         24              28.0              31.0\n",
              "31  2014    2  2373971         28              31.0              28.0\n",
              "62  2014    3  2373971         31              28.0              36.0"
            ]
          },
          "execution_count": 61,
          "metadata": {},
          "output_type": "execute_result"
        }
      ],
      "source": [
        "df[['ANO', 'MES', 'CNES', 'TOT_INTER', 'TOT_INTER_mais_1', 'TOT_INTER_mais_2']].query(\"CNES == 2373971\").head(3)"
      ]
    },
    {
      "cell_type": "code",
      "execution_count": 62,
      "metadata": {
        "colab": {
          "base_uri": "https://localhost:8080/"
        },
        "id": "yDjnCbfFiC2X",
        "outputId": "257d17a4-8643-4e0f-831d-4457c6f3b23b"
      },
      "outputs": [
        {
          "data": {
            "text/plain": [
              "(1968, 425)"
            ]
          },
          "execution_count": 62,
          "metadata": {},
          "output_type": "execute_result"
        }
      ],
      "source": [
        "df.shape"
      ]
    },
    {
      "cell_type": "markdown",
      "metadata": {
        "id": "N-0zFsgllaLu"
      },
      "source": [
        "### Configurações dos Modelos"
      ]
    },
    {
      "cell_type": "markdown",
      "metadata": {
        "id": "9_4F97gTws96"
      },
      "source": [
        "**Lista de Algoritmos e seus parametros de teste**\n",
        "\n",
        "- GradientBoostingRegressor\n",
        "- KNeighborsRegressor\n",
        "- SVR\n",
        "- ExtraTreesRegressor\n",
        "- DecisionTreeRegressor"
      ]
    },
    {
      "cell_type": "code",
      "execution_count": 63,
      "metadata": {
        "id": "QC7-jc8pwnCx"
      },
      "outputs": [],
      "source": [
        "models = [\n",
        "    {\n",
        "        'name': 'GrBoo',\n",
        "        'model': GradientBoostingRegressor(),\n",
        "        'parameters': {\n",
        "            'loss': ['huber', 'quantile'],\n",
        "            'learning_rate': [0.01, 0.05, 0.1, 0.2],\n",
        "            'subsample': [0.5, 0.8, 0.9, 1.0],\n",
        "            'criterion': ['friedman_mse', 'squared_error'],\n",
        "            'min_samples_split': np.linspace(0.1, 0.5, 6),\n",
        "            'min_samples_leaf': np.linspace(0.1, 0.5, 6),\n",
        "            'max_depth': [3, 5, 8],\n",
        "            'max_features': ['log2', 'sqrt']\n",
        "        }\n",
        "    },\n",
        "    {\n",
        "        'name': 'KNN',\n",
        "        'model': KNeighborsRegressor(),\n",
        "        'parameters': {\n",
        "            'n_neighbors': np.arange(3, 21, 2),\n",
        "            'weights': ['uniform', 'distance'],\n",
        "            'algorithm': ['ball_tree', 'brute'],\n",
        "            'metric': ['euclidean', 'manhattan', 'minkowski']\n",
        "        }\n",
        "    },\n",
        "    {\n",
        "        'name': 'SVR',\n",
        "        'model': SVR(max_iter=1000),\n",
        "        'parameters': {\n",
        "            'C': [1, 10, 100, 1e3],\n",
        "            'gamma': ['scale', 'auto']\n",
        "        }\n",
        "    },\n",
        "    {\n",
        "        'name': 'ExTree',\n",
        "        'model': ExtraTreesRegressor(),\n",
        "        'parameters': {\n",
        "            'criterion': ['absolute_error', 'squared_error'],\n",
        "            'max_features': ['log2', 'sqrt']\n",
        "        }\n",
        "    },\n",
        "    {\n",
        "        'name': 'DecTree',\n",
        "        'model': DecisionTreeRegressor(),\n",
        "        'parameters': {\n",
        "            'criterion': ['friedman_mse', 'squared_error'],\n",
        "            'splitter': ['best', 'random'],\n",
        "            'max_depth': [3, 5, 8],\n",
        "            'max_features': ['log2', 'sqrt']\n",
        "        }\n",
        "    }\n",
        "]"
      ]
    },
    {
      "cell_type": "markdown",
      "metadata": {
        "id": "Btv1wZaMp7zA"
      },
      "source": [
        "**Pipeline:** Prepara uma lista de funções a serem executadas sequencialmente\n",
        "\n",
        "**SimpleImputer:** Trata os valores faltantes\n",
        "\n",
        "**StandardScaler:** Padroniza os valores, removendo a média e escala a variância a uma unidade, tornando-as mais manejáveis para nossos modelos"
      ]
    },
    {
      "cell_type": "code",
      "execution_count": 64,
      "metadata": {
        "id": "3vn3MnW9pgkJ"
      },
      "outputs": [],
      "source": [
        "quantitative_preprocessing = Pipeline([\n",
        "    (\"missing\", SimpleImputer()),\n",
        "    (\"scaler\", StandardScaler())\n",
        "])"
      ]
    },
    {
      "cell_type": "markdown",
      "metadata": {
        "id": "giA2pc1GzvZH"
      },
      "source": [
        "**concatenate:** Função criada para facilitar a analise dos scores dos modelos, que Concatena Argumentos"
      ]
    },
    {
      "cell_type": "code",
      "execution_count": 65,
      "metadata": {
        "id": "q797JSaQztkH"
      },
      "outputs": [],
      "source": [
        "def concatenate(*args):\n",
        "    final_dict = {key: [] for key in args[0].keys()}\n",
        "    for dictionary in args:\n",
        "        for key, value in dictionary.items():\n",
        "            final_dict[key].extend(value)\n",
        "    return final_dict"
      ]
    },
    {
      "cell_type": "markdown",
      "metadata": {
        "id": "l82tIrh2zluv"
      },
      "source": [
        "***Função para Preparar e Executar cada um dos modelos***\n",
        "\n",
        "**n_splits_cv_gs, n_splits_cv:** Especificar o número de dobras em um (Stratified)KFold do RandomizedSearchCV e ShuffleSplit do cross_validate\n",
        "\n",
        "**RandomizedSearchCV:** Realiza uma quantidade específica e limitada de combinações aleatórias\n",
        "\n",
        "**cross_validate:** A validação cruzada é uma técnica para avaliar a capacidade de generalização de um modelo, a partir de um conjunto de dados. Consiste em particionar os dados em conjuntos(partes), onde um conjunto é utilizado para treino e outro conjunto é utilizado para teste e avaliação do desempenho do modelo"
      ]
    },
    {
      "cell_type": "code",
      "execution_count": 66,
      "metadata": {
        "colab": {
          "base_uri": "https://localhost:8080/"
        },
        "id": "U3B6UXAVzjJX",
        "outputId": "b0a09b8e-a1b0-45ab-c50c-5b334cef0104"
      },
      "outputs": [],
      "source": [
        "# Config RandomizedSearchCV\n",
        "n_splits_cv_gs = 30\n",
        "random_state = 42\n",
        "\n",
        "# Config Cross_validate\n",
        "n_splits_cv = 5\n",
        "test_size=.2\n",
        "n_jobs=4\n",
        "\n",
        "sc = []\n",
        "\n",
        "def train_model():\n",
        "\n",
        "    for model in models:\n",
        "        print(f\"runing {model['name']}\")\n",
        "        param_grid = {\n",
        "            'preprocessing__quantitative__scaler': [StandardScaler(), MinMaxScaler(), RobustScaler()],\n",
        "            'preprocessing__quantitative__missing__strategy': ['mean', 'median'],\n",
        "            **{f\"model__{key}\": value for key, value in model['parameters'].items()}\n",
        "        }\n",
        "\n",
        "        approach = Pipeline([\n",
        "            ('preprocessing', preprocessing),\n",
        "            ('model', model['model'])\n",
        "        ])\n",
        "\n",
        "        gs = RandomizedSearchCV(\n",
        "            estimator=approach,\n",
        "            param_distributions=param_grid,\n",
        "            scoring='r2',\n",
        "            cv=n_splits_cv_gs,\n",
        "            random_state=random_state\n",
        "        )\n",
        "\n",
        "        scores = cross_validate(\n",
        "            estimator = gs,\n",
        "            X = X,\n",
        "            y = y,\n",
        "            cv = ShuffleSplit(n_splits=n_splits_cv, test_size=test_size, random_state=random_state),\n",
        "            n_jobs = n_jobs,\n",
        "            scoring = ['r2', 'neg_mean_squared_error', 'neg_mean_absolute_error', 'explained_variance'],\n",
        "        )\n",
        "        scores['model'] = [model['name']] * n_splits_cv\n",
        "        sc.append(scores)\n",
        "        \n",
        "    scores = concatenate(*sc)\n",
        "\n",
        "    return scores"
      ]
    },
    {
      "cell_type": "markdown",
      "metadata": {},
      "source": [
        "**Funções para escolha do melhor modelo**"
      ]
    },
    {
      "cell_type": "code",
      "execution_count": 67,
      "metadata": {
        "colab": {
          "base_uri": "https://localhost:8080/",
          "height": 272
        },
        "id": "OslwV_EQ7lb2",
        "outputId": "dae6fb01-a372-4eaa-c51e-30d5e4489eb1"
      },
      "outputs": [],
      "source": [
        "def get_winner(scores):\n",
        "    def highlight_max(s, props=''):\n",
        "        values = [float(value.split()[0]) for value in s.values[1:]]\n",
        "        result = [''] * len(s.values)\n",
        "        if s.values[0].endswith('time'):\n",
        "            result[np.argmin(values)+1] = props\n",
        "        else:\n",
        "            result[np.argmax(values)+1] = props\n",
        "        return result\n",
        "\n",
        "    def get_winner(s):\n",
        "        metric = s.values[0]\n",
        "        values = [float(value.split()[0]) for value in s.values[1:]]\n",
        "        models = results.columns[1:]\n",
        "\n",
        "        if s.values[0].endswith('time'):\n",
        "            return models[np.argmin(values)]\n",
        "        else:\n",
        "            return models[np.argmax(values)]\n",
        "\n",
        "    results = (\n",
        "        pd\n",
        "        .DataFrame(scores)\n",
        "        .groupby(['model'])\n",
        "        .agg([lambda x: f\"{np.mean(x):.3f} ± {np.std(x):.3f}\"])#\n",
        "        .transpose()\n",
        "        .reset_index()\n",
        "        .rename(columns={\"level_0\": \"score\"})\n",
        "        .drop(columns=\"level_1\")\n",
        "    )\n",
        "\n",
        "    time_scores = ['fit_time', 'score_time']\n",
        "\n",
        "    winner = results.query('score not in @time_scores').apply(get_winner, axis=1).value_counts().index[0]\n",
        "\n",
        "    results.columns.name = ''\n",
        "    results = (\n",
        "        results\n",
        "            .style\n",
        "            .hide_index()\n",
        "            .apply(highlight_max, props='color:white;background-color:gray', axis=1)\n",
        "    )\n",
        "\n",
        "    display(results)\n",
        "    print(f'\\nO melhor modelo é o {winner}')\n",
        "\n",
        "    return winner"
      ]
    },
    {
      "cell_type": "markdown",
      "metadata": {},
      "source": [
        "**Função para salvar o modelo com melhor desempenho**"
      ]
    },
    {
      "cell_type": "code",
      "execution_count": 68,
      "metadata": {
        "colab": {
          "base_uri": "https://localhost:8080/"
        },
        "id": "ELRRE7pw62Sr",
        "outputId": "249aeea8-0dc5-4138-acff-974c6ec48767"
      },
      "outputs": [],
      "source": [
        "def salve_best_model(winner, i, preprocessing):\n",
        "    best_model = next(item for item in models if item[\"name\"] == winner)\n",
        "\n",
        "    param_grid = {\n",
        "        'preprocessing__quantitative__scaler': [StandardScaler(), MinMaxScaler(), RobustScaler()],\n",
        "        'preprocessing__quantitative__missing__strategy': ['mean', 'median'],\n",
        "        **{f\"model__{key}\": value for key, value in best_model['parameters'].items()}\n",
        "    }\n",
        "\n",
        "    approach = Pipeline([\n",
        "        ('preprocessing', preprocessing),\n",
        "        ('model', best_model['model'])\n",
        "    ])\n",
        "\n",
        "    gs = RandomizedSearchCV(\n",
        "        estimator=approach,\n",
        "        param_distributions=param_grid,\n",
        "        scoring='r2',\n",
        "        cv=n_splits_cv_gs,\n",
        "        random_state=random_state\n",
        "    )\n",
        "\n",
        "    gs.fit(X, y)\n",
        "\n",
        "    model = gs.best_estimator_\n",
        "    joblib.dump(model, '../data/processed/best_model_mais_'+i+'.joblib')"
      ]
    },
    {
      "cell_type": "markdown",
      "metadata": {
        "id": "UYTLzZiU6SmC"
      },
      "source": [
        "### Treinamento dos Modelos\n",
        "\n",
        "Métricas selecionadas para a avaliação do modelo\n",
        "\n",
        "**r2:** (r2_score) É a quantidade de variação no atributo dependente de saída que é previsível a partir das variáveis ​​independentes de entrada. R2 indica a proporção de pontos de dados que se encontram dentro da linha criada pela equação de regressão. Um valor mais alto de R2 é desejável, pois indica melhores resultados.\n",
        "\n",
        "**neg_mean_squared_error:** (mean_squared_error) Perda de regressão de erro quadrático médio. O erro quadrático médio (MSE) informa o quão perto uma linha de regressão está de um conjunto de pontos. Ele faz isso tomando as distâncias dos pontos até a linha de regressão (essas distâncias são os “erros”) e as eleva ao quadrado. \n",
        "\n",
        "**neg_mean_absolute_error:** (mean_absolute_error) Média dos erros absolutos, ou seja, utilizamos o módulo de cada erro para evitar a subestimação, isso porque, o valor é menos afetado por pontos especialmente extremos (outliers). Utilizamos essa medida em séries temporais, pois há casos em que o erro negativo pode zerar o positivo ou dar uma ideia de que o modelo é preciso. Mas aqui, medimos apenas a distância do valor real, independente de ser acima ou abaixo.\n",
        "\n",
        "**explained_variance:** (explained_variance_score) Pontuação de regressão de variância explicada. A melhor pontuação possível é 1,0, os valores mais baixos são piores. O escore de Variação Explicada é semelhante ao R2Score, com a notável diferença de que não leva em conta os deslocamentos sistemáticos na previsão."
      ]
    },
    {
      "cell_type": "code",
      "execution_count": 69,
      "metadata": {},
      "outputs": [
        {
          "data": {
            "text/plain": [
              "['r2',\n",
              " 'neg_mean_squared_error',\n",
              " 'neg_mean_absolute_error',\n",
              " 'explained_variance']"
            ]
          },
          "execution_count": 69,
          "metadata": {},
          "output_type": "execute_result"
        }
      ],
      "source": [
        "['r2', 'neg_mean_squared_error', 'neg_mean_absolute_error', 'explained_variance']"
      ]
    },
    {
      "cell_type": "markdown",
      "metadata": {
        "id": "kyeLnbYgm_mH"
      },
      "source": [
        "Na preparação do DataFrame final as variáveis nominais foram transformadas em Quantitativas.\n",
        "\n",
        "**target_column:** Valor Alvo\n",
        "\n",
        "**quantitative_columns:** Valores númericos"
      ]
    },
    {
      "cell_type": "markdown",
      "metadata": {},
      "source": [
        "**ColumnTransformer:** Permite aplicar seletivamente transformações de preparação de dados\n"
      ]
    },
    {
      "cell_type": "code",
      "execution_count": 70,
      "metadata": {
        "id": "NUsPIglCm_KI"
      },
      "outputs": [],
      "source": [
        "target_column = 'TOT_INTER_mais_2'\n",
        "drop_targets_column = ['TOT_INTER_mais_1', 'TOT_INTER_mais_2']\n",
        "quantitative_columns = df.columns.drop(drop_targets_column)\n",
        "\n",
        "preprocessing = ColumnTransformer([\n",
        "    (\"quantitative\", quantitative_preprocessing, quantitative_columns)\n",
        "])"
      ]
    },
    {
      "cell_type": "markdown",
      "metadata": {
        "id": "sXbCulNxt-jw"
      },
      "source": [
        "**X:** Somente Variáveis de Entrada\n",
        "\n",
        "**Y:** Valor Alvo\n",
        "\n",
        "**pandas.Series.ravel():** Retorna os dados subjacentes achatados como um ndarray"
      ]
    },
    {
      "cell_type": "code",
      "execution_count": 71,
      "metadata": {
        "id": "wfr65Bmkt75I"
      },
      "outputs": [],
      "source": [
        "X = (\n",
        "    df.drop(drop_targets_column, axis=1)\n",
        ")\n",
        "\n",
        "y = df[[target_column]].values.ravel()"
      ]
    },
    {
      "cell_type": "markdown",
      "metadata": {},
      "source": [
        "**Treinamento do modelo para a predição de dois meses a frente**"
      ]
    },
    {
      "cell_type": "code",
      "execution_count": 72,
      "metadata": {},
      "outputs": [
        {
          "name": "stdout",
          "output_type": "stream",
          "text": [
            "runing GrBoo\n",
            "runing KNN\n",
            "runing SVR\n",
            "runing ExTree\n",
            "runing DecTree\n"
          ]
        },
        {
          "name": "stderr",
          "output_type": "stream",
          "text": [
            "C:\\Users\\610782341\\AppData\\Local\\Temp\\ipykernel_12348\\480381363.py:38: FutureWarning: this method is deprecated in favour of `Styler.hide(axis='index')`\n",
            "  results\n"
          ]
        },
        {
          "data": {
            "text/html": [
              "<style type=\"text/css\">\n",
              "#T_47d38_row0_col1, #T_47d38_row1_col3, #T_47d38_row2_col2, #T_47d38_row3_col2, #T_47d38_row4_col2, #T_47d38_row5_col2 {\n",
              "  color: white;\n",
              "  background-color: gray;\n",
              "}\n",
              "</style>\n",
              "<table id=\"T_47d38\">\n",
              "  <thead>\n",
              "    <tr>\n",
              "      <th id=\"T_47d38_level0_col0\" class=\"col_heading level0 col0\" >score</th>\n",
              "      <th id=\"T_47d38_level0_col1\" class=\"col_heading level0 col1\" >DecTree</th>\n",
              "      <th id=\"T_47d38_level0_col2\" class=\"col_heading level0 col2\" >ExTree</th>\n",
              "      <th id=\"T_47d38_level0_col3\" class=\"col_heading level0 col3\" >GrBoo</th>\n",
              "      <th id=\"T_47d38_level0_col4\" class=\"col_heading level0 col4\" >KNN</th>\n",
              "      <th id=\"T_47d38_level0_col5\" class=\"col_heading level0 col5\" >SVR</th>\n",
              "    </tr>\n",
              "  </thead>\n",
              "  <tbody>\n",
              "    <tr>\n",
              "      <td id=\"T_47d38_row0_col0\" class=\"data row0 col0\" >fit_time</td>\n",
              "      <td id=\"T_47d38_row0_col1\" class=\"data row0 col1\" >29.523 ± 3.018</td>\n",
              "      <td id=\"T_47d38_row0_col2\" class=\"data row0 col2\" >7959.412 ± 1581.999</td>\n",
              "      <td id=\"T_47d38_row0_col3\" class=\"data row0 col3\" >65.869 ± 5.268</td>\n",
              "      <td id=\"T_47d38_row0_col4\" class=\"data row0 col4\" >60.632 ± 6.349</td>\n",
              "      <td id=\"T_47d38_row0_col5\" class=\"data row0 col5\" >241.314 ± 72.916</td>\n",
              "    </tr>\n",
              "    <tr>\n",
              "      <td id=\"T_47d38_row1_col0\" class=\"data row1 col0\" >score_time</td>\n",
              "      <td id=\"T_47d38_row1_col1\" class=\"data row1 col1\" >0.015 ± 0.004</td>\n",
              "      <td id=\"T_47d38_row1_col2\" class=\"data row1 col2\" >0.031 ± 0.006</td>\n",
              "      <td id=\"T_47d38_row1_col3\" class=\"data row1 col3\" >0.014 ± 0.001</td>\n",
              "      <td id=\"T_47d38_row1_col4\" class=\"data row1 col4\" >0.315 ± 0.144</td>\n",
              "      <td id=\"T_47d38_row1_col5\" class=\"data row1 col5\" >0.339 ± 0.082</td>\n",
              "    </tr>\n",
              "    <tr>\n",
              "      <td id=\"T_47d38_row2_col0\" class=\"data row2 col0\" >test_r2</td>\n",
              "      <td id=\"T_47d38_row2_col1\" class=\"data row2 col1\" >0.899 ± 0.014</td>\n",
              "      <td id=\"T_47d38_row2_col2\" class=\"data row2 col2\" >0.944 ± 0.010</td>\n",
              "      <td id=\"T_47d38_row2_col3\" class=\"data row2 col3\" >0.102 ± 0.041</td>\n",
              "      <td id=\"T_47d38_row2_col4\" class=\"data row2 col4\" >0.938 ± 0.012</td>\n",
              "      <td id=\"T_47d38_row2_col5\" class=\"data row2 col5\" >0.896 ± 0.021</td>\n",
              "    </tr>\n",
              "    <tr>\n",
              "      <td id=\"T_47d38_row3_col0\" class=\"data row3 col0\" >test_neg_mean_squared_error</td>\n",
              "      <td id=\"T_47d38_row3_col1\" class=\"data row3 col1\" >-2831.367 ± 797.988</td>\n",
              "      <td id=\"T_47d38_row3_col2\" class=\"data row3 col2\" >-1553.760 ± 352.198</td>\n",
              "      <td id=\"T_47d38_row3_col3\" class=\"data row3 col3\" >-25822.891 ± 8178.071</td>\n",
              "      <td id=\"T_47d38_row3_col4\" class=\"data row3 col4\" >-1738.789 ± 524.012</td>\n",
              "      <td id=\"T_47d38_row3_col5\" class=\"data row3 col5\" >-2822.895 ± 505.459</td>\n",
              "    </tr>\n",
              "    <tr>\n",
              "      <td id=\"T_47d38_row4_col0\" class=\"data row4 col0\" >test_neg_mean_absolute_error</td>\n",
              "      <td id=\"T_47d38_row4_col1\" class=\"data row4 col1\" >-24.635 ± 2.686</td>\n",
              "      <td id=\"T_47d38_row4_col2\" class=\"data row4 col2\" >-16.761 ± 1.131</td>\n",
              "      <td id=\"T_47d38_row4_col3\" class=\"data row4 col3\" >-51.275 ± 9.005</td>\n",
              "      <td id=\"T_47d38_row4_col4\" class=\"data row4 col4\" >-17.880 ± 1.539</td>\n",
              "      <td id=\"T_47d38_row4_col5\" class=\"data row4 col5\" >-20.810 ± 1.194</td>\n",
              "    </tr>\n",
              "    <tr>\n",
              "      <td id=\"T_47d38_row5_col0\" class=\"data row5 col0\" >test_explained_variance</td>\n",
              "      <td id=\"T_47d38_row5_col1\" class=\"data row5 col1\" >0.899 ± 0.014</td>\n",
              "      <td id=\"T_47d38_row5_col2\" class=\"data row5 col2\" >0.944 ± 0.010</td>\n",
              "      <td id=\"T_47d38_row5_col3\" class=\"data row5 col3\" >0.147 ± 0.030</td>\n",
              "      <td id=\"T_47d38_row5_col4\" class=\"data row5 col4\" >0.939 ± 0.012</td>\n",
              "      <td id=\"T_47d38_row5_col5\" class=\"data row5 col5\" >0.899 ± 0.021</td>\n",
              "    </tr>\n",
              "  </tbody>\n",
              "</table>\n"
            ],
            "text/plain": [
              "<pandas.io.formats.style.Styler at 0x1957e0db340>"
            ]
          },
          "metadata": {},
          "output_type": "display_data"
        },
        {
          "name": "stdout",
          "output_type": "stream",
          "text": [
            "\n",
            "O melhor modelo é o ExTree\n"
          ]
        }
      ],
      "source": [
        "sc = []\n",
        "\n",
        "scores = train_model()\n",
        "winner = get_winner(scores)\n",
        "salve_best_model(winner, '2', preprocessing)"
      ]
    },
    {
      "cell_type": "markdown",
      "metadata": {},
      "source": [
        "Reconfigurar variáveis para o segundo modelo"
      ]
    },
    {
      "cell_type": "code",
      "execution_count": 73,
      "metadata": {},
      "outputs": [],
      "source": [
        "target_column = 'TOT_INTER_mais_1'\n",
        "drop_targets_column = ['TOT_INTER_mais_1', 'TOT_INTER_mais_2']\n",
        "quantitative_columns = df.columns.drop(drop_targets_column)\n",
        "\n",
        "preprocessing = ColumnTransformer([\n",
        "    (\"quantitative\", quantitative_preprocessing, quantitative_columns)\n",
        "])"
      ]
    },
    {
      "cell_type": "code",
      "execution_count": 74,
      "metadata": {},
      "outputs": [],
      "source": [
        "X = (\n",
        "    df.drop(drop_targets_column, axis=1)\n",
        ")\n",
        "\n",
        "y = df[[target_column]].values.ravel()"
      ]
    },
    {
      "cell_type": "markdown",
      "metadata": {},
      "source": [
        "**Treinamento do modelo para a predição de um mês a frente**"
      ]
    },
    {
      "cell_type": "code",
      "execution_count": 75,
      "metadata": {},
      "outputs": [
        {
          "name": "stdout",
          "output_type": "stream",
          "text": [
            "runing GrBoo\n",
            "runing KNN\n",
            "runing SVR\n",
            "runing ExTree\n",
            "runing DecTree\n"
          ]
        },
        {
          "name": "stderr",
          "output_type": "stream",
          "text": [
            "C:\\Users\\610782341\\AppData\\Local\\Temp\\ipykernel_12348\\480381363.py:38: FutureWarning: this method is deprecated in favour of `Styler.hide(axis='index')`\n",
            "  results\n"
          ]
        },
        {
          "data": {
            "text/html": [
              "<style type=\"text/css\">\n",
              "#T_3d97f_row0_col1, #T_3d97f_row1_col1, #T_3d97f_row2_col2, #T_3d97f_row3_col2, #T_3d97f_row4_col2, #T_3d97f_row5_col2 {\n",
              "  color: white;\n",
              "  background-color: gray;\n",
              "}\n",
              "</style>\n",
              "<table id=\"T_3d97f\">\n",
              "  <thead>\n",
              "    <tr>\n",
              "      <th id=\"T_3d97f_level0_col0\" class=\"col_heading level0 col0\" >score</th>\n",
              "      <th id=\"T_3d97f_level0_col1\" class=\"col_heading level0 col1\" >DecTree</th>\n",
              "      <th id=\"T_3d97f_level0_col2\" class=\"col_heading level0 col2\" >ExTree</th>\n",
              "      <th id=\"T_3d97f_level0_col3\" class=\"col_heading level0 col3\" >GrBoo</th>\n",
              "      <th id=\"T_3d97f_level0_col4\" class=\"col_heading level0 col4\" >KNN</th>\n",
              "      <th id=\"T_3d97f_level0_col5\" class=\"col_heading level0 col5\" >SVR</th>\n",
              "    </tr>\n",
              "  </thead>\n",
              "  <tbody>\n",
              "    <tr>\n",
              "      <td id=\"T_3d97f_row0_col0\" class=\"data row0 col0\" >fit_time</td>\n",
              "      <td id=\"T_3d97f_row0_col1\" class=\"data row0 col1\" >25.758 ± 3.035</td>\n",
              "      <td id=\"T_3d97f_row0_col2\" class=\"data row0 col2\" >7565.921 ± 1821.160</td>\n",
              "      <td id=\"T_3d97f_row0_col3\" class=\"data row0 col3\" >91.086 ± 16.248</td>\n",
              "      <td id=\"T_3d97f_row0_col4\" class=\"data row0 col4\" >64.160 ± 11.547</td>\n",
              "      <td id=\"T_3d97f_row0_col5\" class=\"data row0 col5\" >259.835 ± 69.805</td>\n",
              "    </tr>\n",
              "    <tr>\n",
              "      <td id=\"T_3d97f_row1_col0\" class=\"data row1 col0\" >score_time</td>\n",
              "      <td id=\"T_3d97f_row1_col1\" class=\"data row1 col1\" >0.012 ± 0.004</td>\n",
              "      <td id=\"T_3d97f_row1_col2\" class=\"data row1 col2\" >0.026 ± 0.006</td>\n",
              "      <td id=\"T_3d97f_row1_col3\" class=\"data row1 col3\" >0.020 ± 0.005</td>\n",
              "      <td id=\"T_3d97f_row1_col4\" class=\"data row1 col4\" >0.291 ± 0.140</td>\n",
              "      <td id=\"T_3d97f_row1_col5\" class=\"data row1 col5\" >0.435 ± 0.123</td>\n",
              "    </tr>\n",
              "    <tr>\n",
              "      <td id=\"T_3d97f_row2_col0\" class=\"data row2 col0\" >test_r2</td>\n",
              "      <td id=\"T_3d97f_row2_col1\" class=\"data row2 col1\" >0.905 ± 0.021</td>\n",
              "      <td id=\"T_3d97f_row2_col2\" class=\"data row2 col2\" >0.954 ± 0.011</td>\n",
              "      <td id=\"T_3d97f_row2_col3\" class=\"data row2 col3\" >0.111 ± 0.036</td>\n",
              "      <td id=\"T_3d97f_row2_col4\" class=\"data row2 col4\" >0.945 ± 0.015</td>\n",
              "      <td id=\"T_3d97f_row2_col5\" class=\"data row2 col5\" >0.923 ± 0.024</td>\n",
              "    </tr>\n",
              "    <tr>\n",
              "      <td id=\"T_3d97f_row3_col0\" class=\"data row3 col0\" >test_neg_mean_squared_error</td>\n",
              "      <td id=\"T_3d97f_row3_col1\" class=\"data row3 col1\" >-2518.716 ± 345.488</td>\n",
              "      <td id=\"T_3d97f_row3_col2\" class=\"data row3 col2\" >-1233.860 ± 284.673</td>\n",
              "      <td id=\"T_3d97f_row3_col3\" class=\"data row3 col3\" >-25227.913 ± 7837.059</td>\n",
              "      <td id=\"T_3d97f_row3_col4\" class=\"data row3 col4\" >-1459.547 ± 229.213</td>\n",
              "      <td id=\"T_3d97f_row3_col5\" class=\"data row3 col5\" >-2059.936 ± 531.472</td>\n",
              "    </tr>\n",
              "    <tr>\n",
              "      <td id=\"T_3d97f_row4_col0\" class=\"data row4 col0\" >test_neg_mean_absolute_error</td>\n",
              "      <td id=\"T_3d97f_row4_col1\" class=\"data row4 col1\" >-24.534 ± 2.948</td>\n",
              "      <td id=\"T_3d97f_row4_col2\" class=\"data row4 col2\" >-15.636 ± 1.123</td>\n",
              "      <td id=\"T_3d97f_row4_col3\" class=\"data row4 col3\" >-49.571 ± 9.030</td>\n",
              "      <td id=\"T_3d97f_row4_col4\" class=\"data row4 col4\" >-17.005 ± 1.045</td>\n",
              "      <td id=\"T_3d97f_row4_col5\" class=\"data row4 col5\" >-19.012 ± 1.667</td>\n",
              "    </tr>\n",
              "    <tr>\n",
              "      <td id=\"T_3d97f_row5_col0\" class=\"data row5 col0\" >test_explained_variance</td>\n",
              "      <td id=\"T_3d97f_row5_col1\" class=\"data row5 col1\" >0.905 ± 0.021</td>\n",
              "      <td id=\"T_3d97f_row5_col2\" class=\"data row5 col2\" >0.954 ± 0.011</td>\n",
              "      <td id=\"T_3d97f_row5_col3\" class=\"data row5 col3\" >0.153 ± 0.025</td>\n",
              "      <td id=\"T_3d97f_row5_col4\" class=\"data row5 col4\" >0.946 ± 0.015</td>\n",
              "      <td id=\"T_3d97f_row5_col5\" class=\"data row5 col5\" >0.924 ± 0.024</td>\n",
              "    </tr>\n",
              "  </tbody>\n",
              "</table>\n"
            ],
            "text/plain": [
              "<pandas.io.formats.style.Styler at 0x1957e0d7940>"
            ]
          },
          "metadata": {},
          "output_type": "display_data"
        },
        {
          "name": "stdout",
          "output_type": "stream",
          "text": [
            "\n",
            "O melhor modelo é o ExTree\n"
          ]
        }
      ],
      "source": [
        "sc = []\n",
        "\n",
        "scores = train_model()\n",
        "winner = get_winner(scores)\n",
        "salve_best_model(winner, '1', preprocessing)"
      ]
    },
    {
      "cell_type": "markdown",
      "metadata": {},
      "source": [
        "### Exemplo de Predição\n",
        "\n",
        "**Variáveis com informações necessárias para o modelo**\n",
        "\n",
        "\n",
        "1.   ANO\n",
        "1.   MES\n",
        "1.   CNES\n",
        "1.   IDADE\n",
        "1.   SEXO\n",
        "1.   DIAG_PRINC\n",
        "\n",
        "Para a predição os dados deverão receber os tratamentos pre-estabelecidos"
      ]
    },
    {
      "cell_type": "code",
      "execution_count": 76,
      "metadata": {},
      "outputs": [],
      "source": [
        "import joblib\n",
        "\n",
        "model_mais_1  = joblib.load('../data/processed/best_model_mais_1.joblib')\n",
        "model_mais_2  = joblib.load('../data/processed/best_model_mais_2.joblib')"
      ]
    },
    {
      "cell_type": "markdown",
      "metadata": {},
      "source": [
        "Dados de Exemplo"
      ]
    },
    {
      "cell_type": "code",
      "execution_count": 77,
      "metadata": {},
      "outputs": [
        {
          "data": {
            "text/html": [
              "<div>\n",
              "<style scoped>\n",
              "    .dataframe tbody tr th:only-of-type {\n",
              "        vertical-align: middle;\n",
              "    }\n",
              "\n",
              "    .dataframe tbody tr th {\n",
              "        vertical-align: top;\n",
              "    }\n",
              "\n",
              "    .dataframe thead th {\n",
              "        text-align: right;\n",
              "    }\n",
              "</style>\n",
              "<table border=\"1\" class=\"dataframe\">\n",
              "  <thead>\n",
              "    <tr style=\"text-align: right;\">\n",
              "      <th></th>\n",
              "      <th>ANO</th>\n",
              "      <th>MES</th>\n",
              "      <th>CNES</th>\n",
              "      <th>TOT_INTER</th>\n",
              "      <th>IDADE_0-4</th>\n",
              "      <th>IDADE_10-14</th>\n",
              "      <th>IDADE_15-19</th>\n",
              "      <th>IDADE_20-24</th>\n",
              "      <th>IDADE_25-29</th>\n",
              "      <th>IDADE_30-34</th>\n",
              "      <th>...</th>\n",
              "      <th>DIAG_PRINC_N768</th>\n",
              "      <th>DIAG_PRINC_O23</th>\n",
              "      <th>DIAG_PRINC_O230</th>\n",
              "      <th>DIAG_PRINC_O231</th>\n",
              "      <th>DIAG_PRINC_O232</th>\n",
              "      <th>DIAG_PRINC_O233</th>\n",
              "      <th>DIAG_PRINC_O234</th>\n",
              "      <th>DIAG_PRINC_O235</th>\n",
              "      <th>DIAG_PRINC_O239</th>\n",
              "      <th>DIAG_PRINC_P350</th>\n",
              "    </tr>\n",
              "  </thead>\n",
              "  <tbody>\n",
              "    <tr>\n",
              "      <th>31</th>\n",
              "      <td>2022</td>\n",
              "      <td>7</td>\n",
              "      <td>2373971</td>\n",
              "      <td>28</td>\n",
              "      <td>0.0</td>\n",
              "      <td>0.0</td>\n",
              "      <td>0.0</td>\n",
              "      <td>0.0</td>\n",
              "      <td>4.0</td>\n",
              "      <td>1.0</td>\n",
              "      <td>...</td>\n",
              "      <td>0.0</td>\n",
              "      <td>0.0</td>\n",
              "      <td>0.0</td>\n",
              "      <td>0.0</td>\n",
              "      <td>0.0</td>\n",
              "      <td>0.0</td>\n",
              "      <td>0.0</td>\n",
              "      <td>0.0</td>\n",
              "      <td>0.0</td>\n",
              "      <td>0.0</td>\n",
              "    </tr>\n",
              "  </tbody>\n",
              "</table>\n",
              "<p>1 rows × 423 columns</p>\n",
              "</div>"
            ],
            "text/plain": [
              "     ANO  MES     CNES  TOT_INTER  IDADE_0-4  IDADE_10-14  IDADE_15-19  \\\n",
              "31  2022    7  2373971         28        0.0          0.0          0.0   \n",
              "\n",
              "    IDADE_20-24  IDADE_25-29  IDADE_30-34  ...  DIAG_PRINC_N768  \\\n",
              "31          0.0          4.0          1.0  ...              0.0   \n",
              "\n",
              "    DIAG_PRINC_O23  DIAG_PRINC_O230  DIAG_PRINC_O231  DIAG_PRINC_O232  \\\n",
              "31             0.0              0.0              0.0              0.0   \n",
              "\n",
              "    DIAG_PRINC_O233  DIAG_PRINC_O234  DIAG_PRINC_O235  DIAG_PRINC_O239  \\\n",
              "31              0.0              0.0              0.0              0.0   \n",
              "\n",
              "    DIAG_PRINC_P350  \n",
              "31              0.0  \n",
              "\n",
              "[1 rows x 423 columns]"
            ]
          },
          "execution_count": 77,
          "metadata": {},
          "output_type": "execute_result"
        }
      ],
      "source": [
        "data_predict = df.loc[(df['CNES']==2373971) & (df['MES'] == 2) & (df['ANO'] == 2014)]\n",
        "data_predict = data_predict.drop(['TOT_INTER_mais_1', 'TOT_INTER_mais_2'], axis=1)\n",
        "\n",
        "data_predict.ANO = 2022\n",
        "data_predict.MES = 7\n",
        "\n",
        "data_predict"
      ]
    },
    {
      "cell_type": "code",
      "execution_count": 78,
      "metadata": {},
      "outputs": [
        {
          "data": {
            "text/plain": [
              "array([31.69])"
            ]
          },
          "execution_count": 78,
          "metadata": {},
          "output_type": "execute_result"
        }
      ],
      "source": [
        "model_mais_1.predict(data_predict)"
      ]
    },
    {
      "cell_type": "code",
      "execution_count": 79,
      "metadata": {},
      "outputs": [
        {
          "data": {
            "text/plain": [
              "array([29.31])"
            ]
          },
          "execution_count": 79,
          "metadata": {},
          "output_type": "execute_result"
        }
      ],
      "source": [
        "model_mais_2.predict(data_predict)"
      ]
    }
  ],
  "metadata": {
    "colab": {
      "name": "PipelineAnalySUS.ipynb",
      "provenance": []
    },
    "kernelspec": {
      "display_name": "Python 3.9.13 64-bit (windows store)",
      "language": "python",
      "name": "python3"
    },
    "language_info": {
      "codemirror_mode": {
        "name": "ipython",
        "version": 3
      },
      "file_extension": ".py",
      "mimetype": "text/x-python",
      "name": "python",
      "nbconvert_exporter": "python",
      "pygments_lexer": "ipython3",
      "version": "3.9.13"
    },
    "vscode": {
      "interpreter": {
        "hash": "9e368cf1f10f574c3acf8372d805d1449c4cd559d4de25cdfdc1074af42674a5"
      }
    }
  },
  "nbformat": 4,
  "nbformat_minor": 0
}
