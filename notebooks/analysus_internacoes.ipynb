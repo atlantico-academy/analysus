{
 "cells": [
  {
   "cell_type": "code",
   "execution_count": 7,
   "metadata": {},
   "outputs": [],
   "source": [
    "# coding: utf-8\n",
    "\n",
    "\"\"\"\n",
    "Mapeamento de Arquivos\n",
    "\"\"\"\n",
    "\n",
    "DF_INTERNACOES = '../data/raw/df_internacoes.csv'\n"
   ]
  },
  {
   "cell_type": "markdown",
   "metadata": {},
   "source": [
    " | NOME DO CAMPO | Descrição | Observações |\n",
    " | --- | --- | --- |\n",
    " | UF_ZI | Município Gestor. | \n",
    " | ANO_CMPT | Ano de processamento da AIH, no formato aaaa. | \n",
    " | MÊS_CMPT | Mês de processamento da AIH, no formato mm. | \n",
    " | ESPEC | Especialidade do Leito | \n",
    " | CGC_HOSP | CNPJ do Estabelecimento. | \n",
    " | N_AIH | Número da AIH. | \n",
    " | IDENT | Identificação do tipo da AIH. | \n",
    " | CEP | CEP do paciente. | \n",
    " | MUNIC_RES | Município de Residência do Paciente | \n",
    " | NASC | Data de nascimento do paciente (aaaammdd). | \n",
    " | SEXO | Sexo do paciente. | \n",
    " | UTI_MES_IN | Zerado | \n",
    " | UTI_MES_AN | Zerado | \n",
    " | UTI_MES_AL | Zerado | \n",
    " | UTI_MES_TO | Quantidade de dias de UTI no mês. | \n",
    " | MARCA_UTI | Indica qual o tipo de UTI utilizada pelo paciente. | \n",
    " | UTI_INT_IN | Zerado | \n",
    " | UTI_INT_AN | Zerado | \n",
    " | UTI_INT_AL | Zerado | \n",
    " | UTI_INT_TO | Quantidade de diárias em unidade intermediaria. | \n",
    " | DIAR_ACOM | Quantidade de diárias de acompanhante. | \n",
    " | QT_DIARIAS | Quantidade de diárias. | \n",
    " | PROC_SOLIC | Procedimento solicitado. | \n",
    " | PROC_REA | Procedimento realizado. | \n",
    " | VAL_SH |  Valor de serviços hospitalares. | \n",
    " | VAL_SP |  Valor de serviços profissionais. | \n",
    " | VAL_SADT |  Zerado | \n",
    " | VAL_RN |  Zerado | \n",
    " | VAL_ACOMP |  Zerado | \n",
    " | VAL_ORTP |  Zerado | \n",
    " | VAL_SANGUE |  Zerado | \n",
    " | VAL_SADTSR |  Zerado | \n",
    " | VAL_TRANSP |  Zerado | \n",
    " | VAL_OBSANG |  Zerado | \n",
    " | VAL_PED1AC |  Zerado | \n",
    " | VAL_TOT |  Valor total da AIH. | \n",
    " | VAL_UTI |  Valor de UTI. | \n",
    " | US_TOT |  Valor total, em dólar. | \n",
    " | DI_INTER | Data de internação no formato aaammdd. | \n",
    " | DT_SAIDA | Data de saída, no formato aaaammdd. | \n",
    " | DIAG_PRINC | Código do diagnóstico principal (CID10). | \n",
    " | DIAG_SECUN | Código do diagnostico secundário (CID10). Preenchido com zeros a partir de 201501. | \n",
    " | COBRANCA | Motivo de Saída/Permanência | \n",
    " | NATUREZA | Natureza jurídica do hospital (com conteúdo até maio/12). Era utilizada a classificação de Regime e Natureza. | \n",
    " | NAT_JUR | Natureza jurídica do Estabelecimento, conforme a Comissão Nacional de Classificação - CONCLA | \n",
    " | DESTAO | Indica o tipo de gestão do hospital. | \n",
    " | RUBRICA | Zerado | \n",
    " | IND_VDRL | Indica exame VDRL. | \n",
    " | MUNIC_MOV | Município do Estabelecimento. | \n",
    " | COD_IDADE | Unidade de medida da idade. | \n",
    " | IDADE | Idade. | \n",
    " | DIAS_PERM | Dias de Permanência. | \n",
    " | MORTE | Indica Óbito | \n",
    " | NACIONAL | Código da nacionalidade do paciente. | \n",
    " | NUM_PROC | Zerado | \n",
    " | CAR_INT | Caráter da internação. | \n",
    " | TOT_PT_SP | Zerado | \n",
    " | CPF_AUT | Zerado | \n",
    " | HOMONIMO | Indicador se o paciente da AIH é homônimo do paciente de outra AIH. | \n",
    " | NUM_FILHOS | Número de filhos do paciente. | \n",
    " | INSTRU | Grau de instrução do paciente. | \n",
    " | CID_NOTIF | CID de Notificação. | \n",
    " | CONTRACEP1 | Tipo de contraceptivo utilizado. | \n",
    " | CONTRACEP2 | Segundo tipo de contraceptivo utilizado. | \n",
    " | GESTRISCO | Indicador se é gestante de risco. | \n",
    " | INSC_PN | Número da gestante no pré-natal. | \n",
    " | SEQ_AIH5 | Sequencial de longa permanência (AIH tipo 5). | \n",
    " | CBOR | Ocupação do paciente, segundo a Classificação Brasileira de Ocupações – CBO. | \n",
    " | CNAER | Código de acidente de trabalho. | \n",
    " | VINCPREV | Vínculo com a Previdência. | \n",
    " | GESTOR_COD | Motivo de autorização da AIH pelo Gestor. | \n",
    " | GESTOR_TP | Tipo de gestor. | \n",
    " | GESTOR_CPF | Número do CPF do Gestor. | \n",
    " | GESTOR_DT | Data da autorização dada pelo Gestor (aaaammdd). | \n",
    " | CNES | Código CNES do hospital. | \n",
    " | CNPJ_MANT | CNPJ da mantenedora. | \n",
    " | INFEHOSP | Status de infecção hospitalar. | \n",
    " | CID_ASSO | CID causa. | \n",
    " | CID_MORTE | CID da morte. | \n",
    " | COMPLEX | Complexidade. | \n",
    " | FINANC | Tipo de financiamento. | \n",
    " | FAEC_TP | Subtipo de financiamento FAEC. | \n",
    " | REGCT | Regra contratual. | \n",
    " | RACA_COR | Raça/Cor do paciente. | \n",
    " | ETNIA | Etnia do paciente, se raça cor for indígena. | \n",
    " | SEQUENCIA | Sequencial da AIH na remessa. | \n",
    " | REMESSA | Número da remessa. | \n",
    " | AUD_JUST | Justificativa do auditor para aceitação da AIH sem o número do Cartão Nacional de Saúde. | \n",
    " | SIS_JUST | Justificativa do estabelecimento para aceitação da AIH sem o número do Cartão Nacional de Saúde. | \n",
    " | VAL_SH_FED | Valor do complemento federal de serviços hospitalares. Está incluído no valor total da AIH. | \n",
    " | VAL_SP_FED | Valor do complemento federal de serviços profissionais. Está incluído no valor total da AIH. | \n",
    " | VAL_SH_GES | Valor do complemento do gestor (estadual ou municipal) de serviços hospitalares. Está incluído no valor total da AIH. | \n",
    " | VAL_SP_GES | Valor do complemento do gestor (estadual ou municipal) de serviços profissionais. Está incluído no valor total da AIH. | \n",
    " | VAL_UCI | Valor de UCI. | \n",
    " | MARCA_UCI | Tipo de UCI utilizada pelo paciente. | Possui 5 categorias distintas [0, 1, 2, 3, 88] |\n",
    " | DIAGSEC1 | Diagnóstico secundário 1. | 3.914 categorias distintos e 2.585.512 registros NaN |\n",
    " | DIAGSEC2 | Diagnóstico secundário 2. | 1.091 categorias distintos e 2.937.229 registros NaN |\n",
    " | DIAGSEC3 | Diagnóstico secundário 3. | 265 categorias distintos e 2.955.333 registros NaN |\n",
    " | DIAGSEC4 | Diagnóstico secundário 4. | 62 categorias distintos e 2.956.231 registros NaN |\n",
    " | DIAGSEC5 | Diagnóstico secundário 5. | 12 categorias distintos e 2.956.328 registros NaN |\n",
    " | DIAGSEC6 | Diagnóstico secundário 6. | 2 categorias distintos e 2.956.340 registros NaN |\n",
    " | DIAGSEC7 | Diagnóstico secundário 7. | Nenhum Valor |\n",
    " | DIAGSEC8 | Diagnóstico secundário 8. | Nenhum Valor |\n",
    " | DIAGSEC9 | Diagnóstico secundário 9. | Nenhum Valor |\n",
    " | TPDISEC1 | Tipo de diagnóstico secundário 1. | Possui 3 categorias distintas [0.0, 1.0, 2.0] e 484.974 registros NaN | \n",
    " | TPDISEC2 | Tipo de diagnóstico secundário 2. | Possui 3 categorias distintas [0.0, 1.0, 2.0] e 484.974 registros NaN | \n",
    " | TPDISEC3 | Tipo de diagnóstico secundário 3. | Possui 3 categorias distintas [0.0, 1.0, 2.0] e 484.974 registros NaN | \n",
    " | TPDISEC4 | Tipo de diagnóstico secundário 4. | Possui 3 categorias distintas [0.0, 1.0, 2.0] e 484.974 registros NaN | \n",
    " | TPDISEC5 | Tipo de diagnóstico secundário 5. | Possui 3 categorias distintas [0.0, 1.0, 2.0] e 484.974 registros NaN | \n",
    " | TPDISEC6 | Tipo de diagnóstico secundário 6. | Possui 2 categorias distintas [0.0, 1.0] e 484.974 registros NaN |\n",
    " | TPDISEC7 | Tipo de diagnóstico secundário 7. | Possui 1 categoria [0.0] e 484.974 registros NaN |\n",
    " | TPDISEC8 | Tipo de diagnóstico secundário 8. | Possui 1 categoria [0.0] e 484.974 registros NaN |\n",
    " | TPDISEC9 | Tipo de diagnóstico secundário 9. | Possui 1 categoria [0.0] e 484.974 registros NaN |\n",
    "\n",
    " - A base possui 2.956.343 registros\n",
    " - Os tipos de Diagnósticos Secundário (TPDISEC) são composto por 9 colunas, com três possíveis categorias [0.0, 1.0, 2.0], onde a cada coluna existe uma migração de tipos, do 2 para o 1 e do 1 para o 0. De forma que na 7ª coluna em diante todos os registros localizam-se na categoria 0.0"
   ]
  },
  {
   "cell_type": "code",
   "execution_count": 8,
   "metadata": {},
   "outputs": [
    {
     "data": {
      "text/html": [
       "<div>\n",
       "<style scoped>\n",
       "    .dataframe tbody tr th:only-of-type {\n",
       "        vertical-align: middle;\n",
       "    }\n",
       "\n",
       "    .dataframe tbody tr th {\n",
       "        vertical-align: top;\n",
       "    }\n",
       "\n",
       "    .dataframe thead th {\n",
       "        text-align: right;\n",
       "    }\n",
       "</style>\n",
       "<table border=\"1\" class=\"dataframe\">\n",
       "  <thead>\n",
       "    <tr style=\"text-align: right;\">\n",
       "      <th></th>\n",
       "      <th>UF_ZI</th>\n",
       "      <th>ANO_CMPT</th>\n",
       "      <th>MES_CMPT</th>\n",
       "      <th>ESPEC</th>\n",
       "      <th>CGC_HOSP</th>\n",
       "      <th>N_AIH</th>\n",
       "      <th>IDENT</th>\n",
       "      <th>CEP</th>\n",
       "      <th>MUNIC_RES</th>\n",
       "      <th>NASC</th>\n",
       "      <th>...</th>\n",
       "      <th>DIAGSEC9</th>\n",
       "      <th>TPDISEC1</th>\n",
       "      <th>TPDISEC2</th>\n",
       "      <th>TPDISEC3</th>\n",
       "      <th>TPDISEC4</th>\n",
       "      <th>TPDISEC5</th>\n",
       "      <th>TPDISEC6</th>\n",
       "      <th>TPDISEC7</th>\n",
       "      <th>TPDISEC8</th>\n",
       "      <th>TPDISEC9</th>\n",
       "    </tr>\n",
       "  </thead>\n",
       "  <tbody>\n",
       "    <tr>\n",
       "      <th>0</th>\n",
       "      <td>230000</td>\n",
       "      <td>2014</td>\n",
       "      <td>1</td>\n",
       "      <td>7</td>\n",
       "      <td>5268526000847</td>\n",
       "      <td>2314100004788</td>\n",
       "      <td>1</td>\n",
       "      <td>62900000</td>\n",
       "      <td>231180</td>\n",
       "      <td>20140117</td>\n",
       "      <td>...</td>\n",
       "      <td>NaN</td>\n",
       "      <td>NaN</td>\n",
       "      <td>NaN</td>\n",
       "      <td>NaN</td>\n",
       "      <td>NaN</td>\n",
       "      <td>NaN</td>\n",
       "      <td>NaN</td>\n",
       "      <td>NaN</td>\n",
       "      <td>NaN</td>\n",
       "      <td>NaN</td>\n",
       "    </tr>\n",
       "    <tr>\n",
       "      <th>1</th>\n",
       "      <td>230000</td>\n",
       "      <td>2014</td>\n",
       "      <td>1</td>\n",
       "      <td>7</td>\n",
       "      <td>5268526000847</td>\n",
       "      <td>2314100004854</td>\n",
       "      <td>1</td>\n",
       "      <td>62755000</td>\n",
       "      <td>230945</td>\n",
       "      <td>20110912</td>\n",
       "      <td>...</td>\n",
       "      <td>NaN</td>\n",
       "      <td>NaN</td>\n",
       "      <td>NaN</td>\n",
       "      <td>NaN</td>\n",
       "      <td>NaN</td>\n",
       "      <td>NaN</td>\n",
       "      <td>NaN</td>\n",
       "      <td>NaN</td>\n",
       "      <td>NaN</td>\n",
       "      <td>NaN</td>\n",
       "    </tr>\n",
       "  </tbody>\n",
       "</table>\n",
       "<p>2 rows × 113 columns</p>\n",
       "</div>"
      ],
      "text/plain": [
       "    UF_ZI  ANO_CMPT  MES_CMPT  ESPEC       CGC_HOSP          N_AIH  IDENT  \\\n",
       "0  230000      2014         1      7  5268526000847  2314100004788      1   \n",
       "1  230000      2014         1      7  5268526000847  2314100004854      1   \n",
       "\n",
       "        CEP  MUNIC_RES      NASC  ...  DIAGSEC9  TPDISEC1  TPDISEC2  TPDISEC3  \\\n",
       "0  62900000     231180  20140117  ...       NaN       NaN       NaN       NaN   \n",
       "1  62755000     230945  20110912  ...       NaN       NaN       NaN       NaN   \n",
       "\n",
       "   TPDISEC4  TPDISEC5  TPDISEC6  TPDISEC7  TPDISEC8  TPDISEC9  \n",
       "0       NaN       NaN       NaN       NaN       NaN       NaN  \n",
       "1       NaN       NaN       NaN       NaN       NaN       NaN  \n",
       "\n",
       "[2 rows x 113 columns]"
      ]
     },
     "execution_count": 8,
     "metadata": {},
     "output_type": "execute_result"
    }
   ],
   "source": [
    "import pandas as pd\n",
    "\n",
    "df = pd.read_csv(DF_INTERNACOES, nrows=5)\n",
    "\n",
    "df.head(2)"
   ]
  },
  {
   "cell_type": "code",
   "execution_count": 88,
   "metadata": {},
   "outputs": [
    {
     "name": "stdout",
     "output_type": "stream",
     "text": [
      "<class 'pandas.core.frame.DataFrame'>\n",
      "RangeIndex: 2956343 entries, 0 to 2956342\n",
      "Data columns (total 1 columns):\n",
      " #   Column     Dtype\n",
      "---  ------     -----\n",
      " 0   MARCA_UCI  int64\n",
      "dtypes: int64(1)\n",
      "memory usage: 22.6 MB\n"
     ]
    }
   ],
   "source": [
    "df = pd.read_csv(DF_INTERNACOES, usecols=['MARCA_UCI'])\n",
    "df.info()"
   ]
  },
  {
   "cell_type": "code",
   "execution_count": 89,
   "metadata": {},
   "outputs": [
    {
     "data": {
      "text/plain": [
       "MARCA_UCI\n",
       "0            2912201\n",
       "1              27501\n",
       "3              14586\n",
       "2               1998\n",
       "88                57\n",
       "dtype: int64"
      ]
     },
     "execution_count": 89,
     "metadata": {},
     "output_type": "execute_result"
    }
   ],
   "source": [
    "df.value_counts()"
   ]
  },
  {
   "cell_type": "code",
   "execution_count": 90,
   "metadata": {},
   "outputs": [
    {
     "data": {
      "text/plain": [
       "MARCA_UCI\n",
       "False        2956343\n",
       "dtype: int64"
      ]
     },
     "execution_count": 90,
     "metadata": {},
     "output_type": "execute_result"
    }
   ],
   "source": [
    "df.isna().value_counts()"
   ]
  },
  {
   "cell_type": "code",
   "execution_count": 6,
   "metadata": {},
   "outputs": [
    {
     "data": {
      "image/png": "[encoded data removed]",
      "text/plain": [
       "<Figure size 432x288 with 1 Axes>"
      ]
     },
     "metadata": {
      "needs_background": "light"
     },
     "output_type": "display_data"
    }
   ],
   "source": [
    "from matplotlib import pyplot as plt\n",
    "\n",
    "plt.hist(df.IDADE)\n",
    "plt.show()"
   ]
  }
 ],
 "metadata": {
  "interpreter": {
   "hash": "9650cb4e16cdd4a8e8e2d128bf38d875813998db22a3c986335f89e0cb4d7bb2"
  },
  "kernelspec": {
   "display_name": "Python 3.8.5 64-bit",
   "language": "python",
   "name": "python3"
  },
  "language_info": {
   "codemirror_mode": {
    "name": "ipython",
    "version": 3
   },
   "file_extension": ".py",
   "mimetype": "text/x-python",
   "name": "python",
   "nbconvert_exporter": "python",
   "pygments_lexer": "ipython3",
   "version": "3.8.5"
  },
  "orig_nbformat": 4
 },
 "nbformat": 4,
 "nbformat_minor": 2
}
